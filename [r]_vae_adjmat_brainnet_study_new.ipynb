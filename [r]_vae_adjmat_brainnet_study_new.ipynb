{
  "nbformat": 4,
  "nbformat_minor": 0,
  "metadata": {
    "colab": {
      "name": "[r] vae adjmat brainnet study new.ipynb",
      "provenance": [],
      "authorship_tag": "ABX9TyOWWVjGHtVJ6ayV4bBGnjQD",
      "include_colab_link": true
    },
    "kernelspec": {
      "name": "python3",
      "display_name": "Python 3"
    },
    "language_info": {
      "name": "python"
    },
    "accelerator": "GPU"
  },
  "cells": [
    {
      "cell_type": "markdown",
      "metadata": {
        "id": "view-in-github",
        "colab_type": "text"
      },
      "source": [
        "<a href=\"https://colab.research.google.com/github/taechanha/inverseDesignMetaMatl/blob/main/%5Br%5D_vae_adjmat_brainnet_study_new.ipynb\" target=\"_parent\"><img src=\"https://colab.research.google.com/assets/colab-badge.svg\" alt=\"Open In Colab\"/></a>"
      ]
    },
    {
      "cell_type": "code",
      "metadata": {
        "colab": {
          "base_uri": "https://localhost:8080/"
        },
        "id": "O_ifmV0_ODzD",
        "outputId": "a316a054-2e2c-421d-ef04-15cb472a512d"
      },
      "source": [
        "###################### FROM HERE ######################\n",
        "###################### FROM HERE ######################\n",
        "###################### FROM HERE ######################\n",
        "###################### FROM HERE ######################\n",
        "###################### FROM HERE ######################\n",
        "###################### FROM HERE ######################\n",
        "###################### FROM HERE ######################\n",
        "###################### FROM HERE ######################\n",
        " \n",
        "import numpy as np\n",
        "import matplotlib.pyplot as plt\n",
        " \n",
        "f = open(\"/content/dset4109.txt\", 'r')\n",
        "data = []\n",
        "length = 0\n",
        "for i in f:\n",
        "  new = []\n",
        "  new.append(i)\n",
        "  data.append(new)\n",
        " \n",
        "  # length of dataset\n",
        "  length += 1\n",
        " \n",
        "f.close()\n",
        " \n",
        "# create dataset from data\n",
        "dataset = []\n",
        "for i in range(length):\n",
        "  new = []\n",
        "  for j in data[i][0].split(','):\n",
        "    new.append(float(j))\n",
        "  dataset.append(new)\n",
        " \n",
        " \n",
        "# trim out label from dataset\n",
        "# Ex Ey Ez\n",
        "label = []\n",
        "new = []\n",
        "for line in dataset:\n",
        "  tmp = []\n",
        "  tmp.append(line.pop(-1))\n",
        "  tmp.append(line.pop(-1))\n",
        "  tmp.append(line.pop(-1))\n",
        "  tmp.reverse()\n",
        "  label.append(tmp)\n",
        " \n",
        "print(\"label.shape: \", np.array(label).shape)\n",
        " \n",
        " \n",
        "# create edge_index\n",
        "edge_mat = np.zeros(shape=(27,27))\n",
        "edge_index = []\n",
        " \n",
        "for e in range(len(dataset)):\n",
        "  for i in range(0, 27):\n",
        "    for j in range(i+1, 27):\n",
        "      edge_mat[i][j] = dataset[e].pop(0)\n",
        "  edge_index.append(edge_mat + edge_mat.T)\n",
        " \n",
        " \n",
        "# whole dataset to Tensor & train/test split\n",
        "import os\n",
        "import torch\n",
        "from torch.utils.data import Dataset\n",
        "from torchvision import datasets\n",
        "from torchvision.transforms import ToTensor\n",
        "import matplotlib.pyplot as plt\n",
        " \n",
        "edge_index = torch.FloatTensor(edge_index)\n",
        "label = torch.FloatTensor(label)\n",
        " \n",
        "split = int(length * 0.8)\n",
        " \n",
        "x_train = edge_index[:split]\n",
        "y_train = label[:split]\n",
        "x_val = edge_index[split:]\n",
        "y_val = label[split:]\n",
        " \n",
        "print(\"x_train, y_train, x_val shape: \", x_train.shape, y_train.shape, x_val.shape)\n",
        " \n",
        "# create torch dataset\n",
        "import os\n",
        "import torch\n",
        "from torch.utils.data import Dataset\n",
        "from torchvision import datasets\n",
        "from torchvision.transforms import ToTensor\n",
        "import matplotlib.pyplot as plt\n",
        " \n",
        "class CustomDataset(Dataset):\n",
        "    def __init__(self, label, dataset, transform=None, target_transform=None):\n",
        "        self.labels = label\n",
        "        self.dataset = dataset\n",
        "        self.transform = transform\n",
        "        self.target_transform = target_transform\n",
        " \n",
        "    def __len__(self):\n",
        "        return len(self.labels)\n",
        " \n",
        "    def __getitem__(self, idx):\n",
        "        data = self.dataset[idx]\n",
        "        label = self.labels[idx]\n",
        "        if self.transform:\n",
        "            data = self.transform(data)\n",
        "        if self.target_transform:\n",
        "            label = self.target_transform(label)\n",
        "        return data, label\n",
        " \n",
        "# create DataLoader\n",
        "from torch.utils.data import DataLoader\n",
        " \n",
        "training_data   = CustomDataset(label=y_train, dataset=x_train)\n",
        "test_data       = CustomDataset(label=y_val, dataset=x_val)\n",
        "train_loader    = DataLoader(training_data, batch_size=32, shuffle=True)\n",
        "test_loader     = DataLoader(test_data, batch_size=32, shuffle=False)"
      ],
      "execution_count": 1,
      "outputs": [
        {
          "output_type": "stream",
          "name": "stdout",
          "text": [
            "label.shape:  (4109, 3)\n",
            "x_train, y_train, x_val shape:  torch.Size([3287, 27, 27]) torch.Size([3287, 3]) torch.Size([822, 27, 27])\n"
          ]
        }
      ]
    },
    {
      "cell_type": "code",
      "metadata": {
        "id": "UQynNQoAOXMv"
      },
      "source": [
        "def train(model, train_losses, epoch):\n",
        "    model.train()\n",
        "    train_loss = 0\n",
        "    for x, y in train_loader:\n",
        "        x, y = x.cuda().float(), y.cuda()\n",
        "        optimizer.zero_grad()\n",
        "        o, mu, logvar = model(x)\n",
        "        loss = loss_function(o, x, mu, logvar)\n",
        "        loss.backward()\n",
        "        optimizer.step()\n",
        "\n",
        "        train_loss += loss.item()\n",
        "\n",
        "    print('====> Epoch: {} loss: {:.4f}'.format(e, train_loss / len(x_train)))\n",
        "    train_losses.append(train_loss / len(x_train))\n",
        "\n",
        "def test(model, val_losses):\n",
        "    model.eval()\n",
        "    test_loss = 0\n",
        "    with torch.no_grad():\n",
        "        for x, y in test_loader:\n",
        "            x, y = x.cuda().float(), y.cuda()       \n",
        "            o, mu, logvar = model(x)\n",
        "            loss = loss_function(o, x, mu, logvar)\n",
        "            \n",
        "            test_loss += loss.item()\n",
        "    print('====> Test set loss: {:.4f}'.format(test_loss / len(x_val)))\n",
        "    val_losses.append(test_loss / len(x_val))\n",
        "\n",
        "\n",
        "def test_pred(model):\n",
        "    y_pred = []\n",
        "    model.eval()\n",
        "    test_loss = 0\n",
        "    with torch.no_grad():\n",
        "        for x, y in test_loader:\n",
        "            x, y = x.cuda().float(), y.cuda()       \n",
        "            o, mu, logvar = model(x)\n",
        "            y_pred.append(o)\n",
        "\n",
        "            loss = loss_function(o, x, mu, logvar)\n",
        "            test_loss += loss.item()\n",
        "    print('====> Test set loss: {:.4f}'.format(test_loss / len(x_val)))\n",
        "\n",
        "    return y_pred"
      ],
      "execution_count": 2,
      "outputs": []
    },
    {
      "cell_type": "code",
      "metadata": {
        "colab": {
          "base_uri": "https://localhost:8080/"
        },
        "id": "vhiYzr6LOSIP",
        "outputId": "f6e713f2-d756-4c20-af24-95a63fab2c62"
      },
      "source": [
        "import torch\n",
        "import torch.utils.data\n",
        "from torch import nn, optim\n",
        "from torch.nn import functional as F\n",
        "from torchvision import datasets, transforms\n",
        "\n",
        "class VAE(nn.Module):\n",
        "    def __init__(self):\n",
        "        super(VAE, self).__init__()\n",
        "        self.conv1 = nn.Conv2d(1, 16, 2, 2)\n",
        "        \n",
        "        self.fc1 = nn.Linear(2704, 2)\n",
        "        self.fc2 = nn.Linear(2704, 2)\n",
        "        self.fc3 = nn.Linear(2, 2704)\n",
        "\n",
        "        self.deconv1 = nn.ConvTranspose2d(16, 1, 3, 2)\n",
        "        #self.deconv2 = nn.ConvTranspose2d(1, 1, 3, 2)\n",
        "\n",
        "    def encode(self, x):\n",
        "        #print(\"first:                      \", x.shape)\n",
        "        x = x.unsqueeze(1)\n",
        "        #print(\"unsqueeze(1):               \", x.shape)\n",
        "        x = self.conv1(x)\n",
        "        #print(\"conv1(x):                   \", x.shape)\n",
        "\n",
        "        x = x.view(x.size(0), -1)\n",
        "        #print(\"view(x.size(0), -1):        \", x.shape)\n",
        "        mu, sigma = self.fc1(x), self.fc2(x)\n",
        "        #print(\"mu:                         \", mu.shape)\n",
        "    \n",
        "        return mu, sigma\n",
        "\n",
        "    def reparameterize(self, mu, logvar):\n",
        "        std = torch.exp(0.5*logvar)\n",
        "        eps = torch.randn_like(std)\n",
        "        return mu + eps*std\n",
        "\n",
        "    def decode(self, z):\n",
        "        #print()\n",
        "        #print(\"first:                     \", z.shape)\n",
        "        x = self.fc3(z)\n",
        "        #print(\"fc3(z):                    \", x.shape)\n",
        "\n",
        "        x = x.view(x.size(0), 16, 13, 13)\n",
        "        #print(\"view(x.size(0), 16, 13, 13): \", x.shape)\n",
        "\n",
        "        x = self.deconv1(x)\n",
        "        #print(\"deconv1(x):                \", x.shape)\n",
        "        #x = self.deconv2(x)\n",
        "        #print(\"deconv2(x):                \", x.shape)\n",
        "        x = x.view(-1, 729)\n",
        "        #print(\"view(-1, 729):             \", x.shape)\n",
        "        x = torch.sigmoid(x)\n",
        "\n",
        "        return x\n",
        "\n",
        "    def forward(self, x):\n",
        "        mu, logvar = self.encode(x)\n",
        "        z = self.reparameterize(mu, logvar)\n",
        "        return self.decode(z), mu, logvar\n",
        "\n",
        "model = VAE().cuda()\n",
        "model"
      ],
      "execution_count": null,
      "outputs": [
        {
          "output_type": "execute_result",
          "data": {
            "text/plain": [
              "VAE(\n",
              "  (conv1): Conv2d(1, 16, kernel_size=(2, 2), stride=(2, 2))\n",
              "  (fc1): Linear(in_features=2704, out_features=2, bias=True)\n",
              "  (fc2): Linear(in_features=2704, out_features=2, bias=True)\n",
              "  (fc3): Linear(in_features=2, out_features=2704, bias=True)\n",
              "  (deconv1): ConvTranspose2d(16, 1, kernel_size=(3, 3), stride=(2, 2))\n",
              ")"
            ]
          },
          "metadata": {},
          "execution_count": 450
        }
      ]
    },
    {
      "cell_type": "code",
      "metadata": {
        "colab": {
          "base_uri": "https://localhost:8080/"
        },
        "id": "IChei5YfOYRE",
        "outputId": "7e211ea2-d6a1-4f59-aebf-6bdf90c0c3db"
      },
      "source": [
        "def loss_function(recon_x, x, mu, logvar):\n",
        "    \n",
        "    BCE = F.binary_cross_entropy(recon_x, x.view(-1, 729), reduction='sum')\n",
        "    KLD = -0.5 * torch.sum(1 + logvar - mu.pow(2) - logvar.exp())\n",
        "\n",
        "    return BCE + KLD\n",
        "\n",
        "import torch.optim as optim\n",
        "optimizer = optim.Adam(model.parameters(), lr=1e-4)\n",
        "#loss_function = loss_function()\n",
        "epochs = 50\n",
        "\n",
        "# for loss plot\n",
        "tloss = []\n",
        "vloss = []\n",
        "\n",
        "for e in range(1, epochs+1):\n",
        "    train(model, tloss, e)\n",
        "    test(model, vloss)\n",
        "\n",
        "y_pred = test_pred(model)"
      ],
      "execution_count": null,
      "outputs": [
        {
          "output_type": "stream",
          "text": [
            "====> Epoch: 1 loss: 142.8007\n",
            "====> Test set loss: 143.6416\n",
            "====> Epoch: 2 loss: 142.7592\n",
            "====> Test set loss: 143.5353\n",
            "====> Epoch: 3 loss: 142.7422\n",
            "====> Test set loss: 143.4810\n",
            "====> Epoch: 4 loss: 142.7209\n",
            "====> Test set loss: 143.5037\n",
            "====> Epoch: 5 loss: 142.6319\n",
            "====> Test set loss: 143.5852\n",
            "====> Epoch: 6 loss: 142.6671\n",
            "====> Test set loss: 143.5448\n",
            "====> Epoch: 7 loss: 142.6454\n",
            "====> Test set loss: 143.5057\n",
            "====> Epoch: 8 loss: 142.6182\n",
            "====> Test set loss: 143.3561\n",
            "====> Epoch: 9 loss: 142.5958\n",
            "====> Test set loss: 143.4077\n",
            "====> Epoch: 10 loss: 142.5032\n",
            "====> Test set loss: 143.2978\n",
            "====> Epoch: 11 loss: 142.4892\n",
            "====> Test set loss: 143.2747\n",
            "====> Epoch: 12 loss: 142.4512\n",
            "====> Test set loss: 143.2987\n",
            "====> Epoch: 13 loss: 142.4332\n",
            "====> Test set loss: 143.1920\n",
            "====> Epoch: 14 loss: 142.4385\n",
            "====> Test set loss: 143.3112\n",
            "====> Epoch: 15 loss: 142.4256\n",
            "====> Test set loss: 143.1762\n",
            "====> Epoch: 16 loss: 142.4015\n",
            "====> Test set loss: 143.1630\n",
            "====> Epoch: 17 loss: 142.3888\n",
            "====> Test set loss: 143.2386\n",
            "====> Epoch: 18 loss: 142.3447\n",
            "====> Test set loss: 143.2802\n",
            "====> Epoch: 19 loss: 142.3293\n",
            "====> Test set loss: 143.1088\n",
            "====> Epoch: 20 loss: 142.2621\n",
            "====> Test set loss: 143.0443\n",
            "====> Epoch: 21 loss: 142.3065\n",
            "====> Test set loss: 143.1661\n",
            "====> Epoch: 22 loss: 142.2446\n",
            "====> Test set loss: 143.0886\n",
            "====> Epoch: 23 loss: 142.2346\n",
            "====> Test set loss: 143.1529\n",
            "====> Epoch: 24 loss: 142.2757\n",
            "====> Test set loss: 143.0250\n",
            "====> Epoch: 25 loss: 142.2381\n",
            "====> Test set loss: 143.0321\n",
            "====> Epoch: 26 loss: 142.2127\n",
            "====> Test set loss: 143.0094\n",
            "====> Epoch: 27 loss: 142.1704\n",
            "====> Test set loss: 143.0492\n",
            "====> Epoch: 28 loss: 142.1833\n",
            "====> Test set loss: 143.1673\n",
            "====> Epoch: 29 loss: 142.1918\n",
            "====> Test set loss: 142.9170\n",
            "====> Epoch: 30 loss: 142.1469\n",
            "====> Test set loss: 142.9038\n",
            "====> Epoch: 31 loss: 142.0549\n",
            "====> Test set loss: 143.0184\n",
            "====> Epoch: 32 loss: 142.0977\n",
            "====> Test set loss: 142.9649\n",
            "====> Epoch: 33 loss: 142.0548\n",
            "====> Test set loss: 142.9519\n",
            "====> Epoch: 34 loss: 142.0636\n",
            "====> Test set loss: 142.9334\n",
            "====> Epoch: 35 loss: 142.0857\n",
            "====> Test set loss: 142.8517\n",
            "====> Epoch: 36 loss: 142.0456\n",
            "====> Test set loss: 142.9268\n",
            "====> Epoch: 37 loss: 142.0281\n",
            "====> Test set loss: 142.8547\n",
            "====> Epoch: 38 loss: 142.0424\n",
            "====> Test set loss: 142.9091\n",
            "====> Epoch: 39 loss: 142.0331\n",
            "====> Test set loss: 142.7754\n",
            "====> Epoch: 40 loss: 141.9765\n",
            "====> Test set loss: 142.7609\n",
            "====> Epoch: 41 loss: 141.9394\n",
            "====> Test set loss: 142.8804\n",
            "====> Epoch: 42 loss: 141.9408\n",
            "====> Test set loss: 142.8126\n",
            "====> Epoch: 43 loss: 141.9601\n",
            "====> Test set loss: 142.7569\n",
            "====> Epoch: 44 loss: 141.8934\n",
            "====> Test set loss: 142.7264\n",
            "====> Epoch: 45 loss: 141.9306\n",
            "====> Test set loss: 142.7483\n",
            "====> Epoch: 46 loss: 141.9241\n",
            "====> Test set loss: 142.8036\n",
            "====> Epoch: 47 loss: 141.8761\n",
            "====> Test set loss: 142.6840\n",
            "====> Epoch: 48 loss: 141.8664\n",
            "====> Test set loss: 142.7125\n",
            "====> Epoch: 49 loss: 141.8589\n",
            "====> Test set loss: 142.7403\n",
            "====> Epoch: 50 loss: 141.8763\n",
            "====> Test set loss: 142.7974\n",
            "====> Test set loss: 142.6022\n"
          ],
          "name": "stdout"
        }
      ]
    },
    {
      "cell_type": "code",
      "metadata": {
        "colab": {
          "base_uri": "https://localhost:8080/"
        },
        "id": "zdirTkwCOgDw",
        "outputId": "3b0965d9-6fee-453a-e9bf-6d22ff33aecc"
      },
      "source": [
        "y_pred = test_pred(model)"
      ],
      "execution_count": null,
      "outputs": [
        {
          "output_type": "stream",
          "text": [
            "====> Test set loss: 143.6845\n"
          ],
          "name": "stdout"
        }
      ]
    },
    {
      "cell_type": "code",
      "metadata": {
        "colab": {
          "base_uri": "https://localhost:8080/"
        },
        "id": "UzCGQM96Qxcj",
        "outputId": "94821464-b0aa-47b0-ead1-09859796d94b"
      },
      "source": [
        "y_pred[0].shape, x_val[:32].shape"
      ],
      "execution_count": null,
      "outputs": [
        {
          "output_type": "execute_result",
          "data": {
            "text/plain": [
              "(torch.Size([32, 729]), torch.Size([32, 27, 27]))"
            ]
          },
          "metadata": {},
          "execution_count": 456
        }
      ]
    },
    {
      "cell_type": "code",
      "metadata": {
        "colab": {
          "base_uri": "https://localhost:8080/",
          "height": 517
        },
        "id": "ixILjP-OQq2Y",
        "outputId": "8e75dfcf-ce27-4119-8eb6-7300fe88b670"
      },
      "source": [
        "import numpy as np\n",
        "import matplotlib.pyplot as plt\n",
        "\n",
        "x_pred = y_pred[0].view(32, 27, 27)\n",
        "\n",
        "plt.imshow(x_pred[2].cpu())\n",
        "plt.colorbar()\n",
        "plt.show()\n",
        "\n",
        "plt.imshow(x_val[2])\n",
        "plt.colorbar()\n",
        "plt.show()"
      ],
      "execution_count": null,
      "outputs": [
        {
          "output_type": "display_data",
          "data": {
            "image/png": "[encoded data removed]",
            "text/plain": [
              "<Figure size 432x288 with 2 Axes>"
            ]
          },
          "metadata": {
            "needs_background": "light"
          }
        },
        {
          "output_type": "display_data",
          "data": {
            "image/png": "[encoded data removed]",
            "text/plain": [
              "<Figure size 432x288 with 2 Axes>"
            ]
          },
          "metadata": {
            "needs_background": "light"
          }
        }
      ]
    },
    {
      "cell_type": "code",
      "metadata": {
        "id": "Opc3FsIFDV6j"
      },
      "source": [
        "#"
      ],
      "execution_count": null,
      "outputs": []
    },
    {
      "cell_type": "code",
      "metadata": {
        "id": "4rhwRqhxDZJR",
        "colab": {
          "base_uri": "https://localhost:8080/"
        },
        "outputId": "9e36a230-7c87-42d1-8de8-5ff9419adbc4"
      },
      "source": [
        "import torch\n",
        "import torch.utils.data\n",
        "from torch import nn, optim\n",
        "from torch.nn import functional as F\n",
        "from torchvision import datasets, transforms\n",
        "\n",
        "out_dim = 16\n",
        "\n",
        "class VAE(nn.Module):\n",
        "    def __init__(self, out_dim=out_dim, fc_in_dim=out_dim*(int((27-3+2*0)/1)+1)**2):\n",
        "        super(VAE, self).__init__()\n",
        "        self.conv1 = nn.Conv2d(1, out_dim, 3, 1)\n",
        "        #self.conv2 = nn.Conv2d(out_dim, out_dim*2, 3, 1)\n",
        "\n",
        "        self.fc0 = nn.Linear(fc_in_dim, fc_in_dim//256)\n",
        "        self.fc1 = nn.Linear(fc_in_dim//256, 2)\n",
        "        self.fc2 = nn.Linear(fc_in_dim//256, 2)\n",
        "        \n",
        "        self.fc3 = nn.Linear(2, fc_in_dim//256)\n",
        "        self.fc30 = nn.Linear(fc_in_dim//256, fc_in_dim)\n",
        "\n",
        "        #self.deconv1 = nn.ConvTranspose2d(out_dim*2, out_dim, 3, 1)\n",
        "        self.deconv1 = nn.ConvTranspose2d(out_dim, 1, 3, 1)\n",
        "\n",
        "    def encode(self, x):\n",
        "        x = x.unsqueeze(1)\n",
        "        x = F.relu(self.conv1(x))\n",
        "        x = x.view(x.size(0), -1)\n",
        "\n",
        "        x = F.relu(self.fc0(x))\n",
        "\n",
        "        mu, sigma = F.relu(self.fc1(x)), F.relu(self.fc2(x))\n",
        "        return mu, sigma\n",
        "\n",
        "    def reparameterize(self, mu, logvar):\n",
        "        std = torch.exp(0.5*logvar)\n",
        "        eps = torch.randn_like(std)\n",
        "        return mu + eps*std\n",
        "\n",
        "    def decode(self, z):\n",
        "        x = F.relu(self.fc3(z))\n",
        "        x = F.relu(self.fc30(x))\n",
        "\n",
        "        x = x.view(x.size(0), out_dim, 25, 25)\n",
        "\n",
        "        x = self.deconv1(x)\n",
        "\n",
        "        x = x.view(-1, 729)\n",
        "        x = torch.sigmoid(x)\n",
        "\n",
        "        return x\n",
        "\n",
        "    def forward(self, x):\n",
        "        mu, logvar = self.encode(x)\n",
        "        z = self.reparameterize(mu, logvar)\n",
        "        return self.decode(z), mu, logvar\n",
        "\n",
        "\n",
        "\n",
        "def weights_init(m):\n",
        "    if isinstance(m, nn.ConvTranspose2d):\n",
        "        nn.init.xavier_normal_(m.weight.data, nn.init.calculate_gain('relu'))\n",
        "    if isinstance(m, nn.Conv2d):\n",
        "        nn.init.xavier_normal_(m.weight.data)\n",
        "    if isinstance(m, nn.Linear):\n",
        "        nn.init.xavier_normal_(m.weight.data, nn.init.calculate_gain('relu'))\n",
        " \n",
        "torch.manual_seed(42)\n",
        "model = VAE().cuda()\n",
        "model.apply(weights_init)\n",
        "print(\"model: \\n\", model)"
      ],
      "execution_count": 14,
      "outputs": [
        {
          "output_type": "stream",
          "name": "stdout",
          "text": [
            "model: \n",
            " VAE(\n",
            "  (conv1): Conv2d(1, 16, kernel_size=(3, 3), stride=(1, 1))\n",
            "  (fc0): Linear(in_features=10000, out_features=39, bias=True)\n",
            "  (fc1): Linear(in_features=39, out_features=2, bias=True)\n",
            "  (fc2): Linear(in_features=39, out_features=2, bias=True)\n",
            "  (fc3): Linear(in_features=2, out_features=39, bias=True)\n",
            "  (fc30): Linear(in_features=39, out_features=10000, bias=True)\n",
            "  (deconv1): ConvTranspose2d(16, 1, kernel_size=(3, 3), stride=(1, 1))\n",
            ")\n"
          ]
        }
      ]
    },
    {
      "cell_type": "code",
      "metadata": {
        "id": "KjjfZg6nDs8c",
        "colab": {
          "base_uri": "https://localhost:8080/"
        },
        "outputId": "2a5b8361-e8bf-41ec-c7b0-3a00a41e55ee"
      },
      "source": [
        "# the number of trainable parameter\n",
        "sum(p.numel() for p in model.parameters() if p.requires_grad)"
      ],
      "execution_count": 15,
      "outputs": [
        {
          "output_type": "execute_result",
          "data": {
            "text/plain": [
              "790621"
            ]
          },
          "metadata": {},
          "execution_count": 15
        }
      ]
    },
    {
      "cell_type": "code",
      "metadata": {
        "id": "MFTzGaO1DV-B",
        "colab": {
          "base_uri": "https://localhost:8080/"
        },
        "outputId": "02a95992-e3fd-4ed4-c525-c5ff197fe3ab"
      },
      "source": [
        "def loss_function(recon_x, x, mu, logvar):\n",
        "    \n",
        "    BCE = F.binary_cross_entropy(recon_x, x.view(-1, 729), reduction='sum')\n",
        "    KLD = -0.5 * torch.sum(1 + logvar - mu.pow(2) - logvar.exp())\n",
        "\n",
        "    return BCE + KLD\n",
        "\n",
        "import torch.optim as optim\n",
        "optimizer = optim.Adam(model.parameters(), lr=1e-4)\n",
        "#loss_function = loss_function()\n",
        "epochs = 100\n",
        "\n",
        "# for loss plot\n",
        "tloss = []\n",
        "vloss = []\n",
        "\n",
        "for e in range(1, epochs+1):\n",
        "    train(model, tloss, e)\n",
        "    test(model, vloss)\n",
        "\n",
        "y_pred = test_pred(model)"
      ],
      "execution_count": 16,
      "outputs": [
        {
          "output_type": "stream",
          "name": "stdout",
          "text": [
            "====> Epoch: 1 loss: 293.2416\n",
            "====> Test set loss: 234.8544\n",
            "====> Epoch: 2 loss: 216.6901\n",
            "====> Test set loss: 199.7947\n",
            "====> Epoch: 3 loss: 189.4448\n",
            "====> Test set loss: 182.4901\n",
            "====> Epoch: 4 loss: 172.8513\n",
            "====> Test set loss: 167.1502\n",
            "====> Epoch: 5 loss: 160.8888\n",
            "====> Test set loss: 157.6466\n",
            "====> Epoch: 6 loss: 153.5862\n",
            "====> Test set loss: 151.1491\n",
            "====> Epoch: 7 loss: 149.0759\n",
            "====> Test set loss: 147.9188\n",
            "====> Epoch: 8 loss: 146.3989\n",
            "====> Test set loss: 145.7970\n",
            "====> Epoch: 9 loss: 144.7205\n",
            "====> Test set loss: 144.5386\n",
            "====> Epoch: 10 loss: 143.6363\n",
            "====> Test set loss: 143.7195\n",
            "====> Epoch: 11 loss: 142.9016\n",
            "====> Test set loss: 142.9517\n",
            "====> Epoch: 12 loss: 142.2504\n",
            "====> Test set loss: 142.5071\n",
            "====> Epoch: 13 loss: 141.8083\n",
            "====> Test set loss: 142.3235\n",
            "====> Epoch: 14 loss: 141.4333\n",
            "====> Test set loss: 141.7956\n",
            "====> Epoch: 15 loss: 141.1808\n",
            "====> Test set loss: 141.9122\n",
            "====> Epoch: 16 loss: 140.8725\n",
            "====> Test set loss: 141.4351\n",
            "====> Epoch: 17 loss: 140.7173\n",
            "====> Test set loss: 141.2791\n",
            "====> Epoch: 18 loss: 140.4875\n",
            "====> Test set loss: 141.2088\n",
            "====> Epoch: 19 loss: 140.4063\n",
            "====> Test set loss: 141.1249\n",
            "====> Epoch: 20 loss: 140.1989\n",
            "====> Test set loss: 140.9855\n",
            "====> Epoch: 21 loss: 140.0732\n",
            "====> Test set loss: 140.8061\n",
            "====> Epoch: 22 loss: 140.0183\n",
            "====> Test set loss: 140.8794\n",
            "====> Epoch: 23 loss: 139.9314\n",
            "====> Test set loss: 140.6407\n",
            "====> Epoch: 24 loss: 139.8733\n",
            "====> Test set loss: 140.6815\n",
            "====> Epoch: 25 loss: 139.8018\n",
            "====> Test set loss: 140.5170\n",
            "====> Epoch: 26 loss: 139.7231\n",
            "====> Test set loss: 140.5006\n",
            "====> Epoch: 27 loss: 139.6791\n",
            "====> Test set loss: 140.3837\n",
            "====> Epoch: 28 loss: 139.6767\n",
            "====> Test set loss: 140.3538\n",
            "====> Epoch: 29 loss: 139.5952\n",
            "====> Test set loss: 140.3430\n",
            "====> Epoch: 30 loss: 139.5454\n",
            "====> Test set loss: 140.3156\n",
            "====> Epoch: 31 loss: 139.5007\n",
            "====> Test set loss: 140.1734\n",
            "====> Epoch: 32 loss: 139.4955\n",
            "====> Test set loss: 140.1941\n",
            "====> Epoch: 33 loss: 139.4276\n",
            "====> Test set loss: 140.1854\n",
            "====> Epoch: 34 loss: 139.4161\n",
            "====> Test set loss: 140.1576\n",
            "====> Epoch: 35 loss: 139.4021\n",
            "====> Test set loss: 140.1528\n",
            "====> Epoch: 36 loss: 139.3591\n",
            "====> Test set loss: 140.0957\n",
            "====> Epoch: 37 loss: 139.3513\n",
            "====> Test set loss: 140.1357\n",
            "====> Epoch: 38 loss: 139.3564\n",
            "====> Test set loss: 140.0928\n",
            "====> Epoch: 39 loss: 139.3004\n",
            "====> Test set loss: 140.0524\n",
            "====> Epoch: 40 loss: 139.3117\n",
            "====> Test set loss: 140.0090\n",
            "====> Epoch: 41 loss: 139.3002\n",
            "====> Test set loss: 140.0137\n",
            "====> Epoch: 42 loss: 139.2580\n",
            "====> Test set loss: 140.0364\n",
            "====> Epoch: 43 loss: 139.2599\n",
            "====> Test set loss: 139.9518\n",
            "====> Epoch: 44 loss: 139.2270\n",
            "====> Test set loss: 139.9971\n",
            "====> Epoch: 45 loss: 139.2520\n",
            "====> Test set loss: 139.9166\n",
            "====> Epoch: 46 loss: 139.2324\n",
            "====> Test set loss: 139.9578\n",
            "====> Epoch: 47 loss: 139.2172\n",
            "====> Test set loss: 139.9441\n",
            "====> Epoch: 48 loss: 139.2054\n",
            "====> Test set loss: 139.9503\n",
            "====> Epoch: 49 loss: 139.2127\n",
            "====> Test set loss: 139.9267\n",
            "====> Epoch: 50 loss: 139.1779\n",
            "====> Test set loss: 139.9154\n",
            "====> Epoch: 51 loss: 139.1828\n",
            "====> Test set loss: 139.9472\n",
            "====> Epoch: 52 loss: 139.1781\n",
            "====> Test set loss: 139.9214\n",
            "====> Epoch: 53 loss: 139.1844\n",
            "====> Test set loss: 139.9262\n",
            "====> Epoch: 54 loss: 139.1642\n",
            "====> Test set loss: 139.8831\n",
            "====> Epoch: 55 loss: 139.1532\n",
            "====> Test set loss: 139.8881\n",
            "====> Epoch: 56 loss: 139.1638\n",
            "====> Test set loss: 139.8789\n",
            "====> Epoch: 57 loss: 139.1630\n",
            "====> Test set loss: 139.9066\n",
            "====> Epoch: 58 loss: 139.1378\n",
            "====> Test set loss: 139.8548\n",
            "====> Epoch: 59 loss: 139.1493\n",
            "====> Test set loss: 139.8683\n",
            "====> Epoch: 60 loss: 139.1360\n",
            "====> Test set loss: 139.8579\n",
            "====> Epoch: 61 loss: 139.1175\n",
            "====> Test set loss: 139.8471\n",
            "====> Epoch: 62 loss: 139.1484\n",
            "====> Test set loss: 139.8535\n",
            "====> Epoch: 63 loss: 139.1164\n",
            "====> Test set loss: 139.8491\n",
            "====> Epoch: 64 loss: 139.1096\n",
            "====> Test set loss: 139.8338\n",
            "====> Epoch: 65 loss: 139.1050\n",
            "====> Test set loss: 139.8320\n",
            "====> Epoch: 66 loss: 139.1142\n",
            "====> Test set loss: 139.8304\n",
            "====> Epoch: 67 loss: 139.1111\n",
            "====> Test set loss: 139.7948\n",
            "====> Epoch: 68 loss: 139.0910\n",
            "====> Test set loss: 139.8148\n",
            "====> Epoch: 69 loss: 139.1023\n",
            "====> Test set loss: 139.8253\n",
            "====> Epoch: 70 loss: 139.1063\n",
            "====> Test set loss: 139.8474\n",
            "====> Epoch: 71 loss: 139.0986\n",
            "====> Test set loss: 139.8106\n",
            "====> Epoch: 72 loss: 139.0933\n",
            "====> Test set loss: 139.8662\n",
            "====> Epoch: 73 loss: 139.0934\n",
            "====> Test set loss: 139.8039\n",
            "====> Epoch: 74 loss: 139.0830\n",
            "====> Test set loss: 139.8192\n",
            "====> Epoch: 75 loss: 139.0966\n",
            "====> Test set loss: 139.8300\n",
            "====> Epoch: 76 loss: 139.0886\n",
            "====> Test set loss: 139.8303\n",
            "====> Epoch: 77 loss: 139.1106\n",
            "====> Test set loss: 139.8137\n",
            "====> Epoch: 78 loss: 139.0875\n",
            "====> Test set loss: 139.8291\n",
            "====> Epoch: 79 loss: 139.0767\n",
            "====> Test set loss: 139.8175\n",
            "====> Epoch: 80 loss: 139.0854\n",
            "====> Test set loss: 139.8175\n",
            "====> Epoch: 81 loss: 139.0863\n",
            "====> Test set loss: 139.8173\n",
            "====> Epoch: 82 loss: 139.1027\n",
            "====> Test set loss: 139.8424\n",
            "====> Epoch: 83 loss: 139.0885\n",
            "====> Test set loss: 139.8284\n",
            "====> Epoch: 84 loss: 139.0609\n",
            "====> Test set loss: 139.8271\n",
            "====> Epoch: 85 loss: 139.0857\n",
            "====> Test set loss: 139.8471\n",
            "====> Epoch: 86 loss: 139.0824\n",
            "====> Test set loss: 139.8097\n",
            "====> Epoch: 87 loss: 139.0690\n",
            "====> Test set loss: 139.8461\n",
            "====> Epoch: 88 loss: 139.0701\n",
            "====> Test set loss: 139.8143\n",
            "====> Epoch: 89 loss: 139.0913\n",
            "====> Test set loss: 139.8048\n",
            "====> Epoch: 90 loss: 139.0923\n",
            "====> Test set loss: 139.8065\n",
            "====> Epoch: 91 loss: 139.0559\n",
            "====> Test set loss: 139.8308\n",
            "====> Epoch: 92 loss: 139.0497\n",
            "====> Test set loss: 139.8186\n",
            "====> Epoch: 93 loss: 139.0801\n",
            "====> Test set loss: 139.8173\n",
            "====> Epoch: 94 loss: 139.0692\n",
            "====> Test set loss: 139.7842\n",
            "====> Epoch: 95 loss: 139.1033\n",
            "====> Test set loss: 139.8188\n",
            "====> Epoch: 96 loss: 139.0576\n",
            "====> Test set loss: 139.8152\n",
            "====> Epoch: 97 loss: 139.0692\n",
            "====> Test set loss: 139.8240\n",
            "====> Epoch: 98 loss: 139.0869\n",
            "====> Test set loss: 139.8176\n",
            "====> Epoch: 99 loss: 139.0687\n",
            "====> Test set loss: 139.7800\n",
            "====> Epoch: 100 loss: 139.0676\n",
            "====> Test set loss: 139.8270\n",
            "====> Test set loss: 139.8117\n"
          ]
        }
      ]
    },
    {
      "cell_type": "code",
      "metadata": {
        "colab": {
          "base_uri": "https://localhost:8080/"
        },
        "id": "oBvgCYUSHKnm",
        "outputId": "62741423-3d3a-4bd3-8b49-232004758130"
      },
      "source": [
        "y_pred = test_pred(model)"
      ],
      "execution_count": 17,
      "outputs": [
        {
          "output_type": "stream",
          "name": "stdout",
          "text": [
            "====> Test set loss: 139.7989\n"
          ]
        }
      ]
    },
    {
      "cell_type": "code",
      "metadata": {
        "colab": {
          "base_uri": "https://localhost:8080/",
          "height": 255
        },
        "id": "AyP96-j4GdSt",
        "outputId": "42bd78b3-cc39-47df-ea0f-c12e2d57e353"
      },
      "source": [
        "import matplotlib.pyplot as plt\n",
        "\n",
        "plt.figure(figsize=(20,5))\n",
        "plt.title(\"Training and Validation Loss\")\n",
        "plt.plot(np.array(vloss), label=\"valid\")\n",
        "plt.plot(np.array(tloss), label=\"train\")\n",
        "plt.xlabel(\"Epochs\")\n",
        "plt.ylabel(\"Loss\")\n",
        "plt.legend()"
      ],
      "execution_count": 18,
      "outputs": [
        {
          "output_type": "execute_result",
          "data": {
            "text/plain": [
              "<matplotlib.legend.Legend at 0x7f29efb7d9d0>"
            ]
          },
          "metadata": {},
          "execution_count": 18
        },
        {
          "output_type": "display_data",
          "data": {
            "image/png": "[encoded data removed]",
            "text/plain": [
              "<Figure size 1440x360 with 1 Axes>"
            ]
          },
          "metadata": {
            "needs_background": "light"
          }
        }
      ]
    },
    {
      "cell_type": "code",
      "metadata": {
        "colab": {
          "base_uri": "https://localhost:8080/",
          "height": 517
        },
        "id": "7JzBEkK_DWBZ",
        "outputId": "8d76c833-fdd9-45b9-e0e4-3ad6013321a0"
      },
      "source": [
        "import numpy as np\n",
        "import matplotlib.pyplot as plt\n",
        "\n",
        "x_pred = y_pred[0].view(32, 27, 27)\n",
        "\n",
        "plt.imshow(x_pred[1].cpu())\n",
        "plt.colorbar()\n",
        "plt.show()\n",
        "\n",
        "plt.imshow(x_val[1])\n",
        "plt.colorbar()\n",
        "plt.show()"
      ],
      "execution_count": 23,
      "outputs": [
        {
          "output_type": "display_data",
          "data": {
            "image/png": "[encoded data removed]",
            "text/plain": [
              "<Figure size 432x288 with 2 Axes>"
            ]
          },
          "metadata": {
            "needs_background": "light"
          }
        },
        {
          "output_type": "display_data",
          "data": {
            "image/png": "[encoded data removed]",
            "text/plain": [
              "<Figure size 432x288 with 2 Axes>"
            ]
          },
          "metadata": {
            "needs_background": "light"
          }
        }
      ]
    },
    {
      "cell_type": "code",
      "metadata": {
        "id": "6UoK6RckQ6Ov"
      },
      "source": [
        "\n",
        "\n",
        "#\n",
        "\n"
      ],
      "execution_count": null,
      "outputs": []
    },
    {
      "cell_type": "code",
      "metadata": {
        "colab": {
          "base_uri": "https://localhost:8080/"
        },
        "id": "9uH4UmkWSH_u",
        "outputId": "4e239fa7-ce21-46dd-d045-62c085d98f22"
      },
      "source": [
        "class Flatten(nn.Module):\n",
        "    def forward(self, input):\n",
        "        return input.view(input.size(0), -1)\n",
        "class UnFlatten(nn.Module):\n",
        "    def forward(self, input, size=256):\n",
        "        return input.view(input.size(0), size, 1, 1)\n",
        "\n",
        "class VAE(nn.Module):\n",
        "    def __init__(self, image_channels=1, h_dim=256, z_dim=32):\n",
        "        super(VAE, self).__init__()\n",
        "        self.encoder = nn.Sequential(\n",
        "            nn.Conv2d(image_channels, 32, kernel_size=4, stride=1),\n",
        "            nn.ReLU(),\n",
        "            nn.Conv2d(32, 64, kernel_size=4, stride=2),\n",
        "            nn.ReLU(),\n",
        "            nn.Conv2d(64, 128, kernel_size=4, stride=2),\n",
        "            nn.ReLU(),\n",
        "            nn.Conv2d(128, 256, kernel_size=4, stride=2),\n",
        "            nn.ReLU(),\n",
        "            Flatten()\n",
        "        )\n",
        "        \n",
        "        self.fc1 = nn.Linear(h_dim, z_dim)\n",
        "        self.fc2 = nn.Linear(h_dim, z_dim)\n",
        "        self.fc3 = nn.Linear(z_dim, h_dim)\n",
        "        \n",
        "        self.decoder = nn.Sequential(\n",
        "            UnFlatten(),\n",
        "            nn.ConvTranspose2d(h_dim, 128, kernel_size=6, stride=3),\n",
        "            nn.ReLU(),\n",
        "            nn.ConvTranspose2d(128, 64, kernel_size=6, stride=2),\n",
        "            nn.ReLU(),\n",
        "            nn.ConvTranspose2d(64, 32, kernel_size=7, stride=1),\n",
        "            nn.ReLU(),\n",
        "            nn.ConvTranspose2d(32, image_channels, kernel_size=6, stride=1),\n",
        "            nn.Sigmoid(),\n",
        "        )\n",
        "        \n",
        "    def reparameterize(self, mu, logvar):\n",
        "        std = logvar.mul(0.5).exp_()\n",
        "        # return torch.normal(mu, std)\n",
        "        esp = torch.randn(*mu.size())\n",
        "        z = mu + std * esp.cuda()\n",
        "        return z\n",
        "    \n",
        "    def bottleneck(self, h):\n",
        "        mu, logvar = self.fc1(h), self.fc2(h)\n",
        "        z = self.reparameterize(mu, logvar)\n",
        "        return z, mu, logvar\n",
        "\n",
        "    def encode(self, x):\n",
        "        h = self.encoder(x)\n",
        "        z, mu, logvar = self.bottleneck(h)\n",
        "        return z, mu, logvar\n",
        "\n",
        "    def decode(self, z):\n",
        "        #print(z.shape)\n",
        "        z = self.fc3(z)\n",
        "        #print(z.shape)\n",
        "        z = self.decoder(z)\n",
        "        #print(z.shape)\n",
        "        z = z.view(-1, 729)\n",
        "        return z\n",
        "\n",
        "    def forward(self, x):\n",
        "        x = x.unsqueeze(1)\n",
        "        #print(x.shape)\n",
        "        z, mu, logvar = self.encode(x)\n",
        "        z = self.decode(z)\n",
        "        return z, mu, logvar\n",
        "\n",
        "model = VAE().cuda()\n",
        "model"
      ],
      "execution_count": null,
      "outputs": [
        {
          "output_type": "execute_result",
          "data": {
            "text/plain": [
              "VAE(\n",
              "  (encoder): Sequential(\n",
              "    (0): Conv2d(1, 32, kernel_size=(4, 4), stride=(1, 1))\n",
              "    (1): ReLU()\n",
              "    (2): Conv2d(32, 64, kernel_size=(4, 4), stride=(2, 2))\n",
              "    (3): ReLU()\n",
              "    (4): Conv2d(64, 128, kernel_size=(4, 4), stride=(2, 2))\n",
              "    (5): ReLU()\n",
              "    (6): Conv2d(128, 256, kernel_size=(4, 4), stride=(2, 2))\n",
              "    (7): ReLU()\n",
              "    (8): Flatten()\n",
              "  )\n",
              "  (fc1): Linear(in_features=256, out_features=32, bias=True)\n",
              "  (fc2): Linear(in_features=256, out_features=32, bias=True)\n",
              "  (fc3): Linear(in_features=32, out_features=256, bias=True)\n",
              "  (decoder): Sequential(\n",
              "    (0): UnFlatten()\n",
              "    (1): ConvTranspose2d(256, 128, kernel_size=(6, 6), stride=(3, 3))\n",
              "    (2): ReLU()\n",
              "    (3): ConvTranspose2d(128, 64, kernel_size=(6, 6), stride=(2, 2))\n",
              "    (4): ReLU()\n",
              "    (5): ConvTranspose2d(64, 32, kernel_size=(7, 7), stride=(1, 1))\n",
              "    (6): ReLU()\n",
              "    (7): ConvTranspose2d(32, 1, kernel_size=(6, 6), stride=(1, 1))\n",
              "    (8): Sigmoid()\n",
              "  )\n",
              ")"
            ]
          },
          "metadata": {},
          "execution_count": 302
        }
      ]
    },
    {
      "cell_type": "code",
      "metadata": {
        "colab": {
          "base_uri": "https://localhost:8080/"
        },
        "id": "P-ao3L9e1vSm",
        "outputId": "0f8ab21e-30d5-41d0-ce77-20f4891cbb4b"
      },
      "source": [
        "def loss_function(recon_x, x, mu, logvar):\n",
        "    \n",
        "    BCE = F.binary_cross_entropy(recon_x, x.view(-1, 729), reduction='sum')\n",
        "    KLD = -0.5 * torch.sum(1 + logvar - mu.pow(2) - logvar.exp())\n",
        "\n",
        "    return BCE + KLD\n",
        "\n",
        "import torch.optim as optim\n",
        "optimizer = optim.Adam(model.parameters(), lr=1e-4)\n",
        "#loss_function = loss_function()\n",
        "epochs = 20\n",
        "\n",
        "# for loss plot\n",
        "tloss = []\n",
        "vloss = []\n",
        "\n",
        "for e in range(1, epochs+1):\n",
        "    train(model, tloss, e)\n",
        "    test(model, vloss)\n",
        "\n",
        "y_pred = test_pred(model)"
      ],
      "execution_count": null,
      "outputs": [
        {
          "output_type": "stream",
          "text": [
            "====> Epoch: 1 loss: 282.8935\n",
            "====> Test set loss: 181.3815\n",
            "====> Epoch: 2 loss: 163.3090\n",
            "====> Test set loss: 154.7524\n",
            "====> Epoch: 3 loss: 151.2946\n",
            "====> Test set loss: 149.5343\n",
            "====> Epoch: 4 loss: 147.2088\n",
            "====> Test set loss: 146.3136\n",
            "====> Epoch: 5 loss: 144.8886\n",
            "====> Test set loss: 144.8067\n",
            "====> Epoch: 6 loss: 143.4580\n",
            "====> Test set loss: 143.7816\n",
            "====> Epoch: 7 loss: 142.4845\n",
            "====> Test set loss: 142.7119\n",
            "====> Epoch: 8 loss: 141.9473\n",
            "====> Test set loss: 142.2225\n",
            "====> Epoch: 9 loss: 141.4172\n",
            "====> Test set loss: 141.9340\n",
            "====> Epoch: 10 loss: 141.0864\n",
            "====> Test set loss: 141.7241\n",
            "====> Epoch: 11 loss: 140.7778\n",
            "====> Test set loss: 141.3293\n",
            "====> Epoch: 12 loss: 140.5780\n",
            "====> Test set loss: 141.2286\n",
            "====> Epoch: 13 loss: 140.3043\n",
            "====> Test set loss: 140.9262\n",
            "====> Epoch: 14 loss: 140.0917\n",
            "====> Test set loss: 140.7642\n",
            "====> Epoch: 15 loss: 139.8992\n",
            "====> Test set loss: 140.5122\n",
            "====> Epoch: 16 loss: 139.7500\n",
            "====> Test set loss: 140.3475\n",
            "====> Epoch: 17 loss: 139.6207\n",
            "====> Test set loss: 140.3555\n",
            "====> Epoch: 18 loss: 139.5122\n",
            "====> Test set loss: 140.1495\n",
            "====> Epoch: 19 loss: 139.4111\n",
            "====> Test set loss: 140.0867\n",
            "====> Epoch: 20 loss: 139.2684\n",
            "====> Test set loss: 140.0586\n",
            "====> Test set loss: 140.0968\n"
          ],
          "name": "stdout"
        }
      ]
    },
    {
      "cell_type": "code",
      "metadata": {
        "colab": {
          "base_uri": "https://localhost:8080/"
        },
        "id": "skhVSom41xzX",
        "outputId": "da7c7a44-265b-463b-e350-94f26b3a24d8"
      },
      "source": [
        "y_pred[0].shape, x_val[:32].shape"
      ],
      "execution_count": null,
      "outputs": [
        {
          "output_type": "execute_result",
          "data": {
            "text/plain": [
              "(torch.Size([32, 729]), torch.Size([32, 27, 27]))"
            ]
          },
          "metadata": {},
          "execution_count": 307
        }
      ]
    },
    {
      "cell_type": "code",
      "metadata": {
        "colab": {
          "base_uri": "https://localhost:8080/",
          "height": 517
        },
        "id": "KIu8aRn05FSP",
        "outputId": "0bb7d62e-35dd-47b3-ac02-f1f39c12938d"
      },
      "source": [
        "import numpy as np\n",
        "import matplotlib.pyplot as plt\n",
        "\n",
        "x_pred = y_pred[0].view(32, 27, 27)\n",
        "\n",
        "plt.imshow(x_pred[1].cpu())\n",
        "plt.colorbar()\n",
        "plt.show()\n",
        "\n",
        "plt.imshow(x_val[1])\n",
        "plt.colorbar()\n",
        "plt.show()"
      ],
      "execution_count": null,
      "outputs": [
        {
          "output_type": "display_data",
          "data": {
            "image/png": "[encoded data removed]",
            "text/plain": [
              "<Figure size 432x288 with 2 Axes>"
            ]
          },
          "metadata": {
            "needs_background": "light"
          }
        },
        {
          "output_type": "display_data",
          "data": {
            "image/png": "[encoded data removed]",
            "text/plain": [
              "<Figure size 432x288 with 2 Axes>"
            ]
          },
          "metadata": {
            "needs_background": "light"
          }
        }
      ]
    },
    {
      "cell_type": "code",
      "metadata": {
        "id": "NxNwqXoc5NZJ"
      },
      "source": [
        "#"
      ],
      "execution_count": null,
      "outputs": []
    }
  ]
}