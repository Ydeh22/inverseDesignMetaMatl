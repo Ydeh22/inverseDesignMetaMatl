{
  "nbformat": 4,
  "nbformat_minor": 0,
  "metadata": {
    "colab": {
      "name": "[r] w/o transpose; 0/1 (351) & reg.ipynb",
      "provenance": [],
      "authorship_tag": "ABX9TyPkkzhsMXUPXWMsg8Hs2oAd",
      "include_colab_link": true
    },
    "kernelspec": {
      "name": "python3",
      "display_name": "Python 3"
    },
    "language_info": {
      "name": "python"
    },
    "accelerator": "GPU"
  },
  "cells": [
    {
      "cell_type": "markdown",
      "metadata": {
        "id": "view-in-github",
        "colab_type": "text"
      },
      "source": [
        "<a href=\"https://colab.research.google.com/github/taechanha/inverseDesignMetaMatl/blob/main/%5Br%5D_w_o_transpose%3B_0_1_(351)_%26_reg.ipynb\" target=\"_parent\"><img src=\"https://colab.research.google.com/assets/colab-badge.svg\" alt=\"Open In Colab\"/></a>"
      ]
    },
    {
      "cell_type": "code",
      "metadata": {
        "colab": {
          "base_uri": "https://localhost:8080/"
        },
        "id": "XL5qiKOCq9_N",
        "outputId": "f9baeab6-077d-4443-f335-e8266a7842b7"
      },
      "source": [
        "###################### FROM HERE ######################\n",
        "###################### FROM HERE ######################\n",
        "###################### FROM HERE ######################\n",
        "###################### FROM HERE ######################\n",
        "###################### FROM HERE ######################\n",
        "###################### FROM HERE ######################\n",
        "###################### FROM HERE ######################\n",
        "###################### FROM HERE ######################\n",
        "\n",
        "import numpy as np\n",
        "import matplotlib.pyplot as plt\n",
        "\n",
        "f = open(\"/content/dataset_2.txt\", 'r')\n",
        "data = []\n",
        "length = 0\n",
        "for i in f:\n",
        "  new = []\n",
        "  new.append(i)\n",
        "  data.append(new)\n",
        "  # length of dataset\n",
        "  length += 1\n",
        "\n",
        "f.close()\n",
        "\n",
        "# create dataset from data\n",
        "dataset = []\n",
        "for i in range(length):\n",
        "  new = []\n",
        "  for j in data[i][0].split(','):\n",
        "    new.append(float(j))\n",
        "  dataset.append(new)\n",
        "\n",
        "edge_index = dataset\n",
        "\n",
        "# trim out label from dataset\n",
        "# Ex Ey Ez\n",
        "label = []\n",
        "new = []\n",
        "for line in dataset:\n",
        "  tmp = []\n",
        "  tmp.append(line.pop(-1))\n",
        "  tmp.append(line.pop(-1))\n",
        "  tmp.append(line.pop(-1))\n",
        "  tmp.reverse()\n",
        "  label.append(tmp)\n",
        "\n",
        "print(\"shape of label: \", np.array(label).shape)\n",
        "print(\"shape of dataset: \", np.array(dataset).shape)\n",
        "\n",
        "# whole dataset to Tensor & train/test split\n",
        "import os\n",
        "import torch\n",
        "from torch.utils.data import Dataset\n",
        "from torchvision import datasets\n",
        "from torchvision.transforms import ToTensor\n",
        "import matplotlib.pyplot as plt\n",
        "\n",
        "edge_index = torch.FloatTensor(edge_index)\n",
        "label = torch.FloatTensor(label)\n",
        "\n",
        "split = int(length * 0.8)\n",
        "\n",
        "x_train = edge_index[:split]\n",
        "y_train = label[:split]\n",
        "x_val = edge_index[split:]\n",
        "y_val = label[split:]\n",
        "\n",
        "print(\"x_train, y_train, x_val shape: \", x_train.shape, y_train.shape, x_val.shape)\n",
        "\n",
        "# create torch dataset\n",
        "import os\n",
        "import torch\n",
        "from torch.utils.data import Dataset\n",
        "from torchvision import datasets\n",
        "from torchvision.transforms import ToTensor\n",
        "import matplotlib.pyplot as plt\n",
        "\n",
        "class CustomDataset(Dataset):\n",
        "    def __init__(self, label, dataset, transform=None, target_transform=None):\n",
        "        self.labels = label\n",
        "        self.dataset = dataset\n",
        "        self.transform = transform\n",
        "        self.target_transform = target_transform\n",
        "\n",
        "    def __len__(self):\n",
        "        return len(self.labels)\n",
        "\n",
        "    def __getitem__(self, idx):\n",
        "        data = self.dataset[idx]\n",
        "        label = self.labels[idx]\n",
        "        if self.transform:\n",
        "            data = self.transform(data)\n",
        "        if self.target_transform:\n",
        "            label = self.target_transform(label)\n",
        "        return data, label\n",
        "\n",
        "# create DataLoader\n",
        "from torch.utils.data import DataLoader\n",
        "\n",
        "training_data   = CustomDataset(label=y_train, dataset=x_train)\n",
        "test_data       = CustomDataset(label=y_val, dataset=x_val)\n",
        "train_loader    = DataLoader(training_data, batch_size=4, shuffle=True)\n",
        "test_loader     = DataLoader(test_data, batch_size=4, shuffle=False)"
      ],
      "execution_count": 3,
      "outputs": [
        {
          "output_type": "stream",
          "text": [
            "shape of label:  (2000, 3)\n",
            "shape of dataset:  (2000, 351)\n",
            "x_train, y_train, x_val shape:  torch.Size([1600, 351]) torch.Size([1600, 3]) torch.Size([400, 351])\n"
          ],
          "name": "stdout"
        }
      ]
    },
    {
      "cell_type": "code",
      "metadata": {
        "colab": {
          "base_uri": "https://localhost:8080/"
        },
        "id": "yqzHzCyKrNx6",
        "outputId": "db692a6a-024e-4d2d-ac83-020196127f1c"
      },
      "source": [
        "import torch\n",
        "import torch.nn as nn\n",
        "import torch.nn.functional as F\n",
        "\n",
        "\n",
        "class DNN(nn.Module):\n",
        "\n",
        "    def __init__(self):\n",
        "        super(DNN, self).__init__()\n",
        "\n",
        "        self.fc1 = nn.Linear(351, 3)\n",
        "\n",
        "        nn.init.xavier_uniform_(self.fc1.weight)\n",
        "        #nn.init.xavier_uniform_(self.fc2.weight)\n",
        "        #nn.init.xavier_uniform_(self.fc3.weight)\n",
        "        #nn.init.xavier_uniform_(self.fc4.weight)\n",
        "        #nn.init.xavier_uniform_(self.fc5.weight)\n",
        "        #nn.init.xavier_uniform_(self.fc6.weight)\n",
        "        #nn.init.xavier_uniform_(self.fc7.weight)\n",
        "\n",
        "    def forward(self, x):\n",
        "        x = self.fc1(x.view(-1, 351))\n",
        "        # x = F.leaky_relu(x)\n",
        "        # x = self.fc2(x)\n",
        "        # x = F.leaky_relu(x)\n",
        "        # x = self.fc3(x)\n",
        "        # x = F.leaky_relu(x)\n",
        "        # x = self.fc4(x)\n",
        "        # x = F.leaky_relu(x)\n",
        "        # x = self.fc5(x)\n",
        "        # x = F.leaky_relu(x)\n",
        "        # x = self.fc6(x)\n",
        "        # x = F.leaky_relu(x)\n",
        "        \n",
        "        return x\n",
        "\n",
        "\n",
        "model = DNN().cuda()\n",
        "print(model)"
      ],
      "execution_count": 16,
      "outputs": [
        {
          "output_type": "stream",
          "text": [
            "DNN(\n",
            "  (fc1): Linear(in_features=351, out_features=3, bias=True)\n",
            ")\n"
          ],
          "name": "stdout"
        }
      ]
    },
    {
      "cell_type": "code",
      "metadata": {
        "colab": {
          "base_uri": "https://localhost:8080/"
        },
        "id": "_HxUFcOwrzaM",
        "outputId": "b316a574-d8ae-4b55-8508-fd56fa21bdc2"
      },
      "source": [
        "# the number of trainable parameter\n",
        "sum(p.numel() for p in model.parameters() if p.requires_grad)"
      ],
      "execution_count": 17,
      "outputs": [
        {
          "output_type": "execute_result",
          "data": {
            "text/plain": [
              "1056"
            ]
          },
          "metadata": {},
          "execution_count": 17
        }
      ]
    },
    {
      "cell_type": "code",
      "metadata": {
        "id": "kaPm7zgHsFlE"
      },
      "source": [
        "def train(model, train_losses, epoch):\n",
        "    model.train()\n",
        "    train_loss = 0\n",
        "    for x, y in train_loader:\n",
        "        x, y = x.cuda().float(), y.cuda()\n",
        "        optimizer.zero_grad()\n",
        "        o = model(x)\n",
        "        loss = loss_function(o, y)\n",
        "        \n",
        "        loss.backward()\n",
        "        optimizer.step()\n",
        "\n",
        "        train_loss += loss.item()\n",
        "    print('====> Epoch: {} loss: {:.4f}'.format(e, train_loss / len(train_loader)))\n",
        "    train_losses.append(train_loss / len(train_loader))\n",
        "\n",
        "def test(model, val_losses):\n",
        "    model.eval()\n",
        "    test_loss = 0\n",
        "    with torch.no_grad():\n",
        "        for x, y in test_loader:\n",
        "            x, y = x.cuda().float(), y.cuda()       \n",
        "            o = model(x)\n",
        "            loss = loss_function(o, y)\n",
        "            \n",
        "            test_loss += loss.item()\n",
        "    print('====> Test set loss: {:.4f}'.format(test_loss / len(test_loader)))\n",
        "    val_losses.append(test_loss / len(test_loader))\n",
        "\n",
        "\n",
        "def test_pred(model):\n",
        "    y_pred = []\n",
        "    model.eval()\n",
        "    test_loss = 0\n",
        "    with torch.no_grad():\n",
        "        for x, y in test_loader:\n",
        "            x, y = x.cuda().float(), y.cuda()       \n",
        "            o = model(x)\n",
        "            y_pred.append(o)\n",
        "\n",
        "            loss = loss_function(o, y)\n",
        "            test_loss += loss.item()\n",
        "    print('====> Test set loss: {:.4f}'.format(test_loss / len(test_loader)))\n",
        "\n",
        "    return y_pred"
      ],
      "execution_count": 18,
      "outputs": []
    },
    {
      "cell_type": "code",
      "metadata": {
        "colab": {
          "base_uri": "https://localhost:8080/"
        },
        "id": "MnX72VdrslbJ",
        "outputId": "3eeebc17-4b25-4db1-a225-f7e83cdd2d62"
      },
      "source": [
        "import torch.optim as optim\n",
        "optimizer = optim.Adam(model.parameters(), lr=0.0001)\n",
        "loss_function = nn.MSELoss()\n",
        "epochs = 100\n",
        "\n",
        "# for loss plot\n",
        "#tloss = []\n",
        "#vloss = []\n",
        "\n",
        "for e in range(1, epochs+1):\n",
        "    train(model, tloss, e)\n",
        "    test(model, vloss)\n",
        "\n",
        "y_pred = test_pred(model)"
      ],
      "execution_count": 19,
      "outputs": [
        {
          "output_type": "stream",
          "text": [
            "====> Epoch: 1 loss: 120.0820\n",
            "====> Test set loss: 116.9020\n",
            "====> Epoch: 2 loss: 114.4518\n",
            "====> Test set loss: 111.3775\n",
            "====> Epoch: 3 loss: 109.0636\n",
            "====> Test set loss: 106.1399\n",
            "====> Epoch: 4 loss: 103.9247\n",
            "====> Test set loss: 101.1443\n",
            "====> Epoch: 5 loss: 99.0228\n",
            "====> Test set loss: 96.3472\n",
            "====> Epoch: 6 loss: 94.3357\n",
            "====> Test set loss: 91.7584\n",
            "====> Epoch: 7 loss: 89.8448\n",
            "====> Test set loss: 87.3714\n",
            "====> Epoch: 8 loss: 85.5614\n",
            "====> Test set loss: 83.2101\n",
            "====> Epoch: 9 loss: 81.4670\n",
            "====> Test set loss: 79.1972\n",
            "====> Epoch: 10 loss: 77.5587\n",
            "====> Test set loss: 75.3832\n",
            "====> Epoch: 11 loss: 73.8385\n",
            "====> Test set loss: 71.7393\n",
            "====> Epoch: 12 loss: 70.3030\n",
            "====> Test set loss: 68.3028\n",
            "====> Epoch: 13 loss: 66.9344\n",
            "====> Test set loss: 65.0120\n",
            "====> Epoch: 14 loss: 63.7306\n",
            "====> Test set loss: 61.8882\n",
            "====> Epoch: 15 loss: 60.6972\n",
            "====> Test set loss: 58.9301\n",
            "====> Epoch: 16 loss: 57.8307\n",
            "====> Test set loss: 56.1484\n",
            "====> Epoch: 17 loss: 55.1161\n",
            "====> Test set loss: 53.4936\n",
            "====> Epoch: 18 loss: 52.5604\n",
            "====> Test set loss: 51.0051\n",
            "====> Epoch: 19 loss: 50.1530\n",
            "====> Test set loss: 48.6645\n",
            "====> Epoch: 20 loss: 47.8934\n",
            "====> Test set loss: 46.4812\n",
            "====> Epoch: 21 loss: 45.7781\n",
            "====> Test set loss: 44.4091\n",
            "====> Epoch: 22 loss: 43.8029\n",
            "====> Test set loss: 42.4850\n",
            "====> Epoch: 23 loss: 41.9538\n",
            "====> Test set loss: 40.6880\n",
            "====> Epoch: 24 loss: 40.2323\n",
            "====> Test set loss: 39.0269\n",
            "====> Epoch: 25 loss: 38.6366\n",
            "====> Test set loss: 37.4833\n",
            "====> Epoch: 26 loss: 37.1606\n",
            "====> Test set loss: 36.0584\n",
            "====> Epoch: 27 loss: 35.8018\n",
            "====> Test set loss: 34.7421\n",
            "====> Epoch: 28 loss: 34.5492\n",
            "====> Test set loss: 33.5305\n",
            "====> Epoch: 29 loss: 33.3947\n",
            "====> Test set loss: 32.4213\n",
            "====> Epoch: 30 loss: 32.3399\n",
            "====> Test set loss: 31.4141\n",
            "====> Epoch: 31 loss: 31.3747\n",
            "====> Test set loss: 30.4817\n",
            "====> Epoch: 32 loss: 30.4954\n",
            "====> Test set loss: 29.6303\n",
            "====> Epoch: 33 loss: 29.6966\n",
            "====> Test set loss: 28.8689\n",
            "====> Epoch: 34 loss: 28.9687\n",
            "====> Test set loss: 28.1812\n",
            "====> Epoch: 35 loss: 28.3069\n",
            "====> Test set loss: 27.5467\n",
            "====> Epoch: 36 loss: 27.7066\n",
            "====> Test set loss: 26.9802\n",
            "====> Epoch: 37 loss: 27.1635\n",
            "====> Test set loss: 26.4674\n",
            "====> Epoch: 38 loss: 26.6706\n",
            "====> Test set loss: 26.0061\n",
            "====> Epoch: 39 loss: 26.2256\n",
            "====> Test set loss: 25.5898\n",
            "====> Epoch: 40 loss: 25.8227\n",
            "====> Test set loss: 25.2112\n",
            "====> Epoch: 41 loss: 25.4571\n",
            "====> Test set loss: 24.8779\n",
            "====> Epoch: 42 loss: 25.1258\n",
            "====> Test set loss: 24.5683\n",
            "====> Epoch: 43 loss: 24.8236\n",
            "====> Test set loss: 24.2931\n",
            "====> Epoch: 44 loss: 24.5498\n",
            "====> Test set loss: 24.0473\n",
            "====> Epoch: 45 loss: 24.3003\n",
            "====> Test set loss: 23.8239\n",
            "====> Epoch: 46 loss: 24.0707\n",
            "====> Test set loss: 23.6177\n",
            "====> Epoch: 47 loss: 23.8597\n",
            "====> Test set loss: 23.4318\n",
            "====> Epoch: 48 loss: 23.6642\n",
            "====> Test set loss: 23.2641\n",
            "====> Epoch: 49 loss: 23.4813\n",
            "====> Test set loss: 23.1097\n",
            "====> Epoch: 50 loss: 23.3118\n",
            "====> Test set loss: 22.9626\n",
            "====> Epoch: 51 loss: 23.1524\n",
            "====> Test set loss: 22.8318\n",
            "====> Epoch: 52 loss: 23.0029\n",
            "====> Test set loss: 22.7067\n",
            "====> Epoch: 53 loss: 22.8608\n",
            "====> Test set loss: 22.5923\n",
            "====> Epoch: 54 loss: 22.7268\n",
            "====> Test set loss: 22.4839\n",
            "====> Epoch: 55 loss: 22.5971\n",
            "====> Test set loss: 22.3848\n",
            "====> Epoch: 56 loss: 22.4735\n",
            "====> Test set loss: 22.2868\n",
            "====> Epoch: 57 loss: 22.3544\n",
            "====> Test set loss: 22.1945\n",
            "====> Epoch: 58 loss: 22.2393\n",
            "====> Test set loss: 22.1075\n",
            "====> Epoch: 59 loss: 22.1279\n",
            "====> Test set loss: 22.0234\n",
            "====> Epoch: 60 loss: 22.0198\n",
            "====> Test set loss: 21.9439\n",
            "====> Epoch: 61 loss: 21.9146\n",
            "====> Test set loss: 21.8657\n",
            "====> Epoch: 62 loss: 21.8114\n",
            "====> Test set loss: 21.7922\n",
            "====> Epoch: 63 loss: 21.7099\n",
            "====> Test set loss: 21.7195\n",
            "====> Epoch: 64 loss: 21.6116\n",
            "====> Test set loss: 21.6489\n",
            "====> Epoch: 65 loss: 21.5157\n",
            "====> Test set loss: 21.5815\n",
            "====> Epoch: 66 loss: 21.4202\n",
            "====> Test set loss: 21.5151\n",
            "====> Epoch: 67 loss: 21.3259\n",
            "====> Test set loss: 21.4492\n",
            "====> Epoch: 68 loss: 21.2335\n",
            "====> Test set loss: 21.3845\n",
            "====> Epoch: 69 loss: 21.1414\n",
            "====> Test set loss: 21.3224\n",
            "====> Epoch: 70 loss: 21.0506\n",
            "====> Test set loss: 21.2614\n",
            "====> Epoch: 71 loss: 20.9608\n",
            "====> Test set loss: 21.1989\n",
            "====> Epoch: 72 loss: 20.8719\n",
            "====> Test set loss: 21.1380\n",
            "====> Epoch: 73 loss: 20.7834\n",
            "====> Test set loss: 21.0789\n",
            "====> Epoch: 74 loss: 20.6961\n",
            "====> Test set loss: 21.0201\n",
            "====> Epoch: 75 loss: 20.6090\n",
            "====> Test set loss: 20.9639\n",
            "====> Epoch: 76 loss: 20.5239\n",
            "====> Test set loss: 20.9063\n",
            "====> Epoch: 77 loss: 20.4385\n",
            "====> Test set loss: 20.8497\n",
            "====> Epoch: 78 loss: 20.3538\n",
            "====> Test set loss: 20.7942\n",
            "====> Epoch: 79 loss: 20.2706\n",
            "====> Test set loss: 20.7390\n",
            "====> Epoch: 80 loss: 20.1876\n",
            "====> Test set loss: 20.6845\n",
            "====> Epoch: 81 loss: 20.1049\n",
            "====> Test set loss: 20.6305\n",
            "====> Epoch: 82 loss: 20.0227\n",
            "====> Test set loss: 20.5759\n",
            "====> Epoch: 83 loss: 19.9416\n",
            "====> Test set loss: 20.5230\n",
            "====> Epoch: 84 loss: 19.8603\n",
            "====> Test set loss: 20.4693\n",
            "====> Epoch: 85 loss: 19.7798\n",
            "====> Test set loss: 20.4190\n",
            "====> Epoch: 86 loss: 19.7006\n",
            "====> Test set loss: 20.3663\n",
            "====> Epoch: 87 loss: 19.6216\n",
            "====> Test set loss: 20.3139\n",
            "====> Epoch: 88 loss: 19.5428\n",
            "====> Test set loss: 20.2638\n",
            "====> Epoch: 89 loss: 19.4641\n",
            "====> Test set loss: 20.2126\n",
            "====> Epoch: 90 loss: 19.3858\n",
            "====> Test set loss: 20.1616\n",
            "====> Epoch: 91 loss: 19.3088\n",
            "====> Test set loss: 20.1116\n",
            "====> Epoch: 92 loss: 19.2317\n",
            "====> Test set loss: 20.0614\n",
            "====> Epoch: 93 loss: 19.1556\n",
            "====> Test set loss: 20.0127\n",
            "====> Epoch: 94 loss: 19.0794\n",
            "====> Test set loss: 19.9645\n",
            "====> Epoch: 95 loss: 19.0043\n",
            "====> Test set loss: 19.9149\n",
            "====> Epoch: 96 loss: 18.9291\n",
            "====> Test set loss: 19.8673\n",
            "====> Epoch: 97 loss: 18.8548\n",
            "====> Test set loss: 19.8183\n",
            "====> Epoch: 98 loss: 18.7806\n",
            "====> Test set loss: 19.7709\n",
            "====> Epoch: 99 loss: 18.7074\n",
            "====> Test set loss: 19.7237\n",
            "====> Epoch: 100 loss: 18.6344\n",
            "====> Test set loss: 19.6762\n",
            "====> Test set loss: 19.6762\n"
          ],
          "name": "stdout"
        }
      ]
    },
    {
      "cell_type": "code",
      "metadata": {
        "id": "85xWRBw7solx"
      },
      "source": [
        "y1 = y_pred"
      ],
      "execution_count": 20,
      "outputs": []
    },
    {
      "cell_type": "code",
      "metadata": {
        "colab": {
          "base_uri": "https://localhost:8080/",
          "height": 366
        },
        "id": "CuGji8iisO2b",
        "outputId": "e2a954ad-f8a5-48a5-80d8-86e951875a2f"
      },
      "source": [
        "import matplotlib.pyplot as plt\n",
        "\n",
        "plt.figure(figsize=(20,5))\n",
        "plt.title(\"Training and Validation Loss\")\n",
        "plt.plot(np.array(vloss[:100]), label=\"valid\")\n",
        "plt.plot(np.array(tloss[:100]), label=\"train\")\n",
        "plt.xlabel(\"Epochs\")\n",
        "plt.ylabel(\"Loss\")\n",
        "plt.legend()"
      ],
      "execution_count": 21,
      "outputs": [
        {
          "output_type": "execute_result",
          "data": {
            "text/plain": [
              "<matplotlib.legend.Legend at 0x7f854caa3fd0>"
            ]
          },
          "metadata": {},
          "execution_count": 21
        },
        {
          "output_type": "display_data",
          "data": {
            "image/png": "[encoded data removed]",
            "text/plain": [
              "<Figure size 1440x360 with 1 Axes>"
            ]
          },
          "metadata": {
            "needs_background": "light"
          }
        }
      ]
    },
    {
      "cell_type": "code",
      "metadata": {
        "colab": {
          "base_uri": "https://localhost:8080/"
        },
        "id": "1IbqjkQPsXKW",
        "outputId": "ee2fb80f-9642-44ed-efcd-be7bcd388bdf"
      },
      "source": [
        "# RMSE\n",
        "\n",
        "model.eval()\n",
        "test_loss = 0\n",
        "with torch.no_grad():\n",
        "    for x, y in test_loader:\n",
        "        x, y = x.cuda().float(), y.cuda()       \n",
        "        o = model(x)\n",
        "        loss = torch.sqrt(loss_function(o, y))\n",
        "        \n",
        "        test_loss += loss.item()\n",
        "print('====> Test set loss: {:.4f}'.format(test_loss / len(test_loader)))"
      ],
      "execution_count": 22,
      "outputs": [
        {
          "output_type": "stream",
          "text": [
            "====> Test set loss: 4.2981\n"
          ],
          "name": "stdout"
        }
      ]
    },
    {
      "cell_type": "code",
      "metadata": {
        "id": "KpaYevuUsY4y"
      },
      "source": [
        "###"
      ],
      "execution_count": 23,
      "outputs": []
    },
    {
      "cell_type": "code",
      "metadata": {
        "colab": {
          "base_uri": "https://localhost:8080/"
        },
        "id": "Ct66d7uzsbEN",
        "outputId": "8d93bc8a-c7f9-4fc6-c2c7-5156c964af1f"
      },
      "source": [
        "import torch\n",
        "import torch.nn as nn\n",
        "import torch.nn.functional as F\n",
        "\n",
        "\n",
        "class DNN(nn.Module):\n",
        "\n",
        "    def __init__(self):\n",
        "        super(DNN, self).__init__()\n",
        "\n",
        "        self.fc1 = nn.Linear(351, 3)\n",
        "        self.fc2 = nn.Linear(3, 3)\n",
        "\n",
        "        #nn.init.xavier_normal_(self.fc1.weight)\n",
        "        #nn.init.xavier_normal_(self.fc2.weight)\n",
        "        #nn.init.xavier_uniform_(self.fc1.weight)\n",
        "        #nn.init.xavier_uniform_(self.fc2.weight)\n",
        "        #nn.init.xavier_uniform_(self.fc3.weight)\n",
        "        #nn.init.xavier_uniform_(self.fc4.weight)\n",
        "        #nn.init.xavier_uniform_(self.fc5.weight)\n",
        "        #nn.init.xavier_uniform_(self.fc6.weight)\n",
        "        #nn.init.xavier_uniform_(self.fc7.weight)\n",
        "\n",
        "    def forward(self, x):\n",
        "        x = self.fc1(x.view(-1, 351))\n",
        "        x = F.relu(x)\n",
        "        x = self.fc2(x)\n",
        "        # x = F.leaky_relu(x)\n",
        "        # x = self.fc3(x)\n",
        "        # x = F.leaky_relu(x)\n",
        "        # x = self.fc4(x)\n",
        "        # x = F.leaky_relu(x)\n",
        "        # x = self.fc5(x)\n",
        "        # x = F.leaky_relu(x)\n",
        "        # x = self.fc6(x)\n",
        "        # x = F.leaky_relu(x)\n",
        "        \n",
        "        return x\n",
        "\n",
        "\n",
        "def weights_init(m):\n",
        "    if isinstance(m, nn.Linear):\n",
        "        nn.init.xavier_normal_(m.weight.data, nn.init.calculate_gain('relu'))\n",
        "        #nn.init.xavier_uniform_(m.weight.data)\n",
        "        #nn.init.xavier_uniform_(m.bias.data)\n",
        "\n",
        "torch.manual_seed(42)\n",
        "model = DNN().cuda()\n",
        "model.apply(weights_init)\n",
        "print(model)"
      ],
      "execution_count": 343,
      "outputs": [
        {
          "output_type": "stream",
          "text": [
            "DNN(\n",
            "  (fc1): Linear(in_features=351, out_features=3, bias=True)\n",
            "  (fc2): Linear(in_features=3, out_features=3, bias=True)\n",
            ")\n"
          ],
          "name": "stdout"
        }
      ]
    },
    {
      "cell_type": "code",
      "metadata": {
        "colab": {
          "base_uri": "https://localhost:8080/"
        },
        "id": "vuXPyRMftGGN",
        "outputId": "5b7b9606-f589-4885-a8c5-3e2b77388207"
      },
      "source": [
        "# the number of trainable parameter\n",
        "sum(p.numel() for p in model.parameters() if p.requires_grad)"
      ],
      "execution_count": 338,
      "outputs": [
        {
          "output_type": "execute_result",
          "data": {
            "text/plain": [
              "1423"
            ]
          },
          "metadata": {},
          "execution_count": 338
        }
      ]
    },
    {
      "cell_type": "code",
      "metadata": {
        "colab": {
          "base_uri": "https://localhost:8080/"
        },
        "id": "-88d4SyatJOL",
        "outputId": "7f1eb787-a584-46db-bc25-f809e37098c9"
      },
      "source": [
        "import torch.optim as optim\n",
        "optimizer = optim.Adam(model.parameters(), lr=1e-5)\n",
        "loss_function = nn.MSELoss()\n",
        "epochs = 100\n",
        "\n",
        "# for loss plot\n",
        "tloss = []\n",
        "vloss = []\n",
        "\n",
        "for e in range(1, epochs+1):\n",
        "    train(model, tloss, e)\n",
        "    test(model, vloss)\n",
        "\n",
        "y_pred = test_pred(model)"
      ],
      "execution_count": 352,
      "outputs": [
        {
          "output_type": "stream",
          "text": [
            "====> Epoch: 1 loss: 4.9144\n",
            "====> Test set loss: 8.3280\n",
            "====> Epoch: 2 loss: 4.9140\n",
            "====> Test set loss: 8.3275\n",
            "====> Epoch: 3 loss: 4.9139\n",
            "====> Test set loss: 8.3273\n",
            "====> Epoch: 4 loss: 4.9137\n",
            "====> Test set loss: 8.3270\n",
            "====> Epoch: 5 loss: 4.9136\n",
            "====> Test set loss: 8.3269\n",
            "====> Epoch: 6 loss: 4.9135\n",
            "====> Test set loss: 8.3266\n",
            "====> Epoch: 7 loss: 4.9134\n",
            "====> Test set loss: 8.3264\n",
            "====> Epoch: 8 loss: 4.9132\n",
            "====> Test set loss: 8.3263\n",
            "====> Epoch: 9 loss: 4.9131\n",
            "====> Test set loss: 8.3262\n",
            "====> Epoch: 10 loss: 4.9131\n",
            "====> Test set loss: 8.3260\n",
            "====> Epoch: 11 loss: 4.9130\n",
            "====> Test set loss: 8.3262\n",
            "====> Epoch: 12 loss: 4.9129\n",
            "====> Test set loss: 8.3261\n",
            "====> Epoch: 13 loss: 4.9128\n",
            "====> Test set loss: 8.3260\n",
            "====> Epoch: 14 loss: 4.9127\n",
            "====> Test set loss: 8.3261\n",
            "====> Epoch: 15 loss: 4.9126\n",
            "====> Test set loss: 8.3259\n",
            "====> Epoch: 16 loss: 4.9126\n",
            "====> Test set loss: 8.3258\n",
            "====> Epoch: 17 loss: 4.9127\n",
            "====> Test set loss: 8.3259\n",
            "====> Epoch: 18 loss: 4.9125\n",
            "====> Test set loss: 8.3256\n",
            "====> Epoch: 19 loss: 4.9124\n",
            "====> Test set loss: 8.3257\n",
            "====> Epoch: 20 loss: 4.9125\n",
            "====> Test set loss: 8.3256\n",
            "====> Epoch: 21 loss: 4.9123\n",
            "====> Test set loss: 8.3257\n",
            "====> Epoch: 22 loss: 4.9123\n",
            "====> Test set loss: 8.3255\n",
            "====> Epoch: 23 loss: 4.9122\n",
            "====> Test set loss: 8.3255\n",
            "====> Epoch: 24 loss: 4.9121\n",
            "====> Test set loss: 8.3256\n",
            "====> Epoch: 25 loss: 4.9120\n",
            "====> Test set loss: 8.3255\n",
            "====> Epoch: 26 loss: 4.9120\n",
            "====> Test set loss: 8.3255\n",
            "====> Epoch: 27 loss: 4.9119\n",
            "====> Test set loss: 8.3253\n",
            "====> Epoch: 28 loss: 4.9118\n",
            "====> Test set loss: 8.3253\n",
            "====> Epoch: 29 loss: 4.9118\n",
            "====> Test set loss: 8.3253\n",
            "====> Epoch: 30 loss: 4.9117\n",
            "====> Test set loss: 8.3253\n",
            "====> Epoch: 31 loss: 4.9117\n",
            "====> Test set loss: 8.3253\n",
            "====> Epoch: 32 loss: 4.9116\n",
            "====> Test set loss: 8.3252\n",
            "====> Epoch: 33 loss: 4.9114\n",
            "====> Test set loss: 8.3253\n",
            "====> Epoch: 34 loss: 4.9114\n",
            "====> Test set loss: 8.3253\n",
            "====> Epoch: 35 loss: 4.9114\n",
            "====> Test set loss: 8.3253\n",
            "====> Epoch: 36 loss: 4.9113\n",
            "====> Test set loss: 8.3253\n",
            "====> Epoch: 37 loss: 4.9113\n",
            "====> Test set loss: 8.3251\n",
            "====> Epoch: 38 loss: 4.9112\n",
            "====> Test set loss: 8.3252\n",
            "====> Epoch: 39 loss: 4.9111\n",
            "====> Test set loss: 8.3251\n",
            "====> Epoch: 40 loss: 4.9112\n",
            "====> Test set loss: 8.3252\n",
            "====> Epoch: 41 loss: 4.9110\n",
            "====> Test set loss: 8.3250\n",
            "====> Epoch: 42 loss: 4.9111\n",
            "====> Test set loss: 8.3253\n",
            "====> Epoch: 43 loss: 4.9109\n",
            "====> Test set loss: 8.3251\n",
            "====> Epoch: 44 loss: 4.9108\n",
            "====> Test set loss: 8.3251\n",
            "====> Epoch: 45 loss: 4.9109\n",
            "====> Test set loss: 8.3250\n",
            "====> Epoch: 46 loss: 4.9108\n",
            "====> Test set loss: 8.3249\n",
            "====> Epoch: 47 loss: 4.9107\n",
            "====> Test set loss: 8.3251\n",
            "====> Epoch: 48 loss: 4.9105\n",
            "====> Test set loss: 8.3249\n",
            "====> Epoch: 49 loss: 4.9105\n",
            "====> Test set loss: 8.3249\n",
            "====> Epoch: 50 loss: 4.9106\n",
            "====> Test set loss: 8.3248\n",
            "====> Epoch: 51 loss: 4.9104\n",
            "====> Test set loss: 8.3248\n",
            "====> Epoch: 52 loss: 4.9103\n",
            "====> Test set loss: 8.3248\n",
            "====> Epoch: 53 loss: 4.9103\n",
            "====> Test set loss: 8.3248\n",
            "====> Epoch: 54 loss: 4.9102\n",
            "====> Test set loss: 8.3250\n",
            "====> Epoch: 55 loss: 4.9102\n",
            "====> Test set loss: 8.3248\n",
            "====> Epoch: 56 loss: 4.9101\n",
            "====> Test set loss: 8.3248\n",
            "====> Epoch: 57 loss: 4.9100\n",
            "====> Test set loss: 8.3249\n",
            "====> Epoch: 58 loss: 4.9100\n",
            "====> Test set loss: 8.3247\n",
            "====> Epoch: 59 loss: 4.9100\n",
            "====> Test set loss: 8.3249\n",
            "====> Epoch: 60 loss: 4.9099\n",
            "====> Test set loss: 8.3248\n",
            "====> Epoch: 61 loss: 4.9099\n",
            "====> Test set loss: 8.3248\n",
            "====> Epoch: 62 loss: 4.9097\n",
            "====> Test set loss: 8.3249\n",
            "====> Epoch: 63 loss: 4.9098\n",
            "====> Test set loss: 8.3248\n",
            "====> Epoch: 64 loss: 4.9097\n",
            "====> Test set loss: 8.3249\n",
            "====> Epoch: 65 loss: 4.9096\n",
            "====> Test set loss: 8.3247\n",
            "====> Epoch: 66 loss: 4.9095\n",
            "====> Test set loss: 8.3246\n",
            "====> Epoch: 67 loss: 4.9094\n",
            "====> Test set loss: 8.3248\n",
            "====> Epoch: 68 loss: 4.9095\n",
            "====> Test set loss: 8.3244\n",
            "====> Epoch: 69 loss: 4.9094\n",
            "====> Test set loss: 8.3246\n",
            "====> Epoch: 70 loss: 4.9093\n",
            "====> Test set loss: 8.3246\n",
            "====> Epoch: 71 loss: 4.9092\n",
            "====> Test set loss: 8.3247\n",
            "====> Epoch: 72 loss: 4.9092\n",
            "====> Test set loss: 8.3246\n",
            "====> Epoch: 73 loss: 4.9092\n",
            "====> Test set loss: 8.3245\n",
            "====> Epoch: 74 loss: 4.9091\n",
            "====> Test set loss: 8.3243\n",
            "====> Epoch: 75 loss: 4.9091\n",
            "====> Test set loss: 8.3245\n",
            "====> Epoch: 76 loss: 4.9089\n",
            "====> Test set loss: 8.3245\n",
            "====> Epoch: 77 loss: 4.9090\n",
            "====> Test set loss: 8.3244\n",
            "====> Epoch: 78 loss: 4.9089\n",
            "====> Test set loss: 8.3245\n",
            "====> Epoch: 79 loss: 4.9088\n",
            "====> Test set loss: 8.3244\n",
            "====> Epoch: 80 loss: 4.9087\n",
            "====> Test set loss: 8.3243\n",
            "====> Epoch: 81 loss: 4.9087\n",
            "====> Test set loss: 8.3244\n",
            "====> Epoch: 82 loss: 4.9085\n",
            "====> Test set loss: 8.3244\n",
            "====> Epoch: 83 loss: 4.9085\n",
            "====> Test set loss: 8.3243\n",
            "====> Epoch: 84 loss: 4.9084\n",
            "====> Test set loss: 8.3242\n",
            "====> Epoch: 85 loss: 4.9085\n",
            "====> Test set loss: 8.3243\n",
            "====> Epoch: 86 loss: 4.9084\n",
            "====> Test set loss: 8.3243\n",
            "====> Epoch: 87 loss: 4.9084\n",
            "====> Test set loss: 8.3242\n",
            "====> Epoch: 88 loss: 4.9082\n",
            "====> Test set loss: 8.3241\n",
            "====> Epoch: 89 loss: 4.9082\n",
            "====> Test set loss: 8.3242\n",
            "====> Epoch: 90 loss: 4.9082\n",
            "====> Test set loss: 8.3240\n",
            "====> Epoch: 91 loss: 4.9082\n",
            "====> Test set loss: 8.3242\n",
            "====> Epoch: 92 loss: 4.9081\n",
            "====> Test set loss: 8.3242\n",
            "====> Epoch: 93 loss: 4.9079\n",
            "====> Test set loss: 8.3241\n",
            "====> Epoch: 94 loss: 4.9078\n",
            "====> Test set loss: 8.3241\n",
            "====> Epoch: 95 loss: 4.9078\n",
            "====> Test set loss: 8.3243\n",
            "====> Epoch: 96 loss: 4.9078\n",
            "====> Test set loss: 8.3241\n",
            "====> Epoch: 97 loss: 4.9078\n",
            "====> Test set loss: 8.3240\n",
            "====> Epoch: 98 loss: 4.9078\n",
            "====> Test set loss: 8.3241\n",
            "====> Epoch: 99 loss: 4.9077\n",
            "====> Test set loss: 8.3239\n",
            "====> Epoch: 100 loss: 4.9076\n",
            "====> Test set loss: 8.3238\n",
            "====> Test set loss: 8.3238\n"
          ],
          "name": "stdout"
        }
      ]
    },
    {
      "cell_type": "code",
      "metadata": {
        "id": "qFcdo7botP14"
      },
      "source": [
        "y3 = y_pred"
      ],
      "execution_count": 345,
      "outputs": []
    },
    {
      "cell_type": "code",
      "metadata": {
        "colab": {
          "base_uri": "https://localhost:8080/",
          "height": 366
        },
        "id": "ZzcOdbYAtRGt",
        "outputId": "7f098ab7-4e12-4e6a-b357-43a59b67bc52"
      },
      "source": [
        "import matplotlib.pyplot as plt\n",
        "\n",
        "plt.figure(figsize=(20,5))\n",
        "plt.title(\"Training and Validation Loss\")\n",
        "plt.plot(np.array(vloss[:100]), label=\"valid\")\n",
        "plt.plot(np.array(tloss[:100]), label=\"train\")\n",
        "plt.xlabel(\"Epochs\")\n",
        "plt.ylabel(\"Loss\")\n",
        "plt.legend()"
      ],
      "execution_count": 355,
      "outputs": [
        {
          "output_type": "execute_result",
          "data": {
            "text/plain": [
              "<matplotlib.legend.Legend at 0x7f84f0a5f7d0>"
            ]
          },
          "metadata": {},
          "execution_count": 355
        },
        {
          "output_type": "display_data",
          "data": {
            "image/png": "[encoded data removed]",
            "text/plain": [
              "<Figure size 1440x360 with 1 Axes>"
            ]
          },
          "metadata": {
            "needs_background": "light"
          }
        }
      ]
    },
    {
      "cell_type": "code",
      "metadata": {
        "colab": {
          "base_uri": "https://localhost:8080/"
        },
        "id": "62rojvYLtSIH",
        "outputId": "378b8f34-4f87-4ad3-9c11-87529ee8d1f4"
      },
      "source": [
        "# RMSE\n",
        "\n",
        "model.eval()\n",
        "test_loss = 0\n",
        "with torch.no_grad():\n",
        "    for x, y in test_loader:\n",
        "        x, y = x.cuda().float(), y.cuda()       \n",
        "        o = model(x)        \n",
        "        loss = torch.sqrt(loss_function(o, y))\n",
        "        \n",
        "        test_loss += loss.item()\n",
        "print('====> Test set loss: {:.4f}'.format(test_loss / len(test_loader)))"
      ],
      "execution_count": 354,
      "outputs": [
        {
          "output_type": "stream",
          "text": [
            "====> Test set loss: 2.8074\n"
          ],
          "name": "stdout"
        }
      ]
    },
    {
      "cell_type": "code",
      "metadata": {
        "colab": {
          "base_uri": "https://localhost:8080/"
        },
        "id": "8Scqpcya8wPn",
        "outputId": "e3dac064-d095-4bcd-d27e-9224b0085ff5"
      },
      "source": [
        "x, y = next(iter(test_loader))\n",
        "o = model(x.cuda())\n",
        "F.l1_loss(o, y.cuda())"
      ],
      "execution_count": 271,
      "outputs": [
        {
          "output_type": "execute_result",
          "data": {
            "text/plain": [
              "tensor(2.8333, device='cuda:0', grad_fn=<L1LossBackward>)"
            ]
          },
          "metadata": {},
          "execution_count": 271
        }
      ]
    },
    {
      "cell_type": "code",
      "metadata": {
        "colab": {
          "base_uri": "https://localhost:8080/"
        },
        "id": "L4uryfHo86S-",
        "outputId": "46834e67-f881-4d0d-c71a-7900734cc273"
      },
      "source": [
        "y, \"\", o"
      ],
      "execution_count": 193,
      "outputs": [
        {
          "output_type": "execute_result",
          "data": {
            "text/plain": [
              "(tensor([[20.4802, 13.7561,  9.1044],\n",
              "         [12.0543,  0.6352,  7.2949],\n",
              "         [12.8651, 11.9096,  8.6483],\n",
              "         [14.9428,  6.6858,  3.0543]]),\n",
              " '',\n",
              " tensor([[16.9475, 11.4188, 10.7900],\n",
              "         [11.4712,  5.3696, 10.1922],\n",
              "         [ 6.8841, 13.0890,  8.4076],\n",
              "         [18.3584,  9.6885,  4.1041]], device='cuda:0', grad_fn=<AddmmBackward>))"
            ]
          },
          "metadata": {},
          "execution_count": 193
        }
      ]
    },
    {
      "cell_type": "code",
      "metadata": {
        "id": "sJYdkcPxtTUL"
      },
      "source": [
        "###"
      ],
      "execution_count": 30,
      "outputs": []
    },
    {
      "cell_type": "code",
      "metadata": {
        "colab": {
          "base_uri": "https://localhost:8080/"
        },
        "id": "cv2zZWCItTu4",
        "outputId": "90ad72f8-eb06-4a7b-c4f9-a82f798fec04"
      },
      "source": [
        "import torch\n",
        "import torch.nn as nn\n",
        "import torch.nn.functional as F\n",
        "\n",
        "\n",
        "class DNN(nn.Module):\n",
        "\n",
        "    def __init__(self):\n",
        "        super(DNN, self).__init__()\n",
        "\n",
        "        self.fc1 = nn.Linear(351, 175)\n",
        "        self.fc2 = nn.Linear(175, 87)\n",
        "        self.fc3 = nn.Linear(87, 3)\n",
        "\n",
        "        nn.init.xavier_uniform_(self.fc1.weight)\n",
        "        nn.init.xavier_uniform_(self.fc2.weight)\n",
        "        nn.init.xavier_uniform_(self.fc3.weight)\n",
        "        #nn.init.xavier_uniform_(self.fc4.weight)\n",
        "        #nn.init.xavier_uniform_(self.fc5.weight)\n",
        "        #nn.init.xavier_uniform_(self.fc6.weight)\n",
        "        #nn.init.xavier_uniform_(self.fc7.weight)\n",
        "\n",
        "    def forward(self, x):\n",
        "        x = self.fc1(x.view(-1, 351))\n",
        "        x = F.leaky_relu(x)\n",
        "        x = self.fc2(x)\n",
        "        x = F.leaky_relu(x)\n",
        "        x = self.fc3(x)\n",
        "        # x = F.leaky_relu(x)\n",
        "        # x = self.fc4(x)\n",
        "        # x = F.leaky_relu(x)\n",
        "        # x = self.fc5(x)\n",
        "        # x = F.leaky_relu(x)\n",
        "        # x = self.fc6(x)\n",
        "        # x = F.leaky_relu(x)\n",
        "        \n",
        "        return x\n",
        "\n",
        "\n",
        "model = DNN().cuda()\n",
        "print(model)"
      ],
      "execution_count": 31,
      "outputs": [
        {
          "output_type": "stream",
          "text": [
            "DNN(\n",
            "  (fc1): Linear(in_features=351, out_features=175, bias=True)\n",
            "  (fc2): Linear(in_features=175, out_features=87, bias=True)\n",
            "  (fc3): Linear(in_features=87, out_features=3, bias=True)\n",
            ")\n"
          ],
          "name": "stdout"
        }
      ]
    },
    {
      "cell_type": "code",
      "metadata": {
        "colab": {
          "base_uri": "https://localhost:8080/"
        },
        "id": "Y76xERBAt0uG",
        "outputId": "d72c714d-17c7-4cae-92d7-90b78a86e0af"
      },
      "source": [
        "# the number of trainable parameter\n",
        "sum(p.numel() for p in model.parameters() if p.requires_grad)"
      ],
      "execution_count": 32,
      "outputs": [
        {
          "output_type": "execute_result",
          "data": {
            "text/plain": [
              "77176"
            ]
          },
          "metadata": {},
          "execution_count": 32
        }
      ]
    },
    {
      "cell_type": "code",
      "metadata": {
        "colab": {
          "base_uri": "https://localhost:8080/"
        },
        "id": "MWuGKQGlt2Lx",
        "outputId": "09f35ded-a7c6-47e1-99b2-95c4dc68ab0a"
      },
      "source": [
        "import torch.optim as optim\n",
        "optimizer = optim.Adam(model.parameters(), lr=0.0001)\n",
        "loss_function = nn.MSELoss()\n",
        "epochs = 100\n",
        "\n",
        "# for loss plot\n",
        "tloss = []\n",
        "vloss = []\n",
        "\n",
        "for e in range(1, epochs+1):\n",
        "    train(model, tloss, e)\n",
        "    test(model, vloss)\n",
        "\n",
        "y_pred = test_pred(model)"
      ],
      "execution_count": 33,
      "outputs": [
        {
          "output_type": "stream",
          "text": [
            "====> Epoch: 1 loss: 80.6546\n",
            "====> Test set loss: 30.7532\n",
            "====> Epoch: 2 loss: 26.2126\n",
            "====> Test set loss: 23.7740\n",
            "====> Epoch: 3 loss: 23.6427\n",
            "====> Test set loss: 22.8086\n",
            "====> Epoch: 4 loss: 21.8846\n",
            "====> Test set loss: 22.0581\n",
            "====> Epoch: 5 loss: 20.3351\n",
            "====> Test set loss: 21.0957\n",
            "====> Epoch: 6 loss: 18.7405\n",
            "====> Test set loss: 20.2409\n",
            "====> Epoch: 7 loss: 17.0963\n",
            "====> Test set loss: 19.5253\n",
            "====> Epoch: 8 loss: 15.4518\n",
            "====> Test set loss: 18.4297\n",
            "====> Epoch: 9 loss: 13.6420\n",
            "====> Test set loss: 17.2664\n",
            "====> Epoch: 10 loss: 11.9302\n",
            "====> Test set loss: 16.2440\n",
            "====> Epoch: 11 loss: 10.3193\n",
            "====> Test set loss: 15.1351\n",
            "====> Epoch: 12 loss: 8.9123\n",
            "====> Test set loss: 14.2347\n",
            "====> Epoch: 13 loss: 7.7306\n",
            "====> Test set loss: 13.3713\n",
            "====> Epoch: 14 loss: 6.7612\n",
            "====> Test set loss: 12.6482\n",
            "====> Epoch: 15 loss: 6.0115\n",
            "====> Test set loss: 11.9890\n",
            "====> Epoch: 16 loss: 5.3787\n",
            "====> Test set loss: 11.4828\n",
            "====> Epoch: 17 loss: 4.8729\n",
            "====> Test set loss: 10.9559\n",
            "====> Epoch: 18 loss: 4.4522\n",
            "====> Test set loss: 10.5662\n",
            "====> Epoch: 19 loss: 4.0717\n",
            "====> Test set loss: 10.2531\n",
            "====> Epoch: 20 loss: 3.7754\n",
            "====> Test set loss: 9.9915\n",
            "====> Epoch: 21 loss: 3.5416\n",
            "====> Test set loss: 9.7663\n",
            "====> Epoch: 22 loss: 3.2979\n",
            "====> Test set loss: 9.5872\n",
            "====> Epoch: 23 loss: 3.1094\n",
            "====> Test set loss: 9.4644\n",
            "====> Epoch: 24 loss: 2.9139\n",
            "====> Test set loss: 9.4715\n",
            "====> Epoch: 25 loss: 2.7513\n",
            "====> Test set loss: 9.2911\n",
            "====> Epoch: 26 loss: 2.6098\n",
            "====> Test set loss: 9.2463\n",
            "====> Epoch: 27 loss: 2.4606\n",
            "====> Test set loss: 9.2503\n",
            "====> Epoch: 28 loss: 2.3132\n",
            "====> Test set loss: 9.2328\n",
            "====> Epoch: 29 loss: 2.1973\n",
            "====> Test set loss: 9.4708\n",
            "====> Epoch: 30 loss: 2.0727\n",
            "====> Test set loss: 9.3326\n",
            "====> Epoch: 31 loss: 1.9625\n",
            "====> Test set loss: 9.2912\n",
            "====> Epoch: 32 loss: 1.8510\n",
            "====> Test set loss: 9.2702\n",
            "====> Epoch: 33 loss: 1.7444\n",
            "====> Test set loss: 9.3626\n",
            "====> Epoch: 34 loss: 1.6432\n",
            "====> Test set loss: 9.4001\n",
            "====> Epoch: 35 loss: 1.5423\n",
            "====> Test set loss: 9.4454\n",
            "====> Epoch: 36 loss: 1.4514\n",
            "====> Test set loss: 9.4479\n",
            "====> Epoch: 37 loss: 1.3602\n",
            "====> Test set loss: 9.4568\n",
            "====> Epoch: 38 loss: 1.2791\n",
            "====> Test set loss: 9.4841\n",
            "====> Epoch: 39 loss: 1.1898\n",
            "====> Test set loss: 9.5474\n",
            "====> Epoch: 40 loss: 1.1138\n",
            "====> Test set loss: 9.5850\n",
            "====> Epoch: 41 loss: 1.0378\n",
            "====> Test set loss: 9.7293\n",
            "====> Epoch: 42 loss: 0.9544\n",
            "====> Test set loss: 9.6708\n",
            "====> Epoch: 43 loss: 0.8797\n",
            "====> Test set loss: 9.7663\n",
            "====> Epoch: 44 loss: 0.8045\n",
            "====> Test set loss: 9.7099\n",
            "====> Epoch: 45 loss: 0.7353\n",
            "====> Test set loss: 9.7710\n",
            "====> Epoch: 46 loss: 0.6660\n",
            "====> Test set loss: 9.8288\n",
            "====> Epoch: 47 loss: 0.5967\n",
            "====> Test set loss: 9.8510\n",
            "====> Epoch: 48 loss: 0.5325\n",
            "====> Test set loss: 9.8853\n",
            "====> Epoch: 49 loss: 0.4694\n",
            "====> Test set loss: 9.8769\n",
            "====> Epoch: 50 loss: 0.4099\n",
            "====> Test set loss: 9.9304\n",
            "====> Epoch: 51 loss: 0.3579\n",
            "====> Test set loss: 10.0051\n",
            "====> Epoch: 52 loss: 0.3052\n",
            "====> Test set loss: 10.0539\n",
            "====> Epoch: 53 loss: 0.2614\n",
            "====> Test set loss: 10.0423\n",
            "====> Epoch: 54 loss: 0.2203\n",
            "====> Test set loss: 10.1145\n",
            "====> Epoch: 55 loss: 0.1855\n",
            "====> Test set loss: 10.1993\n",
            "====> Epoch: 56 loss: 0.1551\n",
            "====> Test set loss: 10.1501\n",
            "====> Epoch: 57 loss: 0.1276\n",
            "====> Test set loss: 10.2304\n",
            "====> Epoch: 58 loss: 0.1076\n",
            "====> Test set loss: 10.2384\n",
            "====> Epoch: 59 loss: 0.0885\n",
            "====> Test set loss: 10.2828\n",
            "====> Epoch: 60 loss: 0.0794\n",
            "====> Test set loss: 10.3156\n",
            "====> Epoch: 61 loss: 0.0688\n",
            "====> Test set loss: 10.3855\n",
            "====> Epoch: 62 loss: 0.0672\n",
            "====> Test set loss: 10.4154\n",
            "====> Epoch: 63 loss: 0.0572\n",
            "====> Test set loss: 10.3536\n",
            "====> Epoch: 64 loss: 0.0533\n",
            "====> Test set loss: 10.3738\n",
            "====> Epoch: 65 loss: 0.0477\n",
            "====> Test set loss: 10.4812\n",
            "====> Epoch: 66 loss: 0.0487\n",
            "====> Test set loss: 10.3467\n",
            "====> Epoch: 67 loss: 0.0397\n",
            "====> Test set loss: 10.3564\n",
            "====> Epoch: 68 loss: 0.0341\n",
            "====> Test set loss: 10.4191\n",
            "====> Epoch: 69 loss: 0.0327\n",
            "====> Test set loss: 10.3922\n",
            "====> Epoch: 70 loss: 0.0396\n",
            "====> Test set loss: 10.3161\n",
            "====> Epoch: 71 loss: 0.0471\n",
            "====> Test set loss: 10.4028\n",
            "====> Epoch: 72 loss: 0.0447\n",
            "====> Test set loss: 10.3524\n",
            "====> Epoch: 73 loss: 0.0384\n",
            "====> Test set loss: 10.3981\n",
            "====> Epoch: 74 loss: 0.0366\n",
            "====> Test set loss: 10.4030\n",
            "====> Epoch: 75 loss: 0.0338\n",
            "====> Test set loss: 10.4046\n",
            "====> Epoch: 76 loss: 0.0331\n",
            "====> Test set loss: 10.3675\n",
            "====> Epoch: 77 loss: 0.0345\n",
            "====> Test set loss: 10.4330\n",
            "====> Epoch: 78 loss: 0.0378\n",
            "====> Test set loss: 10.3700\n",
            "====> Epoch: 79 loss: 0.0393\n",
            "====> Test set loss: 10.4320\n",
            "====> Epoch: 80 loss: 0.0380\n",
            "====> Test set loss: 10.4139\n",
            "====> Epoch: 81 loss: 0.0370\n",
            "====> Test set loss: 10.4808\n",
            "====> Epoch: 82 loss: 0.0371\n",
            "====> Test set loss: 10.4363\n",
            "====> Epoch: 83 loss: 0.0447\n",
            "====> Test set loss: 10.5500\n",
            "====> Epoch: 84 loss: 0.0403\n",
            "====> Test set loss: 10.4342\n",
            "====> Epoch: 85 loss: 0.0349\n",
            "====> Test set loss: 10.4150\n",
            "====> Epoch: 86 loss: 0.0304\n",
            "====> Test set loss: 10.4915\n",
            "====> Epoch: 87 loss: 0.0334\n",
            "====> Test set loss: 10.4819\n",
            "====> Epoch: 88 loss: 0.0368\n",
            "====> Test set loss: 10.4566\n",
            "====> Epoch: 89 loss: 0.0387\n",
            "====> Test set loss: 10.3365\n",
            "====> Epoch: 90 loss: 0.0424\n",
            "====> Test set loss: 10.3944\n",
            "====> Epoch: 91 loss: 0.0381\n",
            "====> Test set loss: 10.3994\n",
            "====> Epoch: 92 loss: 0.0391\n",
            "====> Test set loss: 10.3434\n",
            "====> Epoch: 93 loss: 0.0352\n",
            "====> Test set loss: 10.4255\n",
            "====> Epoch: 94 loss: 0.0338\n",
            "====> Test set loss: 10.4733\n",
            "====> Epoch: 95 loss: 0.0346\n",
            "====> Test set loss: 10.4484\n",
            "====> Epoch: 96 loss: 0.0366\n",
            "====> Test set loss: 10.4124\n",
            "====> Epoch: 97 loss: 0.0421\n",
            "====> Test set loss: 10.4639\n",
            "====> Epoch: 98 loss: 0.0374\n",
            "====> Test set loss: 10.4514\n",
            "====> Epoch: 99 loss: 0.0336\n",
            "====> Test set loss: 10.4471\n",
            "====> Epoch: 100 loss: 0.0314\n",
            "====> Test set loss: 10.3866\n",
            "====> Test set loss: 10.3866\n"
          ],
          "name": "stdout"
        }
      ]
    },
    {
      "cell_type": "code",
      "metadata": {
        "id": "FhLrLLBrt3W2"
      },
      "source": [
        "y4 = y_pred"
      ],
      "execution_count": 34,
      "outputs": []
    },
    {
      "cell_type": "code",
      "metadata": {
        "colab": {
          "base_uri": "https://localhost:8080/",
          "height": 366
        },
        "id": "xQ0qEw1Kt5Pq",
        "outputId": "84e50475-592b-4d14-ed4a-8954972e3b14"
      },
      "source": [
        "import matplotlib.pyplot as plt\n",
        "\n",
        "plt.figure(figsize=(20,5))\n",
        "plt.title(\"Training and Validation Loss\")\n",
        "plt.plot(np.array(vloss[:100]), label=\"valid\")\n",
        "plt.plot(np.array(tloss[:100]), label=\"train\")\n",
        "plt.xlabel(\"Epochs\")\n",
        "plt.ylabel(\"Loss\")\n",
        "plt.legend()"
      ],
      "execution_count": 35,
      "outputs": [
        {
          "output_type": "execute_result",
          "data": {
            "text/plain": [
              "<matplotlib.legend.Legend at 0x7f854c993a50>"
            ]
          },
          "metadata": {},
          "execution_count": 35
        },
        {
          "output_type": "display_data",
          "data": {
            "image/png": "[encoded data removed]",
            "text/plain": [
              "<Figure size 1440x360 with 1 Axes>"
            ]
          },
          "metadata": {
            "needs_background": "light"
          }
        }
      ]
    },
    {
      "cell_type": "code",
      "metadata": {
        "colab": {
          "base_uri": "https://localhost:8080/"
        },
        "id": "5VuKmjUlt6XF",
        "outputId": "27e0ab12-fcce-403c-804d-e3ffe2821122"
      },
      "source": [
        "# RMSE\n",
        "\n",
        "model.eval()\n",
        "test_loss = 0\n",
        "with torch.no_grad():\n",
        "    for x, y in test_loader:\n",
        "        x, y = x.cuda().float(), y.cuda()       \n",
        "        o = model(x)\n",
        "        loss = torch.sqrt(loss_function(o, y))\n",
        "        \n",
        "        test_loss += loss.item()\n",
        "print('====> Test set loss: {:.4f}'.format(test_loss / len(test_loader)))"
      ],
      "execution_count": 36,
      "outputs": [
        {
          "output_type": "stream",
          "text": [
            "====> Test set loss: 3.1094\n"
          ],
          "name": "stdout"
        }
      ]
    },
    {
      "cell_type": "code",
      "metadata": {
        "id": "M55kchBJuIQ3"
      },
      "source": [
        "###"
      ],
      "execution_count": 37,
      "outputs": []
    },
    {
      "cell_type": "code",
      "metadata": {
        "colab": {
          "base_uri": "https://localhost:8080/"
        },
        "id": "OE3DIjMGt71M",
        "outputId": "7393f969-b08d-4077-a824-ae4d50102583"
      },
      "source": [
        "import torch\n",
        "import torch.nn as nn\n",
        "import torch.nn.functional as F\n",
        "\n",
        "\n",
        "class DNN(nn.Module):\n",
        "\n",
        "    def __init__(self):\n",
        "        super(DNN, self).__init__()\n",
        "\n",
        "        self.fc1 = nn.Linear(351, 175)\n",
        "        self.fc2 = nn.Linear(175, 87)\n",
        "        self.fc3 = nn.Linear(87, 43)\n",
        "        self.fc4 = nn.Linear(43, 3)\n",
        "\n",
        "        nn.init.xavier_uniform_(self.fc1.weight)\n",
        "        nn.init.xavier_uniform_(self.fc2.weight)\n",
        "        nn.init.xavier_uniform_(self.fc3.weight)\n",
        "        nn.init.xavier_uniform_(self.fc4.weight)\n",
        "        #nn.init.xavier_uniform_(self.fc5.weight)\n",
        "        #nn.init.xavier_uniform_(self.fc6.weight)\n",
        "        #nn.init.xavier_uniform_(self.fc7.weight)\n",
        "\n",
        "    def forward(self, x):\n",
        "        x = self.fc1(x.view(-1, 351))\n",
        "        x = F.leaky_relu(x)\n",
        "        x = self.fc2(x)\n",
        "        x = F.leaky_relu(x)\n",
        "        x = self.fc3(x)\n",
        "        x = F.leaky_relu(x)\n",
        "        x = self.fc4(x)\n",
        "        # x = F.leaky_relu(x)\n",
        "        # x = self.fc5(x)\n",
        "        # x = F.leaky_relu(x)\n",
        "        # x = self.fc6(x)\n",
        "        # x = F.leaky_relu(x)\n",
        "        \n",
        "        return x\n",
        "\n",
        "\n",
        "model = DNN().cuda()\n",
        "print(model)"
      ],
      "execution_count": 40,
      "outputs": [
        {
          "output_type": "stream",
          "text": [
            "DNN(\n",
            "  (fc1): Linear(in_features=351, out_features=175, bias=True)\n",
            "  (fc2): Linear(in_features=175, out_features=87, bias=True)\n",
            "  (fc3): Linear(in_features=87, out_features=43, bias=True)\n",
            "  (fc4): Linear(in_features=43, out_features=3, bias=True)\n",
            ")\n"
          ],
          "name": "stdout"
        }
      ]
    },
    {
      "cell_type": "code",
      "metadata": {
        "colab": {
          "base_uri": "https://localhost:8080/"
        },
        "id": "ejVxlAVYuN27",
        "outputId": "03e8a7c6-de45-4fdc-eb1e-40341e1d2229"
      },
      "source": [
        "# the number of trainable parameter\n",
        "sum(p.numel() for p in model.parameters() if p.requires_grad)"
      ],
      "execution_count": 41,
      "outputs": [
        {
          "output_type": "execute_result",
          "data": {
            "text/plain": [
              "80828"
            ]
          },
          "metadata": {},
          "execution_count": 41
        }
      ]
    },
    {
      "cell_type": "code",
      "metadata": {
        "colab": {
          "base_uri": "https://localhost:8080/"
        },
        "id": "DaaVD3SnuTi3",
        "outputId": "ec9af4fb-7e65-49f6-e795-44ffa351cf6d"
      },
      "source": [
        "import torch.optim as optim\n",
        "optimizer = optim.Adam(model.parameters(), lr=0.0001)\n",
        "loss_function = nn.MSELoss()\n",
        "epochs = 100\n",
        "\n",
        "# for loss plot\n",
        "tloss = []\n",
        "vloss = []\n",
        "\n",
        "for e in range(1, epochs+1):\n",
        "    train(model, tloss, e)\n",
        "    test(model, vloss)\n",
        "\n",
        "y_pred = test_pred(model)"
      ],
      "execution_count": 42,
      "outputs": [
        {
          "output_type": "stream",
          "text": [
            "====> Epoch: 1 loss: 87.6950\n",
            "====> Test set loss: 27.4587\n",
            "====> Epoch: 2 loss: 26.0991\n",
            "====> Test set loss: 23.8848\n",
            "====> Epoch: 3 loss: 23.6154\n",
            "====> Test set loss: 22.8279\n",
            "====> Epoch: 4 loss: 21.7600\n",
            "====> Test set loss: 21.8867\n",
            "====> Epoch: 5 loss: 20.1583\n",
            "====> Test set loss: 20.9327\n",
            "====> Epoch: 6 loss: 18.4468\n",
            "====> Test set loss: 20.0550\n",
            "====> Epoch: 7 loss: 16.6248\n",
            "====> Test set loss: 18.9767\n",
            "====> Epoch: 8 loss: 14.6255\n",
            "====> Test set loss: 17.6533\n",
            "====> Epoch: 9 loss: 12.4596\n",
            "====> Test set loss: 16.3207\n",
            "====> Epoch: 10 loss: 10.5399\n",
            "====> Test set loss: 14.9928\n",
            "====> Epoch: 11 loss: 8.8355\n",
            "====> Test set loss: 13.7741\n",
            "====> Epoch: 12 loss: 7.3845\n",
            "====> Test set loss: 12.6329\n",
            "====> Epoch: 13 loss: 6.1916\n",
            "====> Test set loss: 11.7502\n",
            "====> Epoch: 14 loss: 5.2125\n",
            "====> Test set loss: 11.1011\n",
            "====> Epoch: 15 loss: 4.5028\n",
            "====> Test set loss: 10.5074\n",
            "====> Epoch: 16 loss: 3.9693\n",
            "====> Test set loss: 10.1350\n",
            "====> Epoch: 17 loss: 3.5510\n",
            "====> Test set loss: 9.8938\n",
            "====> Epoch: 18 loss: 3.2194\n",
            "====> Test set loss: 9.6952\n",
            "====> Epoch: 19 loss: 2.9278\n",
            "====> Test set loss: 9.6369\n",
            "====> Epoch: 20 loss: 2.6814\n",
            "====> Test set loss: 9.5588\n",
            "====> Epoch: 21 loss: 2.4711\n",
            "====> Test set loss: 9.6119\n",
            "====> Epoch: 22 loss: 2.2780\n",
            "====> Test set loss: 9.5839\n",
            "====> Epoch: 23 loss: 2.0934\n",
            "====> Test set loss: 9.6100\n",
            "====> Epoch: 24 loss: 1.9364\n",
            "====> Test set loss: 9.5695\n",
            "====> Epoch: 25 loss: 1.7716\n",
            "====> Test set loss: 9.6505\n",
            "====> Epoch: 26 loss: 1.6321\n",
            "====> Test set loss: 9.6649\n",
            "====> Epoch: 27 loss: 1.5022\n",
            "====> Test set loss: 9.8030\n",
            "====> Epoch: 28 loss: 1.3641\n",
            "====> Test set loss: 9.8793\n",
            "====> Epoch: 29 loss: 1.2516\n",
            "====> Test set loss: 9.9594\n",
            "====> Epoch: 30 loss: 1.1278\n",
            "====> Test set loss: 10.0671\n",
            "====> Epoch: 31 loss: 1.0225\n",
            "====> Test set loss: 10.1451\n",
            "====> Epoch: 32 loss: 0.9161\n",
            "====> Test set loss: 10.2293\n",
            "====> Epoch: 33 loss: 0.8160\n",
            "====> Test set loss: 10.2570\n",
            "====> Epoch: 34 loss: 0.7209\n",
            "====> Test set loss: 10.2814\n",
            "====> Epoch: 35 loss: 0.6289\n",
            "====> Test set loss: 10.3112\n",
            "====> Epoch: 36 loss: 0.5408\n",
            "====> Test set loss: 10.4021\n",
            "====> Epoch: 37 loss: 0.4636\n",
            "====> Test set loss: 10.4090\n",
            "====> Epoch: 38 loss: 0.3919\n",
            "====> Test set loss: 10.4825\n",
            "====> Epoch: 39 loss: 0.3239\n",
            "====> Test set loss: 10.4914\n",
            "====> Epoch: 40 loss: 0.2700\n",
            "====> Test set loss: 10.6019\n",
            "====> Epoch: 41 loss: 0.2237\n",
            "====> Test set loss: 10.5957\n",
            "====> Epoch: 42 loss: 0.1846\n",
            "====> Test set loss: 10.7408\n",
            "====> Epoch: 43 loss: 0.1560\n",
            "====> Test set loss: 10.7215\n",
            "====> Epoch: 44 loss: 0.1300\n",
            "====> Test set loss: 10.7101\n",
            "====> Epoch: 45 loss: 0.1157\n",
            "====> Test set loss: 10.6492\n",
            "====> Epoch: 46 loss: 0.1064\n",
            "====> Test set loss: 10.6821\n",
            "====> Epoch: 47 loss: 0.0916\n",
            "====> Test set loss: 10.8067\n",
            "====> Epoch: 48 loss: 0.0824\n",
            "====> Test set loss: 10.7089\n",
            "====> Epoch: 49 loss: 0.0764\n",
            "====> Test set loss: 10.7702\n",
            "====> Epoch: 50 loss: 0.0632\n",
            "====> Test set loss: 10.8385\n",
            "====> Epoch: 51 loss: 0.0612\n",
            "====> Test set loss: 10.9151\n",
            "====> Epoch: 52 loss: 0.0616\n",
            "====> Test set loss: 10.9285\n",
            "====> Epoch: 53 loss: 0.0654\n",
            "====> Test set loss: 10.7898\n",
            "====> Epoch: 54 loss: 0.0685\n",
            "====> Test set loss: 10.8900\n",
            "====> Epoch: 55 loss: 0.0624\n",
            "====> Test set loss: 10.8086\n",
            "====> Epoch: 56 loss: 0.0584\n",
            "====> Test set loss: 10.7736\n",
            "====> Epoch: 57 loss: 0.0537\n",
            "====> Test set loss: 10.8261\n",
            "====> Epoch: 58 loss: 0.0563\n",
            "====> Test set loss: 10.8187\n",
            "====> Epoch: 59 loss: 0.0549\n",
            "====> Test set loss: 10.8451\n",
            "====> Epoch: 60 loss: 0.0526\n",
            "====> Test set loss: 10.8642\n",
            "====> Epoch: 61 loss: 0.0579\n",
            "====> Test set loss: 10.7688\n",
            "====> Epoch: 62 loss: 0.0564\n",
            "====> Test set loss: 10.8357\n",
            "====> Epoch: 63 loss: 0.0619\n",
            "====> Test set loss: 10.8938\n",
            "====> Epoch: 64 loss: 0.0610\n",
            "====> Test set loss: 10.8131\n",
            "====> Epoch: 65 loss: 0.0596\n",
            "====> Test set loss: 10.7347\n",
            "====> Epoch: 66 loss: 0.0536\n",
            "====> Test set loss: 10.7742\n",
            "====> Epoch: 67 loss: 0.0435\n",
            "====> Test set loss: 10.7561\n",
            "====> Epoch: 68 loss: 0.0475\n",
            "====> Test set loss: 10.6788\n",
            "====> Epoch: 69 loss: 0.0531\n",
            "====> Test set loss: 10.7998\n",
            "====> Epoch: 70 loss: 0.0542\n",
            "====> Test set loss: 10.8428\n",
            "====> Epoch: 71 loss: 0.0535\n",
            "====> Test set loss: 10.7237\n",
            "====> Epoch: 72 loss: 0.0536\n",
            "====> Test set loss: 10.7102\n",
            "====> Epoch: 73 loss: 0.0542\n",
            "====> Test set loss: 10.7547\n",
            "====> Epoch: 74 loss: 0.0457\n",
            "====> Test set loss: 10.6725\n",
            "====> Epoch: 75 loss: 0.0538\n",
            "====> Test set loss: 10.6530\n",
            "====> Epoch: 76 loss: 0.0530\n",
            "====> Test set loss: 10.8737\n",
            "====> Epoch: 77 loss: 0.0454\n",
            "====> Test set loss: 10.7499\n",
            "====> Epoch: 78 loss: 0.0497\n",
            "====> Test set loss: 10.8497\n",
            "====> Epoch: 79 loss: 0.0544\n",
            "====> Test set loss: 10.6378\n",
            "====> Epoch: 80 loss: 0.0517\n",
            "====> Test set loss: 10.7151\n",
            "====> Epoch: 81 loss: 0.0484\n",
            "====> Test set loss: 10.7664\n",
            "====> Epoch: 82 loss: 0.0473\n",
            "====> Test set loss: 10.7369\n",
            "====> Epoch: 83 loss: 0.0551\n",
            "====> Test set loss: 10.7697\n",
            "====> Epoch: 84 loss: 0.0499\n",
            "====> Test set loss: 10.6624\n",
            "====> Epoch: 85 loss: 0.0551\n",
            "====> Test set loss: 10.7154\n",
            "====> Epoch: 86 loss: 0.0464\n",
            "====> Test set loss: 10.7981\n",
            "====> Epoch: 87 loss: 0.0470\n",
            "====> Test set loss: 10.6824\n",
            "====> Epoch: 88 loss: 0.0454\n",
            "====> Test set loss: 10.8461\n",
            "====> Epoch: 89 loss: 0.0486\n",
            "====> Test set loss: 10.6571\n",
            "====> Epoch: 90 loss: 0.0487\n",
            "====> Test set loss: 10.7211\n",
            "====> Epoch: 91 loss: 0.0469\n",
            "====> Test set loss: 10.7117\n",
            "====> Epoch: 92 loss: 0.0514\n",
            "====> Test set loss: 10.7368\n",
            "====> Epoch: 93 loss: 0.0549\n",
            "====> Test set loss: 10.7099\n",
            "====> Epoch: 94 loss: 0.0586\n",
            "====> Test set loss: 10.7086\n",
            "====> Epoch: 95 loss: 0.0471\n",
            "====> Test set loss: 10.7543\n",
            "====> Epoch: 96 loss: 0.0438\n",
            "====> Test set loss: 10.6818\n",
            "====> Epoch: 97 loss: 0.0426\n",
            "====> Test set loss: 10.7767\n",
            "====> Epoch: 98 loss: 0.0439\n",
            "====> Test set loss: 10.6580\n",
            "====> Epoch: 99 loss: 0.0507\n",
            "====> Test set loss: 10.7196\n",
            "====> Epoch: 100 loss: 0.0582\n",
            "====> Test set loss: 10.6826\n",
            "====> Test set loss: 10.6826\n"
          ],
          "name": "stdout"
        }
      ]
    },
    {
      "cell_type": "code",
      "metadata": {
        "id": "-noI-r67uUUW"
      },
      "source": [
        "y5 = y_pred"
      ],
      "execution_count": 43,
      "outputs": []
    },
    {
      "cell_type": "code",
      "metadata": {
        "colab": {
          "base_uri": "https://localhost:8080/",
          "height": 256
        },
        "id": "7yZNVyqyuZO6",
        "outputId": "9795f5a0-2739-459a-b12e-de4dac6dcc88"
      },
      "source": [
        "import matplotlib.pyplot as plt\n",
        "\n",
        "plt.figure(figsize=(20,5))\n",
        "plt.title(\"Training and Validation Loss\")\n",
        "plt.plot(np.array(vloss[:100]), label=\"valid\")\n",
        "plt.plot(np.array(tloss[:100]), label=\"train\")\n",
        "plt.xlabel(\"Epochs\")\n",
        "plt.ylabel(\"Loss\")\n",
        "plt.legend()"
      ],
      "execution_count": 44,
      "outputs": [
        {
          "output_type": "execute_result",
          "data": {
            "text/plain": [
              "<matplotlib.legend.Legend at 0x7f854c8cb2d0>"
            ]
          },
          "metadata": {},
          "execution_count": 44
        },
        {
          "output_type": "display_data",
          "data": {
            "image/png": "[encoded data removed]",
            "text/plain": [
              "<Figure size 1440x360 with 1 Axes>"
            ]
          },
          "metadata": {
            "needs_background": "light"
          }
        }
      ]
    },
    {
      "cell_type": "code",
      "metadata": {
        "colab": {
          "base_uri": "https://localhost:8080/"
        },
        "id": "wEL73cw_uaCS",
        "outputId": "c232aec9-78ad-470d-b454-9a35742ccd26"
      },
      "source": [
        "# RMSE\n",
        "\n",
        "model.eval()\n",
        "test_loss = 0\n",
        "with torch.no_grad():\n",
        "    for x, y in test_loader:\n",
        "        x, y = x.cuda().float(), y.cuda()       \n",
        "        o = model(x)\n",
        "        loss = torch.sqrt(loss_function(o, y))\n",
        "        \n",
        "        test_loss += loss.item()\n",
        "print('====> Test set loss: {:.4f}'.format(test_loss / len(test_loader)))"
      ],
      "execution_count": 45,
      "outputs": [
        {
          "output_type": "stream",
          "text": [
            "====> Test set loss: 3.1510\n"
          ],
          "name": "stdout"
        }
      ]
    },
    {
      "cell_type": "code",
      "metadata": {
        "id": "Rq3djDmZua8B"
      },
      "source": [
        "###"
      ],
      "execution_count": 46,
      "outputs": []
    },
    {
      "cell_type": "code",
      "metadata": {
        "colab": {
          "base_uri": "https://localhost:8080/"
        },
        "id": "nIL_b8eDuchg",
        "outputId": "151f17ea-aba2-4cdd-ee85-f3f8fe1e4580"
      },
      "source": [
        "import torch\n",
        "import torch.nn as nn\n",
        "import torch.nn.functional as F\n",
        "\n",
        "\n",
        "class DNN(nn.Module):\n",
        "\n",
        "    def __init__(self):\n",
        "        super(DNN, self).__init__()\n",
        "\n",
        "        self.fc1 = nn.Linear(351, 175)\n",
        "        self.fc2 = nn.Linear(175, 87)\n",
        "        self.fc3 = nn.Linear(87, 43)\n",
        "        self.fc4 = nn.Linear(43, 21)\n",
        "        self.fc5 = nn.Linear(21, 3)\n",
        "\n",
        "        nn.init.xavier_uniform_(self.fc1.weight)\n",
        "        nn.init.xavier_uniform_(self.fc2.weight)\n",
        "        nn.init.xavier_uniform_(self.fc3.weight)\n",
        "        nn.init.xavier_uniform_(self.fc4.weight)\n",
        "        nn.init.xavier_uniform_(self.fc5.weight)\n",
        "        #nn.init.xavier_uniform_(self.fc6.weight)\n",
        "        #nn.init.xavier_uniform_(self.fc7.weight)\n",
        "\n",
        "    def forward(self, x):\n",
        "        x = self.fc1(x.view(-1, 351))\n",
        "        x = F.leaky_relu(x)\n",
        "        x = self.fc2(x)\n",
        "        x = F.leaky_relu(x)\n",
        "        x = self.fc3(x)\n",
        "        x = F.leaky_relu(x)\n",
        "        x = self.fc4(x)\n",
        "        x = F.leaky_relu(x)\n",
        "        x = self.fc5(x)\n",
        "        # x = F.leaky_relu(x)\n",
        "        # x = self.fc6(x)\n",
        "        # x = F.leaky_relu(x)\n",
        "        \n",
        "        return x\n",
        "\n",
        "\n",
        "model = DNN().cuda()\n",
        "print(model)"
      ],
      "execution_count": 49,
      "outputs": [
        {
          "output_type": "stream",
          "text": [
            "DNN(\n",
            "  (fc1): Linear(in_features=351, out_features=175, bias=True)\n",
            "  (fc2): Linear(in_features=175, out_features=87, bias=True)\n",
            "  (fc3): Linear(in_features=87, out_features=43, bias=True)\n",
            "  (fc4): Linear(in_features=43, out_features=21, bias=True)\n",
            "  (fc5): Linear(in_features=21, out_features=3, bias=True)\n",
            ")\n"
          ],
          "name": "stdout"
        }
      ]
    },
    {
      "cell_type": "code",
      "metadata": {
        "colab": {
          "base_uri": "https://localhost:8080/"
        },
        "id": "Y82AjndIuooj",
        "outputId": "63466c6b-8604-47b8-cb39-6c169572cd83"
      },
      "source": [
        "# the number of trainable parameter\n",
        "sum(p.numel() for p in model.parameters() if p.requires_grad)"
      ],
      "execution_count": 50,
      "outputs": [
        {
          "output_type": "execute_result",
          "data": {
            "text/plain": [
              "81686"
            ]
          },
          "metadata": {},
          "execution_count": 50
        }
      ]
    },
    {
      "cell_type": "code",
      "metadata": {
        "colab": {
          "base_uri": "https://localhost:8080/"
        },
        "id": "8HNi4DnsupzM",
        "outputId": "ea7ec772-5af0-4022-a01c-0cba44c3f2d8"
      },
      "source": [
        "import torch.optim as optim\n",
        "optimizer = optim.Adam(model.parameters(), lr=0.0001)\n",
        "loss_function = nn.MSELoss()\n",
        "epochs = 100\n",
        "\n",
        "# for loss plot\n",
        "tloss = []\n",
        "vloss = []\n",
        "\n",
        "for e in range(1, epochs+1):\n",
        "    train(model, tloss, e)\n",
        "    test(model, vloss)\n",
        "\n",
        "y_pred = test_pred(model)"
      ],
      "execution_count": 51,
      "outputs": [
        {
          "output_type": "stream",
          "text": [
            "====> Epoch: 1 loss: 84.2882\n",
            "====> Test set loss: 26.3377\n",
            "====> Epoch: 2 loss: 25.6608\n",
            "====> Test set loss: 24.6806\n",
            "====> Epoch: 3 loss: 22.9657\n",
            "====> Test set loss: 23.1101\n",
            "====> Epoch: 4 loss: 20.6248\n",
            "====> Test set loss: 21.7604\n",
            "====> Epoch: 5 loss: 18.3177\n",
            "====> Test set loss: 20.4161\n",
            "====> Epoch: 6 loss: 15.9121\n",
            "====> Test set loss: 19.3140\n",
            "====> Epoch: 7 loss: 13.6592\n",
            "====> Test set loss: 18.2391\n",
            "====> Epoch: 8 loss: 11.7075\n",
            "====> Test set loss: 17.0108\n",
            "====> Epoch: 9 loss: 10.1579\n",
            "====> Test set loss: 16.0854\n",
            "====> Epoch: 10 loss: 8.8057\n",
            "====> Test set loss: 15.0959\n",
            "====> Epoch: 11 loss: 7.5235\n",
            "====> Test set loss: 14.0932\n",
            "====> Epoch: 12 loss: 6.3174\n",
            "====> Test set loss: 13.1769\n",
            "====> Epoch: 13 loss: 5.2308\n",
            "====> Test set loss: 12.5454\n",
            "====> Epoch: 14 loss: 4.3662\n",
            "====> Test set loss: 11.5081\n",
            "====> Epoch: 15 loss: 3.6798\n",
            "====> Test set loss: 11.2291\n",
            "====> Epoch: 16 loss: 3.2202\n",
            "====> Test set loss: 10.9225\n",
            "====> Epoch: 17 loss: 2.8742\n",
            "====> Test set loss: 10.9621\n",
            "====> Epoch: 18 loss: 2.5850\n",
            "====> Test set loss: 10.6464\n",
            "====> Epoch: 19 loss: 2.3401\n",
            "====> Test set loss: 10.5925\n",
            "====> Epoch: 20 loss: 2.1086\n",
            "====> Test set loss: 10.5827\n",
            "====> Epoch: 21 loss: 1.9235\n",
            "====> Test set loss: 10.5158\n",
            "====> Epoch: 22 loss: 1.7614\n",
            "====> Test set loss: 10.6605\n",
            "====> Epoch: 23 loss: 1.6120\n",
            "====> Test set loss: 10.6697\n",
            "====> Epoch: 24 loss: 1.4643\n",
            "====> Test set loss: 10.6274\n",
            "====> Epoch: 25 loss: 1.3329\n",
            "====> Test set loss: 10.8026\n",
            "====> Epoch: 26 loss: 1.2082\n",
            "====> Test set loss: 10.7593\n",
            "====> Epoch: 27 loss: 1.0997\n",
            "====> Test set loss: 10.7812\n",
            "====> Epoch: 28 loss: 0.9883\n",
            "====> Test set loss: 10.8634\n",
            "====> Epoch: 29 loss: 0.8911\n",
            "====> Test set loss: 10.8958\n",
            "====> Epoch: 30 loss: 0.7982\n",
            "====> Test set loss: 11.0728\n",
            "====> Epoch: 31 loss: 0.7109\n",
            "====> Test set loss: 11.0479\n",
            "====> Epoch: 32 loss: 0.6298\n",
            "====> Test set loss: 11.1390\n",
            "====> Epoch: 33 loss: 0.5564\n",
            "====> Test set loss: 11.2521\n",
            "====> Epoch: 34 loss: 0.4856\n",
            "====> Test set loss: 11.3024\n",
            "====> Epoch: 35 loss: 0.4130\n",
            "====> Test set loss: 11.3033\n",
            "====> Epoch: 36 loss: 0.3558\n",
            "====> Test set loss: 11.2811\n",
            "====> Epoch: 37 loss: 0.3052\n",
            "====> Test set loss: 11.3944\n",
            "====> Epoch: 38 loss: 0.2579\n",
            "====> Test set loss: 11.4326\n",
            "====> Epoch: 39 loss: 0.2209\n",
            "====> Test set loss: 11.4715\n",
            "====> Epoch: 40 loss: 0.1850\n",
            "====> Test set loss: 11.5301\n",
            "====> Epoch: 41 loss: 0.1658\n",
            "====> Test set loss: 11.5862\n",
            "====> Epoch: 42 loss: 0.1462\n",
            "====> Test set loss: 11.5663\n",
            "====> Epoch: 43 loss: 0.1342\n",
            "====> Test set loss: 11.6395\n",
            "====> Epoch: 44 loss: 0.1219\n",
            "====> Test set loss: 11.6313\n",
            "====> Epoch: 45 loss: 0.1181\n",
            "====> Test set loss: 11.6360\n",
            "====> Epoch: 46 loss: 0.1046\n",
            "====> Test set loss: 11.6890\n",
            "====> Epoch: 47 loss: 0.0958\n",
            "====> Test set loss: 11.5795\n",
            "====> Epoch: 48 loss: 0.0895\n",
            "====> Test set loss: 11.5640\n",
            "====> Epoch: 49 loss: 0.0958\n",
            "====> Test set loss: 11.5476\n",
            "====> Epoch: 50 loss: 0.0791\n",
            "====> Test set loss: 11.6592\n",
            "====> Epoch: 51 loss: 0.0771\n",
            "====> Test set loss: 11.6060\n",
            "====> Epoch: 52 loss: 0.0865\n",
            "====> Test set loss: 11.5511\n",
            "====> Epoch: 53 loss: 0.0891\n",
            "====> Test set loss: 11.6570\n",
            "====> Epoch: 54 loss: 0.0787\n",
            "====> Test set loss: 11.6359\n",
            "====> Epoch: 55 loss: 0.0800\n",
            "====> Test set loss: 11.5967\n",
            "====> Epoch: 56 loss: 0.0798\n",
            "====> Test set loss: 11.4749\n",
            "====> Epoch: 57 loss: 0.0745\n",
            "====> Test set loss: 11.6433\n",
            "====> Epoch: 58 loss: 0.0665\n",
            "====> Test set loss: 11.5895\n",
            "====> Epoch: 59 loss: 0.0660\n",
            "====> Test set loss: 11.6058\n",
            "====> Epoch: 60 loss: 0.0625\n",
            "====> Test set loss: 11.5277\n",
            "====> Epoch: 61 loss: 0.0625\n",
            "====> Test set loss: 11.4796\n",
            "====> Epoch: 62 loss: 0.0781\n",
            "====> Test set loss: 11.4851\n",
            "====> Epoch: 63 loss: 0.0812\n",
            "====> Test set loss: 11.4528\n",
            "====> Epoch: 64 loss: 0.0785\n",
            "====> Test set loss: 11.4299\n",
            "====> Epoch: 65 loss: 0.0748\n",
            "====> Test set loss: 11.5448\n",
            "====> Epoch: 66 loss: 0.0705\n",
            "====> Test set loss: 11.5284\n",
            "====> Epoch: 67 loss: 0.0756\n",
            "====> Test set loss: 11.4968\n",
            "====> Epoch: 68 loss: 0.0788\n",
            "====> Test set loss: 11.4594\n",
            "====> Epoch: 69 loss: 0.0749\n",
            "====> Test set loss: 11.5063\n",
            "====> Epoch: 70 loss: 0.0796\n",
            "====> Test set loss: 11.4661\n",
            "====> Epoch: 71 loss: 0.0685\n",
            "====> Test set loss: 11.4555\n",
            "====> Epoch: 72 loss: 0.0615\n",
            "====> Test set loss: 11.5017\n",
            "====> Epoch: 73 loss: 0.0559\n",
            "====> Test set loss: 11.4667\n",
            "====> Epoch: 74 loss: 0.0553\n",
            "====> Test set loss: 11.4129\n",
            "====> Epoch: 75 loss: 0.0573\n",
            "====> Test set loss: 11.5427\n",
            "====> Epoch: 76 loss: 0.0629\n",
            "====> Test set loss: 11.5469\n",
            "====> Epoch: 77 loss: 0.0676\n",
            "====> Test set loss: 11.4415\n",
            "====> Epoch: 78 loss: 0.0687\n",
            "====> Test set loss: 11.4031\n",
            "====> Epoch: 79 loss: 0.0684\n",
            "====> Test set loss: 11.4492\n",
            "====> Epoch: 80 loss: 0.0624\n",
            "====> Test set loss: 11.4384\n",
            "====> Epoch: 81 loss: 0.0663\n",
            "====> Test set loss: 11.4649\n",
            "====> Epoch: 82 loss: 0.0670\n",
            "====> Test set loss: 11.3844\n",
            "====> Epoch: 83 loss: 0.0591\n",
            "====> Test set loss: 11.3889\n",
            "====> Epoch: 84 loss: 0.0558\n",
            "====> Test set loss: 11.2770\n",
            "====> Epoch: 85 loss: 0.0638\n",
            "====> Test set loss: 11.4571\n",
            "====> Epoch: 86 loss: 0.0741\n",
            "====> Test set loss: 11.4875\n",
            "====> Epoch: 87 loss: 0.0565\n",
            "====> Test set loss: 11.3832\n",
            "====> Epoch: 88 loss: 0.0552\n",
            "====> Test set loss: 11.4344\n",
            "====> Epoch: 89 loss: 0.0616\n",
            "====> Test set loss: 11.2958\n",
            "====> Epoch: 90 loss: 0.0568\n",
            "====> Test set loss: 11.3173\n",
            "====> Epoch: 91 loss: 0.0580\n",
            "====> Test set loss: 11.2588\n",
            "====> Epoch: 92 loss: 0.0581\n",
            "====> Test set loss: 11.3959\n",
            "====> Epoch: 93 loss: 0.0608\n",
            "====> Test set loss: 11.3650\n",
            "====> Epoch: 94 loss: 0.0591\n",
            "====> Test set loss: 11.3306\n",
            "====> Epoch: 95 loss: 0.0683\n",
            "====> Test set loss: 11.3132\n",
            "====> Epoch: 96 loss: 0.0632\n",
            "====> Test set loss: 11.2694\n",
            "====> Epoch: 97 loss: 0.0569\n",
            "====> Test set loss: 11.3248\n",
            "====> Epoch: 98 loss: 0.0530\n",
            "====> Test set loss: 11.2578\n",
            "====> Epoch: 99 loss: 0.0488\n",
            "====> Test set loss: 11.3601\n",
            "====> Epoch: 100 loss: 0.0560\n",
            "====> Test set loss: 11.2916\n",
            "====> Test set loss: 11.2916\n"
          ],
          "name": "stdout"
        }
      ]
    },
    {
      "cell_type": "code",
      "metadata": {
        "id": "RERaQMNHwDtZ"
      },
      "source": [
        "y5 = y_pred"
      ],
      "execution_count": 52,
      "outputs": []
    },
    {
      "cell_type": "code",
      "metadata": {
        "colab": {
          "base_uri": "https://localhost:8080/",
          "height": 256
        },
        "id": "CzSI91hEwFo9",
        "outputId": "174e82ee-9c67-43e1-e10b-0b45b407d217"
      },
      "source": [
        "import matplotlib.pyplot as plt\n",
        "\n",
        "plt.figure(figsize=(20,5))\n",
        "plt.title(\"Training and Validation Loss\")\n",
        "plt.plot(np.array(vloss[:100]), label=\"valid\")\n",
        "plt.plot(np.array(tloss[:100]), label=\"train\")\n",
        "plt.xlabel(\"Epochs\")\n",
        "plt.ylabel(\"Loss\")\n",
        "plt.legend()"
      ],
      "execution_count": 53,
      "outputs": [
        {
          "output_type": "execute_result",
          "data": {
            "text/plain": [
              "<matplotlib.legend.Legend at 0x7f854c8065d0>"
            ]
          },
          "metadata": {},
          "execution_count": 53
        },
        {
          "output_type": "display_data",
          "data": {
            "image/png": "[encoded data removed]",
            "text/plain": [
              "<Figure size 1440x360 with 1 Axes>"
            ]
          },
          "metadata": {
            "needs_background": "light"
          }
        }
      ]
    },
    {
      "cell_type": "code",
      "metadata": {
        "colab": {
          "base_uri": "https://localhost:8080/"
        },
        "id": "umiQ564AwGeG",
        "outputId": "41c7369b-7da6-4017-f31f-68c7fceb5c3c"
      },
      "source": [
        "# RMSE\n",
        "\n",
        "model.eval()\n",
        "test_loss = 0\n",
        "with torch.no_grad():\n",
        "    for x, y in test_loader:\n",
        "        x, y = x.cuda().float(), y.cuda()       \n",
        "        o = model(x)\n",
        "        loss = torch.sqrt(loss_function(o, y))\n",
        "        \n",
        "        test_loss += loss.item()\n",
        "print('====> Test set loss: {:.4f}'.format(test_loss / len(test_loader)))"
      ],
      "execution_count": 54,
      "outputs": [
        {
          "output_type": "stream",
          "text": [
            "====> Test set loss: 3.2428\n"
          ],
          "name": "stdout"
        }
      ]
    },
    {
      "cell_type": "code",
      "metadata": {
        "id": "Nuws5tK-wHkJ"
      },
      "source": [
        "###"
      ],
      "execution_count": 55,
      "outputs": []
    },
    {
      "cell_type": "code",
      "metadata": {
        "id": "KZon-qyqwH-c"
      },
      "source": [
        ""
      ],
      "execution_count": null,
      "outputs": []
    }
  ]
}