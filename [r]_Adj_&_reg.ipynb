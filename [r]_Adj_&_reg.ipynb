{
  "nbformat": 4,
  "nbformat_minor": 0,
  "metadata": {
    "colab": {
      "name": "[r] Adj & reg.ipynb",
      "provenance": [],
      "collapsed_sections": [],
      "authorship_tag": "ABX9TyNvDU2rb//T+LM11nZy6bjh",
      "include_colab_link": true
    },
    "kernelspec": {
      "name": "python3",
      "display_name": "Python 3"
    },
    "language_info": {
      "name": "python"
    }
  },
  "cells": [
    {
      "cell_type": "markdown",
      "metadata": {
        "id": "view-in-github",
        "colab_type": "text"
      },
      "source": [
        "<a href=\"https://colab.research.google.com/github/taechanha/inverseDesignMetaMatl/blob/main/%5Br%5D_Adj_%26_reg.ipynb\" target=\"_parent\"><img src=\"https://colab.research.google.com/assets/colab-badge.svg\" alt=\"Open In Colab\"/></a>"
      ]
    },
    {
      "cell_type": "code",
      "metadata": {
        "colab": {
          "base_uri": "https://localhost:8080/"
        },
        "id": "-d-CtwD3G6RH",
        "outputId": "a8f027a6-12a5-4989-99f5-6667d74f5c9c"
      },
      "source": [
        "###################### FROM HERE ######################\n",
        "###################### FROM HERE ######################\n",
        "###################### FROM HERE ######################\n",
        "###################### FROM HERE ######################\n",
        "###################### FROM HERE ######################\n",
        "###################### FROM HERE ######################\n",
        "###################### FROM HERE ######################\n",
        "###################### FROM HERE ######################\n",
        "\n",
        "import numpy as np\n",
        "import matplotlib.pyplot as plt\n",
        "\n",
        "f = open(\"/content/dataset_2.txt\", 'r')\n",
        "data = []\n",
        "length = 0\n",
        "for i in f:\n",
        "  new = []\n",
        "  new.append(i)\n",
        "  data.append(new)\n",
        "\n",
        "  # length of dataset\n",
        "  length += 1\n",
        "\n",
        "f.close()\n",
        "\n",
        "# create dataset from data\n",
        "dataset = []\n",
        "for i in range(length):\n",
        "  new = []\n",
        "  for j in data[i][0].split(','):\n",
        "    new.append(float(j))\n",
        "  dataset.append(new)\n",
        "\n",
        "\n",
        "# trim out label from dataset\n",
        "# Ex Ey Ez\n",
        "label = []\n",
        "new = []\n",
        "for line in dataset:\n",
        "  tmp = []\n",
        "  tmp.append(line.pop(-1))\n",
        "  tmp.append(line.pop(-1))\n",
        "  tmp.append(line.pop(-1))\n",
        "  tmp.reverse()\n",
        "  label.append(tmp)\n",
        "\n",
        "print(\"label.shape: \", np.array(label).shape)\n",
        "\n",
        "\n",
        "# create edge_index\n",
        "edge_mat = np.zeros(shape=(27,27))\n",
        "edge_index = []\n",
        "\n",
        "for e in range(len(dataset)):\n",
        "  for i in range(0, 27):\n",
        "    for j in range(i+1, 27):\n",
        "      edge_mat[i][j] = dataset[e].pop(0)\n",
        "  edge_index.append(edge_mat + edge_mat.T)\n",
        "\n",
        "\n",
        "# whole dataset to Tensor & train/test split\n",
        "import os\n",
        "import torch\n",
        "from torch.utils.data import Dataset\n",
        "from torchvision import datasets\n",
        "from torchvision.transforms import ToTensor\n",
        "import matplotlib.pyplot as plt\n",
        "\n",
        "edge_index = torch.FloatTensor(edge_index)\n",
        "label = torch.FloatTensor(label)\n",
        "\n",
        "split = int(length * 0.8)\n",
        "\n",
        "x_train = edge_index[:split]\n",
        "y_train = label[:split]\n",
        "x_val = edge_index[split:]\n",
        "y_val = label[split:]\n",
        "\n",
        "print(\"x_train, y_train, x_val shape: \", x_train.shape, y_train.shape, x_val.shape)\n",
        "\n",
        "# create torch dataset\n",
        "import os\n",
        "import torch\n",
        "from torch.utils.data import Dataset\n",
        "from torchvision import datasets\n",
        "from torchvision.transforms import ToTensor\n",
        "import matplotlib.pyplot as plt\n",
        "\n",
        "class CustomDataset(Dataset):\n",
        "    def __init__(self, label, dataset, transform=None, target_transform=None):\n",
        "        self.labels = label\n",
        "        self.dataset = dataset\n",
        "        self.transform = transform\n",
        "        self.target_transform = target_transform\n",
        "\n",
        "    def __len__(self):\n",
        "        return len(self.labels)\n",
        "\n",
        "    def __getitem__(self, idx):\n",
        "        data = self.dataset[idx]\n",
        "        label = self.labels[idx]\n",
        "        if self.transform:\n",
        "            data = self.transform(data)\n",
        "        if self.target_transform:\n",
        "            label = self.target_transform(label)\n",
        "        return data, label\n",
        "\n",
        "# create DataLoader\n",
        "from torch.utils.data import DataLoader\n",
        "\n",
        "training_data   = CustomDataset(label=y_train, dataset=x_train)\n",
        "test_data       = CustomDataset(label=y_val, dataset=x_val)\n",
        "train_loader    = DataLoader(training_data, batch_size=4, shuffle=True)\n",
        "test_loader     = DataLoader(test_data, batch_size=4, shuffle=False)"
      ],
      "execution_count": 1,
      "outputs": [
        {
          "output_type": "stream",
          "text": [
            "label.shape:  (2000, 3)\n",
            "x_train, y_train, x_val shape:  torch.Size([1600, 27, 27]) torch.Size([1600, 3]) torch.Size([400, 27, 27])\n"
          ],
          "name": "stdout"
        }
      ]
    },
    {
      "cell_type": "code",
      "metadata": {
        "colab": {
          "base_uri": "https://localhost:8080/"
        },
        "id": "bfJZYdEUNMBu",
        "outputId": "04296239-d882-4042-a80d-600e50efdeb3"
      },
      "source": [
        "x_train = edge_index[:split]\n",
        "y_train = label[:split][:, 0]\n",
        "x_val = edge_index[split:]\n",
        "y_val = label[split:][:, 0]\n",
        "\n",
        "print(\"x_train, y_train, x_val shape: \", x_train.shape, y_train.shape, x_val.shape)\n",
        "\n",
        "# create torch dataset\n",
        "import os\n",
        "import torch\n",
        "from torch.utils.data import Dataset\n",
        "from torchvision import datasets\n",
        "from torchvision.transforms import ToTensor\n",
        "import matplotlib.pyplot as plt\n",
        "\n",
        "class CustomDataset(Dataset):\n",
        "    def __init__(self, label, dataset, transform=None, target_transform=None):\n",
        "        self.labels = label\n",
        "        self.dataset = dataset\n",
        "        self.transform = transform\n",
        "        self.target_transform = target_transform\n",
        "\n",
        "    def __len__(self):\n",
        "        return len(self.labels)\n",
        "\n",
        "    def __getitem__(self, idx):\n",
        "        data = self.dataset[idx]\n",
        "        label = self.labels[idx]\n",
        "        if self.transform:\n",
        "            data = self.transform(data)\n",
        "        if self.target_transform:\n",
        "            label = self.target_transform(label)\n",
        "        return data, label\n",
        "\n",
        "# create DataLoader\n",
        "from torch.utils.data import DataLoader\n",
        "\n",
        "training_data   = CustomDataset(label=y_train, dataset=x_train)\n",
        "test_data       = CustomDataset(label=y_val, dataset=x_val)\n",
        "train_loader    = DataLoader(training_data, batch_size=4, shuffle=True)\n",
        "test_loader     = DataLoader(test_data, batch_size=4, shuffle=False)"
      ],
      "execution_count": 2,
      "outputs": [
        {
          "output_type": "stream",
          "text": [
            "x_train, y_train, x_val shape:  torch.Size([1600, 27, 27]) torch.Size([1600]) torch.Size([400, 27, 27])\n"
          ],
          "name": "stdout"
        }
      ]
    },
    {
      "cell_type": "code",
      "metadata": {
        "colab": {
          "base_uri": "https://localhost:8080/"
        },
        "id": "wmswwxkQN6jl",
        "outputId": "c0a49cfa-5ec0-45bb-8adb-08a08825cb38"
      },
      "source": [
        "y_train.shape, y_val.shape"
      ],
      "execution_count": 3,
      "outputs": [
        {
          "output_type": "execute_result",
          "data": {
            "text/plain": [
              "(torch.Size([1600]), torch.Size([400]))"
            ]
          },
          "metadata": {},
          "execution_count": 3
        }
      ]
    },
    {
      "cell_type": "code",
      "metadata": {
        "id": "1fVyUoF2PX5i"
      },
      "source": [
        "def r2(output, target):\n",
        "    target_mean = torch.mean(target)\n",
        "    ss_tot = torch.sum((target - target_mean) ** 2)\n",
        "    ss_res = torch.sum((target - output) ** 2)\n",
        "    r2 = 1 - ss_res / ss_tot\n",
        "    return r2"
      ],
      "execution_count": 4,
      "outputs": []
    },
    {
      "cell_type": "code",
      "metadata": {
        "id": "fRxva3oEI8X_"
      },
      "source": [
        "epochs = 500"
      ],
      "execution_count": 5,
      "outputs": []
    },
    {
      "cell_type": "code",
      "metadata": {
        "id": "2rx-pOccJllZ"
      },
      "source": [
        "def train(model, train_losses, epoch):\n",
        "    model.train()\n",
        "    train_loss = 0\n",
        "    for x, y in train_loader:\n",
        "        x, y = x.cuda().float(), y.cuda()\n",
        "        optimizer.zero_grad()\n",
        "        o = model(x)\n",
        "        loss = loss_function(o.squeeze(), y)\n",
        "        \n",
        "        loss.backward()\n",
        "        optimizer.step()\n",
        "\n",
        "        train_loss += loss.item()\n",
        "    print('====> Epoch: {} loss: {:.4f}'.format(e, train_loss / len(train_loader)))\n",
        "    train_losses.append(train_loss / len(train_loader))\n",
        "\n",
        "def test(model, val_losses):\n",
        "    model.eval()\n",
        "    test_loss = 0\n",
        "    with torch.no_grad():\n",
        "        for x, y in test_loader:\n",
        "            x, y = x.cuda().float(), y.cuda()       \n",
        "            o = model(x)\n",
        "            loss = loss_function(o.squeeze(), y)\n",
        "            \n",
        "            test_loss += loss.item()\n",
        "    print('====> Test set loss: {:.4f}'.format(test_loss / len(test_loader)))\n",
        "    val_losses.append(test_loss / len(test_loader))\n",
        "\n",
        "def test_pred(model):\n",
        "    y_pred = []\n",
        "    model.eval()\n",
        "    test_loss = 0\n",
        "    with torch.no_grad():\n",
        "        for x, y in test_loader:\n",
        "            x, y = x.cuda().float(), y.cuda()       \n",
        "            o = model(x)\n",
        "            y_pred.append(o)\n",
        "\n",
        "            loss = loss_function(o.squeeze(), y)\n",
        "            test_loss += loss.item()\n",
        "    print('====> Test set loss: {:.4f}'.format(test_loss / len(test_loader)))\n",
        "\n",
        "    return y_pred"
      ],
      "execution_count": 8,
      "outputs": []
    },
    {
      "cell_type": "code",
      "metadata": {
        "colab": {
          "base_uri": "https://localhost:8080/"
        },
        "id": "RIbPgPpLJXZX",
        "outputId": "aded7777-3b9f-4476-e17a-116372789777"
      },
      "source": [
        "import torch\n",
        "import torch.nn as nn\n",
        "import torch.nn.functional as F\n",
        "\n",
        "\n",
        "class DNN(nn.Module):\n",
        "\n",
        "    def __init__(self):\n",
        "        super(DNN, self).__init__()\n",
        "\n",
        "        self.fc1 = nn.Linear(729, 16)\n",
        "        self.fc2 = nn.Linear(16, 8)\n",
        "        self.fc3 = nn.Linear(8, 4)\n",
        "        self.fc4 = nn.Linear(4, 2)\n",
        "        self.fc5 = nn.Linear(2, 1)\n",
        "\n",
        "        #nn.init.xavier_uniform_(self.fc1.weight)\n",
        "        #nn.init.xavier_uniform_(self.fc2.weight)\n",
        "        #nn.init.xavier_uniform_(self.fc3.weight)\n",
        "        #nn.init.xavier_uniform_(self.fc4.weight)\n",
        "        #nn.init.xavier_uniform_(self.fc5.weight)\n",
        "        #nn.init.xavier_uniform_(self.fc6.weight)\n",
        "        #nn.init.xavier_uniform_(self.fc7.weight)\n",
        "\n",
        "    def forward(self, x):\n",
        "        x = self.fc1(x.view(-1, 729))\n",
        "        x = F.relu(x)\n",
        "        x = self.fc2(x)\n",
        "        x = F.relu(x)\n",
        "        x = self.fc3(x)\n",
        "        x = F.relu(x)\n",
        "        x = self.fc4(x)\n",
        "        x = F.relu(x)\n",
        "        x = self.fc5(x)\n",
        "\n",
        "        # x = F.leaky_relu(x)\n",
        "        # x = self.fc4(x)\n",
        "        # x = F.leaky_relu(x)\n",
        "        # x = self.fc5(x)\n",
        "        # x = F.leaky_relu(x)\n",
        "        # x = self.fc6(x)\n",
        "        # x = F.leaky_relu(x)\n",
        "        \n",
        "        return x\n",
        "\n",
        "\n",
        "def weights_init(m):\n",
        "    if isinstance(m, nn.Linear):\n",
        "        nn.init.xavier_normal_(m.weight.data, nn.init.calculate_gain('relu'))\n",
        "        #nn.init.xavier_uniform_(m.weight.data)\n",
        "        #nn.init.xavier_uniform_(m.bias.data)\n",
        "\n",
        "torch.manual_seed(42)\n",
        "model = DNN().cuda()\n",
        "model.apply(weights_init)\n",
        "print(model)"
      ],
      "execution_count": 199,
      "outputs": [
        {
          "output_type": "stream",
          "text": [
            "DNN(\n",
            "  (fc1): Linear(in_features=729, out_features=16, bias=True)\n",
            "  (fc2): Linear(in_features=16, out_features=8, bias=True)\n",
            "  (fc3): Linear(in_features=8, out_features=4, bias=True)\n",
            "  (fc4): Linear(in_features=4, out_features=2, bias=True)\n",
            "  (fc5): Linear(in_features=2, out_features=1, bias=True)\n",
            ")\n"
          ],
          "name": "stdout"
        }
      ]
    },
    {
      "cell_type": "code",
      "metadata": {
        "colab": {
          "base_uri": "https://localhost:8080/"
        },
        "id": "PQ1KoOdUJhoG",
        "outputId": "7e806b88-d8d8-4695-ffce-14ca3f02735b"
      },
      "source": [
        "# the number of trainable parameter\n",
        "sum(p.numel() for p in model.parameters() if p.requires_grad)"
      ],
      "execution_count": 200,
      "outputs": [
        {
          "output_type": "execute_result",
          "data": {
            "text/plain": [
              "11865"
            ]
          },
          "metadata": {},
          "execution_count": 200
        }
      ]
    },
    {
      "cell_type": "code",
      "metadata": {
        "colab": {
          "base_uri": "https://localhost:8080/",
          "height": 848
        },
        "id": "fDV5B9gDJmRl",
        "outputId": "bb35dbc6-6309-4877-859d-0e973b930b5b"
      },
      "source": [
        "import torch.optim as optim\n",
        "optimizer = optim.Adam(model.parameters(), lr=3e-4)\n",
        "loss_function = nn.MSELoss()\n",
        "epochs = 200\n",
        "\n",
        "# for loss plot\n",
        "tloss = []\n",
        "vloss = []\n",
        "\n",
        "for e in range(1, epochs+1):\n",
        "    train(model, tloss, e)\n",
        "    test(model, vloss)\n",
        "\n",
        "y_pred = test_pred(model)"
      ],
      "execution_count": 210,
      "outputs": [
        {
          "output_type": "stream",
          "text": [
            "====> Epoch: 1 loss: 1.8649\n",
            "====> Test set loss: 14.3648\n",
            "====> Epoch: 2 loss: 1.4478\n",
            "====> Test set loss: 14.2455\n",
            "====> Epoch: 3 loss: 1.2479\n",
            "====> Test set loss: 14.2580\n",
            "====> Epoch: 4 loss: 1.1412\n",
            "====> Test set loss: 14.1296\n",
            "====> Epoch: 5 loss: 1.0741\n",
            "====> Test set loss: 14.1706\n",
            "====> Epoch: 6 loss: 1.0256\n",
            "====> Test set loss: 14.1324\n",
            "====> Epoch: 7 loss: 0.9952\n",
            "====> Test set loss: 14.1428\n",
            "====> Epoch: 8 loss: 0.9675\n",
            "====> Test set loss: 14.1092\n",
            "====> Epoch: 9 loss: 0.9483\n",
            "====> Test set loss: 14.1378\n",
            "====> Epoch: 10 loss: 0.9320\n",
            "====> Test set loss: 14.1190\n",
            "====> Epoch: 11 loss: 0.9179\n",
            "====> Test set loss: 14.1073\n",
            "====> Epoch: 12 loss: 0.9059\n",
            "====> Test set loss: 14.1596\n",
            "====> Epoch: 13 loss: 0.8964\n",
            "====> Test set loss: 14.1207\n",
            "====> Epoch: 14 loss: 0.8908\n",
            "====> Test set loss: 14.1386\n",
            "====> Epoch: 15 loss: 0.8844\n",
            "====> Test set loss: 14.1053\n"
          ],
          "name": "stdout"
        },
        {
          "output_type": "error",
          "ename": "KeyboardInterrupt",
          "evalue": "ignored",
          "traceback": [
            "\u001b[0;31m---------------------------------------------------------------------------\u001b[0m",
            "\u001b[0;31mKeyboardInterrupt\u001b[0m                         Traceback (most recent call last)",
            "\u001b[0;32m<ipython-input-210-bce91159fde1>\u001b[0m in \u001b[0;36m<module>\u001b[0;34m()\u001b[0m\n\u001b[1;32m      9\u001b[0m \u001b[0;34m\u001b[0m\u001b[0m\n\u001b[1;32m     10\u001b[0m \u001b[0;32mfor\u001b[0m \u001b[0me\u001b[0m \u001b[0;32min\u001b[0m \u001b[0mrange\u001b[0m\u001b[0;34m(\u001b[0m\u001b[0;36m1\u001b[0m\u001b[0;34m,\u001b[0m \u001b[0mepochs\u001b[0m\u001b[0;34m+\u001b[0m\u001b[0;36m1\u001b[0m\u001b[0;34m)\u001b[0m\u001b[0;34m:\u001b[0m\u001b[0;34m\u001b[0m\u001b[0;34m\u001b[0m\u001b[0m\n\u001b[0;32m---> 11\u001b[0;31m     \u001b[0mtrain\u001b[0m\u001b[0;34m(\u001b[0m\u001b[0mmodel\u001b[0m\u001b[0;34m,\u001b[0m \u001b[0mtloss\u001b[0m\u001b[0;34m,\u001b[0m \u001b[0me\u001b[0m\u001b[0;34m)\u001b[0m\u001b[0;34m\u001b[0m\u001b[0;34m\u001b[0m\u001b[0m\n\u001b[0m\u001b[1;32m     12\u001b[0m     \u001b[0mtest\u001b[0m\u001b[0;34m(\u001b[0m\u001b[0mmodel\u001b[0m\u001b[0;34m,\u001b[0m \u001b[0mvloss\u001b[0m\u001b[0;34m)\u001b[0m\u001b[0;34m\u001b[0m\u001b[0;34m\u001b[0m\u001b[0m\n\u001b[1;32m     13\u001b[0m \u001b[0;34m\u001b[0m\u001b[0m\n",
            "\u001b[0;32m<ipython-input-8-cea082b7058d>\u001b[0m in \u001b[0;36mtrain\u001b[0;34m(model, train_losses, epoch)\u001b[0m\n\u001b[1;32m      5\u001b[0m         \u001b[0mx\u001b[0m\u001b[0;34m,\u001b[0m \u001b[0my\u001b[0m \u001b[0;34m=\u001b[0m \u001b[0mx\u001b[0m\u001b[0;34m.\u001b[0m\u001b[0mcuda\u001b[0m\u001b[0;34m(\u001b[0m\u001b[0;34m)\u001b[0m\u001b[0;34m.\u001b[0m\u001b[0mfloat\u001b[0m\u001b[0;34m(\u001b[0m\u001b[0;34m)\u001b[0m\u001b[0;34m,\u001b[0m \u001b[0my\u001b[0m\u001b[0;34m.\u001b[0m\u001b[0mcuda\u001b[0m\u001b[0;34m(\u001b[0m\u001b[0;34m)\u001b[0m\u001b[0;34m\u001b[0m\u001b[0;34m\u001b[0m\u001b[0m\n\u001b[1;32m      6\u001b[0m         \u001b[0moptimizer\u001b[0m\u001b[0;34m.\u001b[0m\u001b[0mzero_grad\u001b[0m\u001b[0;34m(\u001b[0m\u001b[0;34m)\u001b[0m\u001b[0;34m\u001b[0m\u001b[0;34m\u001b[0m\u001b[0m\n\u001b[0;32m----> 7\u001b[0;31m         \u001b[0mo\u001b[0m \u001b[0;34m=\u001b[0m \u001b[0mmodel\u001b[0m\u001b[0;34m(\u001b[0m\u001b[0mx\u001b[0m\u001b[0;34m)\u001b[0m\u001b[0;34m\u001b[0m\u001b[0;34m\u001b[0m\u001b[0m\n\u001b[0m\u001b[1;32m      8\u001b[0m         \u001b[0mloss\u001b[0m \u001b[0;34m=\u001b[0m \u001b[0mloss_function\u001b[0m\u001b[0;34m(\u001b[0m\u001b[0mo\u001b[0m\u001b[0;34m.\u001b[0m\u001b[0msqueeze\u001b[0m\u001b[0;34m(\u001b[0m\u001b[0;34m)\u001b[0m\u001b[0;34m,\u001b[0m \u001b[0my\u001b[0m\u001b[0;34m)\u001b[0m\u001b[0;34m\u001b[0m\u001b[0;34m\u001b[0m\u001b[0m\n\u001b[1;32m      9\u001b[0m \u001b[0;34m\u001b[0m\u001b[0m\n",
            "\u001b[0;32m/usr/local/lib/python3.7/dist-packages/torch/nn/modules/module.py\u001b[0m in \u001b[0;36m_call_impl\u001b[0;34m(self, *input, **kwargs)\u001b[0m\n\u001b[1;32m   1049\u001b[0m         if not (self._backward_hooks or self._forward_hooks or self._forward_pre_hooks or _global_backward_hooks\n\u001b[1;32m   1050\u001b[0m                 or _global_forward_hooks or _global_forward_pre_hooks):\n\u001b[0;32m-> 1051\u001b[0;31m             \u001b[0;32mreturn\u001b[0m \u001b[0mforward_call\u001b[0m\u001b[0;34m(\u001b[0m\u001b[0;34m*\u001b[0m\u001b[0minput\u001b[0m\u001b[0;34m,\u001b[0m \u001b[0;34m**\u001b[0m\u001b[0mkwargs\u001b[0m\u001b[0;34m)\u001b[0m\u001b[0;34m\u001b[0m\u001b[0;34m\u001b[0m\u001b[0m\n\u001b[0m\u001b[1;32m   1052\u001b[0m         \u001b[0;31m# Do not call functions when jit is used\u001b[0m\u001b[0;34m\u001b[0m\u001b[0;34m\u001b[0m\u001b[0;34m\u001b[0m\u001b[0m\n\u001b[1;32m   1053\u001b[0m         \u001b[0mfull_backward_hooks\u001b[0m\u001b[0;34m,\u001b[0m \u001b[0mnon_full_backward_hooks\u001b[0m \u001b[0;34m=\u001b[0m \u001b[0;34m[\u001b[0m\u001b[0;34m]\u001b[0m\u001b[0;34m,\u001b[0m \u001b[0;34m[\u001b[0m\u001b[0;34m]\u001b[0m\u001b[0;34m\u001b[0m\u001b[0;34m\u001b[0m\u001b[0m\n",
            "\u001b[0;32m<ipython-input-199-36ff58a79012>\u001b[0m in \u001b[0;36mforward\u001b[0;34m(self, x)\u001b[0m\n\u001b[1;32m     32\u001b[0m         \u001b[0mx\u001b[0m \u001b[0;34m=\u001b[0m \u001b[0mself\u001b[0m\u001b[0;34m.\u001b[0m\u001b[0mfc4\u001b[0m\u001b[0;34m(\u001b[0m\u001b[0mx\u001b[0m\u001b[0;34m)\u001b[0m\u001b[0;34m\u001b[0m\u001b[0;34m\u001b[0m\u001b[0m\n\u001b[1;32m     33\u001b[0m         \u001b[0mx\u001b[0m \u001b[0;34m=\u001b[0m \u001b[0mF\u001b[0m\u001b[0;34m.\u001b[0m\u001b[0mrelu\u001b[0m\u001b[0;34m(\u001b[0m\u001b[0mx\u001b[0m\u001b[0;34m)\u001b[0m\u001b[0;34m\u001b[0m\u001b[0;34m\u001b[0m\u001b[0m\n\u001b[0;32m---> 34\u001b[0;31m         \u001b[0mx\u001b[0m \u001b[0;34m=\u001b[0m \u001b[0mself\u001b[0m\u001b[0;34m.\u001b[0m\u001b[0mfc5\u001b[0m\u001b[0;34m(\u001b[0m\u001b[0mx\u001b[0m\u001b[0;34m)\u001b[0m\u001b[0;34m\u001b[0m\u001b[0;34m\u001b[0m\u001b[0m\n\u001b[0m\u001b[1;32m     35\u001b[0m \u001b[0;34m\u001b[0m\u001b[0m\n\u001b[1;32m     36\u001b[0m         \u001b[0;31m# x = F.leaky_relu(x)\u001b[0m\u001b[0;34m\u001b[0m\u001b[0;34m\u001b[0m\u001b[0;34m\u001b[0m\u001b[0m\n",
            "\u001b[0;32m/usr/local/lib/python3.7/dist-packages/torch/nn/modules/module.py\u001b[0m in \u001b[0;36m_call_impl\u001b[0;34m(self, *input, **kwargs)\u001b[0m\n\u001b[1;32m   1049\u001b[0m         if not (self._backward_hooks or self._forward_hooks or self._forward_pre_hooks or _global_backward_hooks\n\u001b[1;32m   1050\u001b[0m                 or _global_forward_hooks or _global_forward_pre_hooks):\n\u001b[0;32m-> 1051\u001b[0;31m             \u001b[0;32mreturn\u001b[0m \u001b[0mforward_call\u001b[0m\u001b[0;34m(\u001b[0m\u001b[0;34m*\u001b[0m\u001b[0minput\u001b[0m\u001b[0;34m,\u001b[0m \u001b[0;34m**\u001b[0m\u001b[0mkwargs\u001b[0m\u001b[0;34m)\u001b[0m\u001b[0;34m\u001b[0m\u001b[0;34m\u001b[0m\u001b[0m\n\u001b[0m\u001b[1;32m   1052\u001b[0m         \u001b[0;31m# Do not call functions when jit is used\u001b[0m\u001b[0;34m\u001b[0m\u001b[0;34m\u001b[0m\u001b[0;34m\u001b[0m\u001b[0m\n\u001b[1;32m   1053\u001b[0m         \u001b[0mfull_backward_hooks\u001b[0m\u001b[0;34m,\u001b[0m \u001b[0mnon_full_backward_hooks\u001b[0m \u001b[0;34m=\u001b[0m \u001b[0;34m[\u001b[0m\u001b[0;34m]\u001b[0m\u001b[0;34m,\u001b[0m \u001b[0;34m[\u001b[0m\u001b[0;34m]\u001b[0m\u001b[0;34m\u001b[0m\u001b[0;34m\u001b[0m\u001b[0m\n",
            "\u001b[0;32m/usr/local/lib/python3.7/dist-packages/torch/nn/modules/linear.py\u001b[0m in \u001b[0;36mforward\u001b[0;34m(self, input)\u001b[0m\n\u001b[1;32m     94\u001b[0m \u001b[0;34m\u001b[0m\u001b[0m\n\u001b[1;32m     95\u001b[0m     \u001b[0;32mdef\u001b[0m \u001b[0mforward\u001b[0m\u001b[0;34m(\u001b[0m\u001b[0mself\u001b[0m\u001b[0;34m,\u001b[0m \u001b[0minput\u001b[0m\u001b[0;34m:\u001b[0m \u001b[0mTensor\u001b[0m\u001b[0;34m)\u001b[0m \u001b[0;34m->\u001b[0m \u001b[0mTensor\u001b[0m\u001b[0;34m:\u001b[0m\u001b[0;34m\u001b[0m\u001b[0;34m\u001b[0m\u001b[0m\n\u001b[0;32m---> 96\u001b[0;31m         \u001b[0;32mreturn\u001b[0m \u001b[0mF\u001b[0m\u001b[0;34m.\u001b[0m\u001b[0mlinear\u001b[0m\u001b[0;34m(\u001b[0m\u001b[0minput\u001b[0m\u001b[0;34m,\u001b[0m \u001b[0mself\u001b[0m\u001b[0;34m.\u001b[0m\u001b[0mweight\u001b[0m\u001b[0;34m,\u001b[0m \u001b[0mself\u001b[0m\u001b[0;34m.\u001b[0m\u001b[0mbias\u001b[0m\u001b[0;34m)\u001b[0m\u001b[0;34m\u001b[0m\u001b[0;34m\u001b[0m\u001b[0m\n\u001b[0m\u001b[1;32m     97\u001b[0m \u001b[0;34m\u001b[0m\u001b[0m\n\u001b[1;32m     98\u001b[0m     \u001b[0;32mdef\u001b[0m \u001b[0mextra_repr\u001b[0m\u001b[0;34m(\u001b[0m\u001b[0mself\u001b[0m\u001b[0;34m)\u001b[0m \u001b[0;34m->\u001b[0m \u001b[0mstr\u001b[0m\u001b[0;34m:\u001b[0m\u001b[0;34m\u001b[0m\u001b[0;34m\u001b[0m\u001b[0m\n",
            "\u001b[0;32m/usr/local/lib/python3.7/dist-packages/torch/nn/modules/module.py\u001b[0m in \u001b[0;36m__getattr__\u001b[0;34m(self, name)\u001b[0m\n\u001b[1;32m   1116\u001b[0m \u001b[0;34m\u001b[0m\u001b[0m\n\u001b[1;32m   1117\u001b[0m     \u001b[0;32mdef\u001b[0m \u001b[0m__getattr__\u001b[0m\u001b[0;34m(\u001b[0m\u001b[0mself\u001b[0m\u001b[0;34m,\u001b[0m \u001b[0mname\u001b[0m\u001b[0;34m:\u001b[0m \u001b[0mstr\u001b[0m\u001b[0;34m)\u001b[0m \u001b[0;34m->\u001b[0m \u001b[0mUnion\u001b[0m\u001b[0;34m[\u001b[0m\u001b[0mTensor\u001b[0m\u001b[0;34m,\u001b[0m \u001b[0;34m'Module'\u001b[0m\u001b[0;34m]\u001b[0m\u001b[0;34m:\u001b[0m\u001b[0;34m\u001b[0m\u001b[0;34m\u001b[0m\u001b[0m\n\u001b[0;32m-> 1118\u001b[0;31m         \u001b[0;32mif\u001b[0m \u001b[0;34m'_parameters'\u001b[0m \u001b[0;32min\u001b[0m \u001b[0mself\u001b[0m\u001b[0;34m.\u001b[0m\u001b[0m__dict__\u001b[0m\u001b[0;34m:\u001b[0m\u001b[0;34m\u001b[0m\u001b[0;34m\u001b[0m\u001b[0m\n\u001b[0m\u001b[1;32m   1119\u001b[0m             \u001b[0m_parameters\u001b[0m \u001b[0;34m=\u001b[0m \u001b[0mself\u001b[0m\u001b[0;34m.\u001b[0m\u001b[0m__dict__\u001b[0m\u001b[0;34m[\u001b[0m\u001b[0;34m'_parameters'\u001b[0m\u001b[0;34m]\u001b[0m\u001b[0;34m\u001b[0m\u001b[0;34m\u001b[0m\u001b[0m\n\u001b[1;32m   1120\u001b[0m             \u001b[0;32mif\u001b[0m \u001b[0mname\u001b[0m \u001b[0;32min\u001b[0m \u001b[0m_parameters\u001b[0m\u001b[0;34m:\u001b[0m\u001b[0;34m\u001b[0m\u001b[0;34m\u001b[0m\u001b[0m\n",
            "\u001b[0;31mKeyboardInterrupt\u001b[0m: "
          ]
        }
      ]
    },
    {
      "cell_type": "code",
      "metadata": {
        "colab": {
          "base_uri": "https://localhost:8080/"
        },
        "id": "Ee6T2qONJtaE",
        "outputId": "973d0c6e-c5d7-47ad-89a3-a6a6edfbc13a"
      },
      "source": [
        "# RMSE\n",
        "\n",
        "model.eval()\n",
        "test_loss = 0\n",
        "with torch.no_grad():\n",
        "    for x, y in test_loader:\n",
        "        x, y = x.cuda().float(), y.cuda()       \n",
        "        o = model(x)\n",
        "        loss = torch.sqrt(loss_function(o.squeeze(), y))\n",
        "        \n",
        "        test_loss += loss.item()\n",
        "print('====> Test set loss: {:.4f}'.format(test_loss / len(test_loader)))"
      ],
      "execution_count": 211,
      "outputs": [
        {
          "output_type": "stream",
          "text": [
            "====> Test set loss: 3.5039\n"
          ],
          "name": "stdout"
        }
      ]
    },
    {
      "cell_type": "code",
      "metadata": {
        "colab": {
          "base_uri": "https://localhost:8080/"
        },
        "id": "el8RuD_ar7m9",
        "outputId": "be562c0b-5a83-480b-ee08-ca74304cb556"
      },
      "source": [
        "# R square\n",
        "o=model(x_val.cuda())\n",
        "r2(o.squeeze(), y_val.cuda())"
      ],
      "execution_count": 212,
      "outputs": [
        {
          "output_type": "execute_result",
          "data": {
            "text/plain": [
              "tensor(0.5963, device='cuda:0', grad_fn=<RsubBackward1>)"
            ]
          },
          "metadata": {},
          "execution_count": 212
        }
      ]
    },
    {
      "cell_type": "code",
      "metadata": {
        "id": "pZjBUzDfJ3RK"
      },
      "source": [
        "y1 = y_pred"
      ],
      "execution_count": 82,
      "outputs": []
    },
    {
      "cell_type": "code",
      "metadata": {
        "colab": {
          "base_uri": "https://localhost:8080/",
          "height": 255
        },
        "id": "ZPRIRfrYJqth",
        "outputId": "261df0a3-cc16-42de-f7f6-3d03aeeb5bdb"
      },
      "source": [
        "import matplotlib.pyplot as plt\n",
        "\n",
        "plt.figure(figsize=(20,5))\n",
        "plt.title(\"Training and Validation Loss\")\n",
        "plt.plot(np.array(vloss), label=\"valid\")\n",
        "plt.plot(np.array(tloss), label=\"train\")\n",
        "plt.xlabel(\"Epochs\")\n",
        "plt.ylabel(\"Loss\")\n",
        "plt.legend()"
      ],
      "execution_count": null,
      "outputs": [
        {
          "output_type": "execute_result",
          "data": {
            "text/plain": [
              "<matplotlib.legend.Legend at 0x7f2c1ad93b90>"
            ]
          },
          "metadata": {},
          "execution_count": 13
        },
        {
          "output_type": "display_data",
          "data": {
            "image/png": "[encoded data removed]",
            "text/plain": [
              "<Figure size 1440x360 with 1 Axes>"
            ]
          },
          "metadata": {
            "needs_background": "light"
          }
        }
      ]
    },
    {
      "cell_type": "code",
      "metadata": {
        "colab": {
          "base_uri": "https://localhost:8080/"
        },
        "id": "sBX8iKkQPp1C",
        "outputId": "d1909505-023c-4e48-982f-79264db5157e"
      },
      "source": [
        "# R square\n",
        "o=model(x_val.cuda())\n",
        "r2(o.squeeze(), y_val.cuda())"
      ],
      "execution_count": null,
      "outputs": [
        {
          "output_type": "execute_result",
          "data": {
            "text/plain": [
              "tensor(0.6933, device='cuda:0', grad_fn=<RsubBackward1>)"
            ]
          },
          "metadata": {},
          "execution_count": 24
        }
      ]
    },
    {
      "cell_type": "code",
      "metadata": {
        "id": "l5ApAlnVJ1mS"
      },
      "source": [
        "#"
      ],
      "execution_count": null,
      "outputs": []
    },
    {
      "cell_type": "code",
      "metadata": {
        "colab": {
          "base_uri": "https://localhost:8080/"
        },
        "id": "9dpFvYAFJ81R",
        "outputId": "53ee6c49-58bc-4dae-c7f1-889763cc4e12"
      },
      "source": [
        "import torch\n",
        "import torch.nn as nn\n",
        "import torch.nn.functional as F\n",
        "\n",
        "\n",
        "class DNN(nn.Module):\n",
        "\n",
        "    def __init__(self):\n",
        "        super(DNN, self).__init__()\n",
        "\n",
        "        self.fc1 = nn.Linear(729, 16)\n",
        "        self.fc2 = nn.Linear(16, 1)\n",
        "\n",
        "        #nn.init.xavier_uniform_(self.fc1.weight)\n",
        "        #nn.init.xavier_uniform_(self.fc2.weight)\n",
        "        #nn.init.xavier_uniform_(self.fc3.weight)\n",
        "        #nn.init.xavier_uniform_(self.fc4.weight)\n",
        "        #nn.init.xavier_uniform_(self.fc5.weight)\n",
        "        #nn.init.xavier_uniform_(self.fc6.weight)\n",
        "        #nn.init.xavier_uniform_(self.fc7.weight)\n",
        "\n",
        "    def forward(self, x):\n",
        "        x = self.fc1(x.view(-1, 729))\n",
        "        x = F.relu(x)\n",
        "        x = self.fc2(x)\n",
        "        # x = F.leaky_relu(x)\n",
        "        # x = self.fc3(x)\n",
        "        # x = F.leaky_relu(x)\n",
        "        # x = self.fc4(x)\n",
        "        # x = F.leaky_relu(x)\n",
        "        # x = self.fc5(x)\n",
        "        # x = F.leaky_relu(x)\n",
        "        # x = self.fc6(x)\n",
        "        # x = F.leaky_relu(x)\n",
        "        \n",
        "        return x\n",
        "\n",
        "\n",
        "def weights_init(m):\n",
        "    if isinstance(m, nn.Linear):\n",
        "        nn.init.xavier_normal_(m.weight.data, nn.init.calculate_gain('relu'))\n",
        "        #nn.init.xavier_uniform_(m.weight.data)\n",
        "        #nn.init.xavier_uniform_(m.bias.data)\n",
        "\n",
        "torch.manual_seed(42)\n",
        "model = DNN().cuda()\n",
        "model.apply(weights_init)\n",
        "print(model)"
      ],
      "execution_count": null,
      "outputs": [
        {
          "output_type": "stream",
          "text": [
            "DNN(\n",
            "  (fc1): Linear(in_features=729, out_features=16, bias=True)\n",
            "  (fc2): Linear(in_features=16, out_features=1, bias=True)\n",
            ")\n"
          ],
          "name": "stdout"
        }
      ]
    },
    {
      "cell_type": "code",
      "metadata": {
        "colab": {
          "base_uri": "https://localhost:8080/"
        },
        "id": "FrWkhmk7KV1_",
        "outputId": "1821f9f2-cadf-4681-d301-8d9dd6ef4270"
      },
      "source": [
        "# the number of trainable parameter\n",
        "sum(p.numel() for p in model.parameters() if p.requires_grad)"
      ],
      "execution_count": null,
      "outputs": [
        {
          "output_type": "execute_result",
          "data": {
            "text/plain": [
              "11697"
            ]
          },
          "metadata": {},
          "execution_count": 51
        }
      ]
    },
    {
      "cell_type": "code",
      "metadata": {
        "colab": {
          "base_uri": "https://localhost:8080/",
          "height": 637
        },
        "id": "n8JGCdACKXiv",
        "outputId": "6d68591b-d583-4cde-9288-b556545f722c"
      },
      "source": [
        "import torch.optim as optim\n",
        "optimizer = optim.Adam(model.parameters(), lr=1e-4)\n",
        "loss_function = nn.MSELoss()\n",
        "epochs = 117\n",
        "\n",
        "# for loss plot\n",
        "tloss = []\n",
        "vloss = []\n",
        "\n",
        "for e in range(1, epochs+1):\n",
        "    train(model, tloss, e)\n",
        "    test(model, vloss)\n",
        "\n",
        "y_pred = test_pred(model)"
      ],
      "execution_count": null,
      "outputs": [
        {
          "output_type": "error",
          "ename": "RuntimeError",
          "evalue": "ignored",
          "traceback": [
            "\u001b[0;31m---------------------------------------------------------------------------\u001b[0m",
            "\u001b[0;31mRuntimeError\u001b[0m                              Traceback (most recent call last)",
            "\u001b[0;32m<ipython-input-52-402120688781>\u001b[0m in \u001b[0;36m<module>\u001b[0;34m()\u001b[0m\n\u001b[1;32m      9\u001b[0m \u001b[0;34m\u001b[0m\u001b[0m\n\u001b[1;32m     10\u001b[0m \u001b[0;32mfor\u001b[0m \u001b[0me\u001b[0m \u001b[0;32min\u001b[0m \u001b[0mrange\u001b[0m\u001b[0;34m(\u001b[0m\u001b[0;36m1\u001b[0m\u001b[0;34m,\u001b[0m \u001b[0mepochs\u001b[0m\u001b[0;34m+\u001b[0m\u001b[0;36m1\u001b[0m\u001b[0;34m)\u001b[0m\u001b[0;34m:\u001b[0m\u001b[0;34m\u001b[0m\u001b[0;34m\u001b[0m\u001b[0m\n\u001b[0;32m---> 11\u001b[0;31m     \u001b[0mtrain\u001b[0m\u001b[0;34m(\u001b[0m\u001b[0mmodel\u001b[0m\u001b[0;34m,\u001b[0m \u001b[0mtloss\u001b[0m\u001b[0;34m,\u001b[0m \u001b[0me\u001b[0m\u001b[0;34m)\u001b[0m\u001b[0;34m\u001b[0m\u001b[0;34m\u001b[0m\u001b[0m\n\u001b[0m\u001b[1;32m     12\u001b[0m     \u001b[0mtest\u001b[0m\u001b[0;34m(\u001b[0m\u001b[0mmodel\u001b[0m\u001b[0;34m,\u001b[0m \u001b[0mvloss\u001b[0m\u001b[0;34m)\u001b[0m\u001b[0;34m\u001b[0m\u001b[0;34m\u001b[0m\u001b[0m\n\u001b[1;32m     13\u001b[0m \u001b[0;34m\u001b[0m\u001b[0m\n",
            "\u001b[0;32m<ipython-input-49-cea082b7058d>\u001b[0m in \u001b[0;36mtrain\u001b[0;34m(model, train_losses, epoch)\u001b[0m\n\u001b[1;32m      8\u001b[0m         \u001b[0mloss\u001b[0m \u001b[0;34m=\u001b[0m \u001b[0mloss_function\u001b[0m\u001b[0;34m(\u001b[0m\u001b[0mo\u001b[0m\u001b[0;34m.\u001b[0m\u001b[0msqueeze\u001b[0m\u001b[0;34m(\u001b[0m\u001b[0;34m)\u001b[0m\u001b[0;34m,\u001b[0m \u001b[0my\u001b[0m\u001b[0;34m)\u001b[0m\u001b[0;34m\u001b[0m\u001b[0;34m\u001b[0m\u001b[0m\n\u001b[1;32m      9\u001b[0m \u001b[0;34m\u001b[0m\u001b[0m\n\u001b[0;32m---> 10\u001b[0;31m         \u001b[0mloss\u001b[0m\u001b[0;34m.\u001b[0m\u001b[0mbackward\u001b[0m\u001b[0;34m(\u001b[0m\u001b[0;34m)\u001b[0m\u001b[0;34m\u001b[0m\u001b[0;34m\u001b[0m\u001b[0m\n\u001b[0m\u001b[1;32m     11\u001b[0m         \u001b[0moptimizer\u001b[0m\u001b[0;34m.\u001b[0m\u001b[0mstep\u001b[0m\u001b[0;34m(\u001b[0m\u001b[0;34m)\u001b[0m\u001b[0;34m\u001b[0m\u001b[0;34m\u001b[0m\u001b[0m\n\u001b[1;32m     12\u001b[0m \u001b[0;34m\u001b[0m\u001b[0m\n",
            "\u001b[0;32m/usr/local/lib/python3.7/dist-packages/torch/_tensor.py\u001b[0m in \u001b[0;36mbackward\u001b[0;34m(self, gradient, retain_graph, create_graph, inputs)\u001b[0m\n\u001b[1;32m    253\u001b[0m                 \u001b[0mcreate_graph\u001b[0m\u001b[0;34m=\u001b[0m\u001b[0mcreate_graph\u001b[0m\u001b[0;34m,\u001b[0m\u001b[0;34m\u001b[0m\u001b[0;34m\u001b[0m\u001b[0m\n\u001b[1;32m    254\u001b[0m                 inputs=inputs)\n\u001b[0;32m--> 255\u001b[0;31m         \u001b[0mtorch\u001b[0m\u001b[0;34m.\u001b[0m\u001b[0mautograd\u001b[0m\u001b[0;34m.\u001b[0m\u001b[0mbackward\u001b[0m\u001b[0;34m(\u001b[0m\u001b[0mself\u001b[0m\u001b[0;34m,\u001b[0m \u001b[0mgradient\u001b[0m\u001b[0;34m,\u001b[0m \u001b[0mretain_graph\u001b[0m\u001b[0;34m,\u001b[0m \u001b[0mcreate_graph\u001b[0m\u001b[0;34m,\u001b[0m \u001b[0minputs\u001b[0m\u001b[0;34m=\u001b[0m\u001b[0minputs\u001b[0m\u001b[0;34m)\u001b[0m\u001b[0;34m\u001b[0m\u001b[0;34m\u001b[0m\u001b[0m\n\u001b[0m\u001b[1;32m    256\u001b[0m \u001b[0;34m\u001b[0m\u001b[0m\n\u001b[1;32m    257\u001b[0m     \u001b[0;32mdef\u001b[0m \u001b[0mregister_hook\u001b[0m\u001b[0;34m(\u001b[0m\u001b[0mself\u001b[0m\u001b[0;34m,\u001b[0m \u001b[0mhook\u001b[0m\u001b[0;34m)\u001b[0m\u001b[0;34m:\u001b[0m\u001b[0;34m\u001b[0m\u001b[0;34m\u001b[0m\u001b[0m\n",
            "\u001b[0;32m/usr/local/lib/python3.7/dist-packages/torch/autograd/__init__.py\u001b[0m in \u001b[0;36mbackward\u001b[0;34m(tensors, grad_tensors, retain_graph, create_graph, grad_variables, inputs)\u001b[0m\n\u001b[1;32m    147\u001b[0m     Variable._execution_engine.run_backward(\n\u001b[1;32m    148\u001b[0m         \u001b[0mtensors\u001b[0m\u001b[0;34m,\u001b[0m \u001b[0mgrad_tensors_\u001b[0m\u001b[0;34m,\u001b[0m \u001b[0mretain_graph\u001b[0m\u001b[0;34m,\u001b[0m \u001b[0mcreate_graph\u001b[0m\u001b[0;34m,\u001b[0m \u001b[0minputs\u001b[0m\u001b[0;34m,\u001b[0m\u001b[0;34m\u001b[0m\u001b[0;34m\u001b[0m\u001b[0m\n\u001b[0;32m--> 149\u001b[0;31m         allow_unreachable=True, accumulate_grad=True)  # allow_unreachable flag\n\u001b[0m\u001b[1;32m    150\u001b[0m \u001b[0;34m\u001b[0m\u001b[0m\n\u001b[1;32m    151\u001b[0m \u001b[0;34m\u001b[0m\u001b[0m\n",
            "\u001b[0;31mRuntimeError\u001b[0m: element 0 of tensors does not require grad and does not have a grad_fn"
          ]
        }
      ]
    },
    {
      "cell_type": "code",
      "metadata": {
        "id": "a4GehNDjKiBe"
      },
      "source": [
        "y2 = y_pred"
      ],
      "execution_count": null,
      "outputs": []
    },
    {
      "cell_type": "code",
      "metadata": {
        "id": "u5P8sm4eTU7q"
      },
      "source": [
        "y_pred = test_pred(model)\n",
        "# [torch(4,3), torch(4,3), ... 100개]를 torch [400, 3]으로 변환\n",
        "y_pred = torch.cat((y_pred), 0)\n",
        "y_pred.shape"
      ],
      "execution_count": null,
      "outputs": []
    },
    {
      "cell_type": "code",
      "metadata": {
        "colab": {
          "base_uri": "https://localhost:8080/",
          "height": 158
        },
        "id": "gnIoc5xMSQHJ",
        "outputId": "490a651d-4fe5-45a5-efbd-1dc7cc262170"
      },
      "source": [
        "torch.argmin(torch.tensor(y2))"
      ],
      "execution_count": null,
      "outputs": [
        {
          "output_type": "error",
          "ename": "ValueError",
          "evalue": "ignored",
          "traceback": [
            "\u001b[0;31m---------------------------------------------------------------------------\u001b[0m",
            "\u001b[0;31mValueError\u001b[0m                                Traceback (most recent call last)",
            "\u001b[0;32m<ipython-input-35-b53d11769834>\u001b[0m in \u001b[0;36m<module>\u001b[0;34m()\u001b[0m\n\u001b[0;32m----> 1\u001b[0;31m \u001b[0mtorch\u001b[0m\u001b[0;34m.\u001b[0m\u001b[0margmin\u001b[0m\u001b[0;34m(\u001b[0m\u001b[0mtorch\u001b[0m\u001b[0;34m.\u001b[0m\u001b[0mtensor\u001b[0m\u001b[0;34m(\u001b[0m\u001b[0my2\u001b[0m\u001b[0;34m)\u001b[0m\u001b[0;34m)\u001b[0m\u001b[0;34m\u001b[0m\u001b[0;34m\u001b[0m\u001b[0m\n\u001b[0m",
            "\u001b[0;31mValueError\u001b[0m: only one element tensors can be converted to Python scalars"
          ]
        }
      ]
    },
    {
      "cell_type": "code",
      "metadata": {
        "colab": {
          "base_uri": "https://localhost:8080/",
          "height": 255
        },
        "id": "YddurwCnKjzn",
        "outputId": "5910f9fa-cd66-43b5-c2f5-868166ffd67f"
      },
      "source": [
        "import matplotlib.pyplot as plt\n",
        "\n",
        "plt.figure(figsize=(20,5))\n",
        "plt.title(\"Training and Validation Loss\")\n",
        "plt.plot(np.array(vloss), label=\"valid\")\n",
        "plt.plot(np.array(tloss), label=\"train\")\n",
        "plt.xlabel(\"Epochs\")\n",
        "plt.ylabel(\"Loss\")\n",
        "plt.legend()"
      ],
      "execution_count": null,
      "outputs": [
        {
          "output_type": "execute_result",
          "data": {
            "text/plain": [
              "<matplotlib.legend.Legend at 0x7f2c1ad93150>"
            ]
          },
          "metadata": {},
          "execution_count": 29
        },
        {
          "output_type": "display_data",
          "data": {
            "image/png": "[encoded data removed]",
            "text/plain": [
              "<Figure size 1440x360 with 1 Axes>"
            ]
          },
          "metadata": {
            "needs_background": "light"
          }
        }
      ]
    },
    {
      "cell_type": "code",
      "metadata": {
        "colab": {
          "base_uri": "https://localhost:8080/"
        },
        "id": "RFFQ7OxIKkhB",
        "outputId": "5c46fd39-fe96-41e0-abf4-17a9c75bcc0d"
      },
      "source": [
        "# RMSE\n",
        "\n",
        "model.eval()\n",
        "test_loss = 0\n",
        "with torch.no_grad():\n",
        "    for x, y in test_loader:\n",
        "        x, y = x.cuda().float(), y.cuda()       \n",
        "        o = model(x)\n",
        "        loss = torch.sqrt(loss_function(o.squeeze(), y))\n",
        "        \n",
        "        test_loss += loss.item()\n",
        "print('====> Test set loss: {:.4f}'.format(test_loss / len(test_loader)))"
      ],
      "execution_count": null,
      "outputs": [
        {
          "output_type": "stream",
          "text": [
            "====> Test set loss: 3.1316\n"
          ],
          "name": "stdout"
        }
      ]
    },
    {
      "cell_type": "code",
      "metadata": {
        "colab": {
          "base_uri": "https://localhost:8080/"
        },
        "id": "Gvzgb0TGQTLg",
        "outputId": "cc76eeab-f213-455e-b690-3720ab1d356e"
      },
      "source": [
        "# R square\n",
        "o=model(x_val.cuda())\n",
        "r2(o.squeeze(), y_val.cuda())"
      ],
      "execution_count": null,
      "outputs": [
        {
          "output_type": "execute_result",
          "data": {
            "text/plain": [
              "tensor(0.6711, device='cuda:0', grad_fn=<RsubBackward1>)"
            ]
          },
          "metadata": {},
          "execution_count": 31
        }
      ]
    },
    {
      "cell_type": "code",
      "metadata": {
        "id": "rcM4bDTYKlbq"
      },
      "source": [
        "#"
      ],
      "execution_count": null,
      "outputs": []
    },
    {
      "cell_type": "code",
      "metadata": {
        "colab": {
          "base_uri": "https://localhost:8080/"
        },
        "id": "AHwuSnOJKlp9",
        "outputId": "c76c15da-2542-49b5-9cc1-ff1c7aa16d42"
      },
      "source": [
        "import torch\n",
        "import torch.nn as nn\n",
        "import torch.nn.functional as F\n",
        "\n",
        "\n",
        "class DNN(nn.Module):\n",
        "\n",
        "    def __init__(self):\n",
        "        super(DNN, self).__init__()\n",
        "\n",
        "        self.fc1 = nn.Linear(729, 32)\n",
        "        self.fc2 = nn.Linear(32, 1)\n",
        "\n",
        "        #nn.init.xavier_uniform_(self.fc1.weight)\n",
        "        #nn.init.xavier_uniform_(self.fc2.weight)\n",
        "        #nn.init.xavier_uniform_(self.fc3.weight)\n",
        "        #nn.init.xavier_uniform_(self.fc4.weight)\n",
        "        #nn.init.xavier_uniform_(self.fc5.weight)\n",
        "        #nn.init.xavier_uniform_(self.fc6.weight)\n",
        "        #nn.init.xavier_uniform_(self.fc7.weight)\n",
        "\n",
        "    def forward(self, x):\n",
        "        x = self.fc1(x.view(-1, 729))\n",
        "        x = F.relu(x)\n",
        "        x = self.fc2(x)\n",
        "        # x = F.leaky_relu(x)\n",
        "        # x = self.fc4(x)\n",
        "        # x = F.leaky_relu(x)\n",
        "        # x = self.fc5(x)\n",
        "        # x = F.leaky_relu(x)\n",
        "        # x = self.fc6(x)\n",
        "        # x = F.leaky_relu(x)\n",
        "        \n",
        "        return x\n",
        "\n",
        "\n",
        "def weights_init(m):\n",
        "    if isinstance(m, nn.Linear):\n",
        "        nn.init.xavier_normal_(m.weight.data, nn.init.calculate_gain('relu'))\n",
        "        #nn.init.xavier_uniform_(m.weight.data)\n",
        "        #nn.init.xavier_uniform_(m.bias.data)\n",
        "\n",
        "torch.manual_seed(42)\n",
        "model = DNN().cuda()\n",
        "model.apply(weights_init)\n",
        "print(model)"
      ],
      "execution_count": null,
      "outputs": [
        {
          "output_type": "stream",
          "text": [
            "DNN(\n",
            "  (fc1): Linear(in_features=729, out_features=32, bias=True)\n",
            "  (fc2): Linear(in_features=32, out_features=1, bias=True)\n",
            ")\n"
          ],
          "name": "stdout"
        }
      ]
    },
    {
      "cell_type": "code",
      "metadata": {
        "colab": {
          "base_uri": "https://localhost:8080/"
        },
        "id": "Hol0TR3YeG3o",
        "outputId": "d6fca6ad-0f45-4f14-ca3b-876bbba2dc89"
      },
      "source": [
        "# the number of trainable parameter\n",
        "sum(p.numel() for p in model.parameters() if p.requires_grad)"
      ],
      "execution_count": null,
      "outputs": [
        {
          "output_type": "execute_result",
          "data": {
            "text/plain": [
              "23393"
            ]
          },
          "metadata": {},
          "execution_count": 33
        }
      ]
    },
    {
      "cell_type": "code",
      "metadata": {
        "colab": {
          "base_uri": "https://localhost:8080/",
          "height": 1000
        },
        "id": "8K_FXedhK2cc",
        "outputId": "2aa719ed-1de5-4499-c840-da83d04821f9"
      },
      "source": [
        "import torch.optim as optim\n",
        "optimizer = optim.Adam(model.parameters(), lr=1e-4)\n",
        "loss_function = nn.MSELoss()\n",
        "epochs = 500\n",
        "\n",
        "# for loss plot\n",
        "tloss = []\n",
        "vloss = []\n",
        "\n",
        "for e in range(1, epochs+1):\n",
        "    train(model, tloss, e)\n",
        "    test(model, vloss)\n",
        "\n",
        "y_pred = test_pred(model)"
      ],
      "execution_count": null,
      "outputs": [
        {
          "output_type": "stream",
          "text": [
            "====> Epoch: 1 loss: 115.7770\n",
            "====> Test set loss: 101.7309\n",
            "====> Epoch: 2 loss: 86.7515\n",
            "====> Test set loss: 69.8029\n",
            "====> Epoch: 3 loss: 56.5455\n",
            "====> Test set loss: 42.9710\n",
            "====> Epoch: 4 loss: 35.7865\n",
            "====> Test set loss: 28.0231\n",
            "====> Epoch: 5 loss: 26.2275\n",
            "====> Test set loss: 22.6708\n",
            "====> Epoch: 6 loss: 22.8976\n",
            "====> Test set loss: 20.8242\n",
            "====> Epoch: 7 loss: 21.5491\n",
            "====> Test set loss: 20.0508\n",
            "====> Epoch: 8 loss: 20.6231\n",
            "====> Test set loss: 19.4580\n",
            "====> Epoch: 9 loss: 19.7488\n",
            "====> Test set loss: 18.9166\n",
            "====> Epoch: 10 loss: 18.8458\n",
            "====> Test set loss: 18.3830\n",
            "====> Epoch: 11 loss: 17.9075\n",
            "====> Test set loss: 17.8178\n",
            "====> Epoch: 12 loss: 16.9174\n",
            "====> Test set loss: 17.2440\n",
            "====> Epoch: 13 loss: 15.9093\n",
            "====> Test set loss: 16.6383\n",
            "====> Epoch: 14 loss: 14.9029\n",
            "====> Test set loss: 16.0498\n",
            "====> Epoch: 15 loss: 13.9220\n",
            "====> Test set loss: 15.5034\n",
            "====> Epoch: 16 loss: 12.9991\n",
            "====> Test set loss: 15.0013\n",
            "====> Epoch: 17 loss: 12.1316\n",
            "====> Test set loss: 14.5178\n",
            "====> Epoch: 18 loss: 11.3407\n",
            "====> Test set loss: 14.0937\n",
            "====> Epoch: 19 loss: 10.6439\n",
            "====> Test set loss: 13.7317\n",
            "====> Epoch: 20 loss: 10.0093\n",
            "====> Test set loss: 13.3991\n",
            "====> Epoch: 21 loss: 9.4391\n",
            "====> Test set loss: 13.1140\n",
            "====> Epoch: 22 loss: 8.9273\n",
            "====> Test set loss: 12.8790\n",
            "====> Epoch: 23 loss: 8.4682\n",
            "====> Test set loss: 12.6393\n",
            "====> Epoch: 24 loss: 8.0505\n",
            "====> Test set loss: 12.4330\n",
            "====> Epoch: 25 loss: 7.6701\n",
            "====> Test set loss: 12.2361\n",
            "====> Epoch: 26 loss: 7.3201\n",
            "====> Test set loss: 12.0473\n",
            "====> Epoch: 27 loss: 6.9984\n",
            "====> Test set loss: 11.8899\n",
            "====> Epoch: 28 loss: 6.6915\n",
            "====> Test set loss: 11.7494\n",
            "====> Epoch: 29 loss: 6.4116\n",
            "====> Test set loss: 11.6077\n",
            "====> Epoch: 30 loss: 6.1429\n",
            "====> Test set loss: 11.4767\n",
            "====> Epoch: 31 loss: 5.8947\n",
            "====> Test set loss: 11.3502\n",
            "====> Epoch: 32 loss: 5.6490\n",
            "====> Test set loss: 11.2052\n",
            "====> Epoch: 33 loss: 5.4219\n",
            "====> Test set loss: 11.1408\n",
            "====> Epoch: 34 loss: 5.2159\n",
            "====> Test set loss: 11.0325\n",
            "====> Epoch: 35 loss: 5.0054\n",
            "====> Test set loss: 10.9095\n",
            "====> Epoch: 36 loss: 4.8018\n",
            "====> Test set loss: 10.8109\n",
            "====> Epoch: 37 loss: 4.6084\n",
            "====> Test set loss: 10.6996\n",
            "====> Epoch: 38 loss: 4.4274\n",
            "====> Test set loss: 10.6021\n",
            "====> Epoch: 39 loss: 4.2409\n",
            "====> Test set loss: 10.5372\n",
            "====> Epoch: 40 loss: 4.0792\n",
            "====> Test set loss: 10.4254\n",
            "====> Epoch: 41 loss: 3.9125\n",
            "====> Test set loss: 10.3234\n",
            "====> Epoch: 42 loss: 3.7518\n",
            "====> Test set loss: 10.2551\n",
            "====> Epoch: 43 loss: 3.5963\n",
            "====> Test set loss: 10.1414\n",
            "====> Epoch: 44 loss: 3.4409\n",
            "====> Test set loss: 10.0974\n",
            "====> Epoch: 45 loss: 3.2953\n",
            "====> Test set loss: 9.9986\n",
            "====> Epoch: 46 loss: 3.1564\n",
            "====> Test set loss: 9.9248\n",
            "====> Epoch: 47 loss: 3.0241\n",
            "====> Test set loss: 9.8656\n",
            "====> Epoch: 48 loss: 2.8875\n",
            "====> Test set loss: 9.7867\n",
            "====> Epoch: 49 loss: 2.7669\n",
            "====> Test set loss: 9.6913\n",
            "====> Epoch: 50 loss: 2.6439\n",
            "====> Test set loss: 9.6304\n",
            "====> Epoch: 51 loss: 2.5284\n",
            "====> Test set loss: 9.5860\n",
            "====> Epoch: 52 loss: 2.4132\n",
            "====> Test set loss: 9.5283\n",
            "====> Epoch: 53 loss: 2.3049\n",
            "====> Test set loss: 9.4591\n",
            "====> Epoch: 54 loss: 2.2020\n",
            "====> Test set loss: 9.4177\n",
            "====> Epoch: 55 loss: 2.0951\n",
            "====> Test set loss: 9.3625\n",
            "====> Epoch: 56 loss: 2.0042\n",
            "====> Test set loss: 9.3152\n",
            "====> Epoch: 57 loss: 1.9108\n",
            "====> Test set loss: 9.2521\n",
            "====> Epoch: 58 loss: 1.8257\n",
            "====> Test set loss: 9.2028\n",
            "====> Epoch: 59 loss: 1.7394\n",
            "====> Test set loss: 9.1746\n",
            "====> Epoch: 60 loss: 1.6523\n",
            "====> Test set loss: 9.1323\n",
            "====> Epoch: 61 loss: 1.5788\n",
            "====> Test set loss: 9.0717\n",
            "====> Epoch: 62 loss: 1.5019\n",
            "====> Test set loss: 9.0396\n",
            "====> Epoch: 63 loss: 1.4256\n",
            "====> Test set loss: 9.0336\n",
            "====> Epoch: 64 loss: 1.3579\n",
            "====> Test set loss: 8.9963\n",
            "====> Epoch: 65 loss: 1.2912\n",
            "====> Test set loss: 9.0185\n",
            "====> Epoch: 66 loss: 1.2291\n",
            "====> Test set loss: 8.9413\n",
            "====> Epoch: 67 loss: 1.1714\n",
            "====> Test set loss: 8.9290\n",
            "====> Epoch: 68 loss: 1.1143\n",
            "====> Test set loss: 8.9359\n",
            "====> Epoch: 69 loss: 1.0558\n",
            "====> Test set loss: 8.9058\n",
            "====> Epoch: 70 loss: 1.0008\n",
            "====> Test set loss: 8.8891\n",
            "====> Epoch: 71 loss: 0.9515\n",
            "====> Test set loss: 8.8814\n",
            "====> Epoch: 72 loss: 0.8991\n",
            "====> Test set loss: 8.8766\n",
            "====> Epoch: 73 loss: 0.8536\n",
            "====> Test set loss: 8.8626\n",
            "====> Epoch: 74 loss: 0.8065\n",
            "====> Test set loss: 8.9023\n",
            "====> Epoch: 75 loss: 0.7658\n",
            "====> Test set loss: 8.8984\n",
            "====> Epoch: 76 loss: 0.7263\n",
            "====> Test set loss: 8.8922\n",
            "====> Epoch: 77 loss: 0.6862\n",
            "====> Test set loss: 8.9078\n",
            "====> Epoch: 78 loss: 0.6467\n",
            "====> Test set loss: 8.9080\n",
            "====> Epoch: 79 loss: 0.6073\n",
            "====> Test set loss: 8.8745\n",
            "====> Epoch: 80 loss: 0.5763\n",
            "====> Test set loss: 8.9140\n",
            "====> Epoch: 81 loss: 0.5423\n",
            "====> Test set loss: 8.9301\n",
            "====> Epoch: 82 loss: 0.5085\n",
            "====> Test set loss: 8.9565\n",
            "====> Epoch: 83 loss: 0.4781\n",
            "====> Test set loss: 8.9536\n",
            "====> Epoch: 84 loss: 0.4487\n",
            "====> Test set loss: 8.9653\n",
            "====> Epoch: 85 loss: 0.4200\n",
            "====> Test set loss: 8.9631\n",
            "====> Epoch: 86 loss: 0.3932\n",
            "====> Test set loss: 8.9929\n",
            "====> Epoch: 87 loss: 0.3669\n",
            "====> Test set loss: 9.0295\n",
            "====> Epoch: 88 loss: 0.3416\n",
            "====> Test set loss: 9.0405\n",
            "====> Epoch: 89 loss: 0.3195\n",
            "====> Test set loss: 9.0633\n",
            "====> Epoch: 90 loss: 0.2968\n",
            "====> Test set loss: 9.1077\n",
            "====> Epoch: 91 loss: 0.2738\n",
            "====> Test set loss: 9.0831\n",
            "====> Epoch: 92 loss: 0.2523\n",
            "====> Test set loss: 9.1258\n",
            "====> Epoch: 93 loss: 0.2348\n",
            "====> Test set loss: 9.1346\n",
            "====> Epoch: 94 loss: 0.2175\n",
            "====> Test set loss: 9.1405\n",
            "====> Epoch: 95 loss: 0.1999\n",
            "====> Test set loss: 9.1972\n",
            "====> Epoch: 96 loss: 0.1834\n",
            "====> Test set loss: 9.2039\n",
            "====> Epoch: 97 loss: 0.1666\n",
            "====> Test set loss: 9.2632\n",
            "====> Epoch: 98 loss: 0.1525\n",
            "====> Test set loss: 9.2848\n",
            "====> Epoch: 99 loss: 0.1396\n",
            "====> Test set loss: 9.2769\n",
            "====> Epoch: 100 loss: 0.1261\n",
            "====> Test set loss: 9.3062\n",
            "====> Epoch: 101 loss: 0.1136\n",
            "====> Test set loss: 9.3282\n",
            "====> Epoch: 102 loss: 0.1035\n",
            "====> Test set loss: 9.3294\n",
            "====> Epoch: 103 loss: 0.0929\n",
            "====> Test set loss: 9.3625\n",
            "====> Epoch: 104 loss: 0.0826\n",
            "====> Test set loss: 9.3637\n",
            "====> Epoch: 105 loss: 0.0740\n",
            "====> Test set loss: 9.3895\n",
            "====> Epoch: 106 loss: 0.0663\n",
            "====> Test set loss: 9.3840\n",
            "====> Epoch: 107 loss: 0.0575\n",
            "====> Test set loss: 9.4370\n",
            "====> Epoch: 108 loss: 0.0510\n",
            "====> Test set loss: 9.4500\n",
            "====> Epoch: 109 loss: 0.0439\n",
            "====> Test set loss: 9.4777\n",
            "====> Epoch: 110 loss: 0.0380\n",
            "====> Test set loss: 9.4882\n",
            "====> Epoch: 111 loss: 0.0342\n",
            "====> Test set loss: 9.4750\n",
            "====> Epoch: 112 loss: 0.0282\n",
            "====> Test set loss: 9.5087\n",
            "====> Epoch: 113 loss: 0.0251\n",
            "====> Test set loss: 9.5309\n",
            "====> Epoch: 114 loss: 0.0213\n",
            "====> Test set loss: 9.5307\n",
            "====> Epoch: 115 loss: 0.0177\n",
            "====> Test set loss: 9.5385\n",
            "====> Epoch: 116 loss: 0.0144\n",
            "====> Test set loss: 9.5628\n",
            "====> Epoch: 117 loss: 0.0128\n",
            "====> Test set loss: 9.5737\n",
            "====> Epoch: 118 loss: 0.0111\n",
            "====> Test set loss: 9.5452\n",
            "====> Epoch: 119 loss: 0.0094\n",
            "====> Test set loss: 9.6171\n",
            "====> Epoch: 120 loss: 0.0085\n",
            "====> Test set loss: 9.6308\n",
            "====> Epoch: 121 loss: 0.0068\n",
            "====> Test set loss: 9.6010\n",
            "====> Epoch: 122 loss: 0.0073\n",
            "====> Test set loss: 9.6201\n",
            "====> Epoch: 123 loss: 0.0071\n",
            "====> Test set loss: 9.6515\n",
            "====> Epoch: 124 loss: 0.0082\n",
            "====> Test set loss: 9.6846\n",
            "====> Epoch: 125 loss: 0.0084\n",
            "====> Test set loss: 9.6725\n",
            "====> Epoch: 126 loss: 0.0080\n",
            "====> Test set loss: 9.6347\n",
            "====> Epoch: 127 loss: 0.0066\n",
            "====> Test set loss: 9.6590\n",
            "====> Epoch: 128 loss: 0.0061\n",
            "====> Test set loss: 9.6748\n",
            "====> Epoch: 129 loss: 0.0069\n",
            "====> Test set loss: 9.6961\n",
            "====> Epoch: 130 loss: 0.0071\n",
            "====> Test set loss: 9.6767\n",
            "====> Epoch: 131 loss: 0.0079\n",
            "====> Test set loss: 9.6387\n",
            "====> Epoch: 132 loss: 0.0076\n",
            "====> Test set loss: 9.7129\n",
            "====> Epoch: 133 loss: 0.0077\n",
            "====> Test set loss: 9.6775\n",
            "====> Epoch: 134 loss: 0.0070\n",
            "====> Test set loss: 9.6747\n",
            "====> Epoch: 135 loss: 0.0070\n",
            "====> Test set loss: 9.7234\n",
            "====> Epoch: 136 loss: 0.0070\n",
            "====> Test set loss: 9.7016\n",
            "====> Epoch: 137 loss: 0.0079\n",
            "====> Test set loss: 9.6604\n",
            "====> Epoch: 138 loss: 0.0077\n",
            "====> Test set loss: 9.6895\n",
            "====> Epoch: 139 loss: 0.0073\n",
            "====> Test set loss: 9.7108\n",
            "====> Epoch: 140 loss: 0.0072\n",
            "====> Test set loss: 9.6821\n",
            "====> Epoch: 141 loss: 0.0074\n",
            "====> Test set loss: 9.7182\n",
            "====> Epoch: 142 loss: 0.0065\n",
            "====> Test set loss: 9.6745\n",
            "====> Epoch: 143 loss: 0.0067\n",
            "====> Test set loss: 9.6954\n",
            "====> Epoch: 144 loss: 0.0075\n",
            "====> Test set loss: 9.6853\n",
            "====> Epoch: 145 loss: 0.0090\n",
            "====> Test set loss: 9.7357\n",
            "====> Epoch: 146 loss: 0.0085\n",
            "====> Test set loss: 9.6747\n",
            "====> Epoch: 147 loss: 0.0067\n",
            "====> Test set loss: 9.7155\n",
            "====> Epoch: 148 loss: 0.0065\n",
            "====> Test set loss: 9.6824\n",
            "====> Epoch: 149 loss: 0.0056\n",
            "====> Test set loss: 9.6718\n",
            "====> Epoch: 150 loss: 0.0068\n",
            "====> Test set loss: 9.7178\n",
            "====> Epoch: 151 loss: 0.0074\n",
            "====> Test set loss: 9.6456\n",
            "====> Epoch: 152 loss: 0.0083\n",
            "====> Test set loss: 9.6968\n",
            "====> Epoch: 153 loss: 0.0079\n",
            "====> Test set loss: 9.7108\n",
            "====> Epoch: 154 loss: 0.0075\n",
            "====> Test set loss: 9.7376\n",
            "====> Epoch: 155 loss: 0.0074\n",
            "====> Test set loss: 9.6912\n",
            "====> Epoch: 156 loss: 0.0070\n",
            "====> Test set loss: 9.6616\n",
            "====> Epoch: 157 loss: 0.0067\n",
            "====> Test set loss: 9.6909\n",
            "====> Epoch: 158 loss: 0.0063\n",
            "====> Test set loss: 9.6887\n",
            "====> Epoch: 159 loss: 0.0069\n",
            "====> Test set loss: 9.7108\n",
            "====> Epoch: 160 loss: 0.0071\n",
            "====> Test set loss: 9.6868\n",
            "====> Epoch: 161 loss: 0.0079\n",
            "====> Test set loss: 9.7009\n",
            "====> Epoch: 162 loss: 0.0089\n",
            "====> Test set loss: 9.6870\n",
            "====> Epoch: 163 loss: 0.0077\n",
            "====> Test set loss: 9.6887\n",
            "====> Epoch: 164 loss: 0.0067\n",
            "====> Test set loss: 9.6828\n",
            "====> Epoch: 165 loss: 0.0066\n",
            "====> Test set loss: 9.6864\n",
            "====> Epoch: 166 loss: 0.0073\n",
            "====> Test set loss: 9.7226\n",
            "====> Epoch: 167 loss: 0.0075\n",
            "====> Test set loss: 9.7077\n",
            "====> Epoch: 168 loss: 0.0080\n",
            "====> Test set loss: 9.6826\n",
            "====> Epoch: 169 loss: 0.0076\n",
            "====> Test set loss: 9.6863\n",
            "====> Epoch: 170 loss: 0.0070\n",
            "====> Test set loss: 9.6784\n",
            "====> Epoch: 171 loss: 0.0067\n",
            "====> Test set loss: 9.6789\n",
            "====> Epoch: 172 loss: 0.0073\n",
            "====> Test set loss: 9.7070\n",
            "====> Epoch: 173 loss: 0.0067\n",
            "====> Test set loss: 9.7102\n",
            "====> Epoch: 174 loss: 0.0077\n",
            "====> Test set loss: 9.6814\n",
            "====> Epoch: 175 loss: 0.0078\n",
            "====> Test set loss: 9.7184\n",
            "====> Epoch: 176 loss: 0.0069\n",
            "====> Test set loss: 9.6895\n",
            "====> Epoch: 177 loss: 0.0077\n",
            "====> Test set loss: 9.6948\n",
            "====> Epoch: 178 loss: 0.0067\n",
            "====> Test set loss: 9.7245\n",
            "====> Epoch: 179 loss: 0.0063\n",
            "====> Test set loss: 9.6997\n",
            "====> Epoch: 180 loss: 0.0065\n",
            "====> Test set loss: 9.6906\n",
            "====> Epoch: 181 loss: 0.0078\n",
            "====> Test set loss: 9.7693\n",
            "====> Epoch: 182 loss: 0.0078\n",
            "====> Test set loss: 9.6714\n",
            "====> Epoch: 183 loss: 0.0068\n",
            "====> Test set loss: 9.7032\n",
            "====> Epoch: 184 loss: 0.0071\n",
            "====> Test set loss: 9.6838\n",
            "====> Epoch: 185 loss: 0.0069\n",
            "====> Test set loss: 9.6867\n",
            "====> Epoch: 186 loss: 0.0072\n",
            "====> Test set loss: 9.6721\n",
            "====> Epoch: 187 loss: 0.0076\n",
            "====> Test set loss: 9.7178\n",
            "====> Epoch: 188 loss: 0.0083\n",
            "====> Test set loss: 9.6553\n",
            "====> Epoch: 189 loss: 0.0075\n",
            "====> Test set loss: 9.7060\n",
            "====> Epoch: 190 loss: 0.0066\n",
            "====> Test set loss: 9.6696\n",
            "====> Epoch: 191 loss: 0.0068\n",
            "====> Test set loss: 9.6912\n",
            "====> Epoch: 192 loss: 0.0067\n",
            "====> Test set loss: 9.7202\n",
            "====> Epoch: 193 loss: 0.0070\n",
            "====> Test set loss: 9.7086\n",
            "====> Epoch: 194 loss: 0.0072\n",
            "====> Test set loss: 9.6970\n",
            "====> Epoch: 195 loss: 0.0073\n",
            "====> Test set loss: 9.7151\n",
            "====> Epoch: 196 loss: 0.0077\n",
            "====> Test set loss: 9.7032\n",
            "====> Epoch: 197 loss: 0.0074\n",
            "====> Test set loss: 9.7046\n",
            "====> Epoch: 198 loss: 0.0065\n",
            "====> Test set loss: 9.7137\n",
            "====> Epoch: 199 loss: 0.0063\n",
            "====> Test set loss: 9.7228\n",
            "====> Epoch: 200 loss: 0.0068\n",
            "====> Test set loss: 9.6829\n",
            "====> Epoch: 201 loss: 0.0069\n",
            "====> Test set loss: 9.7007\n",
            "====> Epoch: 202 loss: 0.0076\n",
            "====> Test set loss: 9.7127\n",
            "====> Epoch: 203 loss: 0.0076\n",
            "====> Test set loss: 9.6791\n",
            "====> Epoch: 204 loss: 0.0072\n",
            "====> Test set loss: 9.6932\n",
            "====> Epoch: 205 loss: 0.0070\n",
            "====> Test set loss: 9.6936\n",
            "====> Epoch: 206 loss: 0.0070\n",
            "====> Test set loss: 9.6905\n",
            "====> Epoch: 207 loss: 0.0073\n",
            "====> Test set loss: 9.6779\n",
            "====> Epoch: 208 loss: 0.0067\n",
            "====> Test set loss: 9.7301\n",
            "====> Epoch: 209 loss: 0.0067\n",
            "====> Test set loss: 9.6914\n",
            "====> Epoch: 210 loss: 0.0072\n",
            "====> Test set loss: 9.6689\n",
            "====> Epoch: 211 loss: 0.0072\n",
            "====> Test set loss: 9.6874\n",
            "====> Epoch: 212 loss: 0.0064\n",
            "====> Test set loss: 9.7108\n",
            "====> Epoch: 213 loss: 0.0075\n",
            "====> Test set loss: 9.6996\n",
            "====> Epoch: 214 loss: 0.0072\n",
            "====> Test set loss: 9.6750\n",
            "====> Epoch: 215 loss: 0.0072\n",
            "====> Test set loss: 9.7060\n",
            "====> Epoch: 216 loss: 0.0067\n",
            "====> Test set loss: 9.6956\n",
            "====> Epoch: 217 loss: 0.0059\n",
            "====> Test set loss: 9.6879\n",
            "====> Epoch: 218 loss: 0.0059\n",
            "====> Test set loss: 9.6585\n",
            "====> Epoch: 219 loss: 0.0067\n",
            "====> Test set loss: 9.6924\n",
            "====> Epoch: 220 loss: 0.0080\n",
            "====> Test set loss: 9.7270\n",
            "====> Epoch: 221 loss: 0.0080\n",
            "====> Test set loss: 9.7090\n",
            "====> Epoch: 222 loss: 0.0074\n",
            "====> Test set loss: 9.6792\n",
            "====> Epoch: 223 loss: 0.0068\n",
            "====> Test set loss: 9.6783\n",
            "====> Epoch: 224 loss: 0.0065\n",
            "====> Test set loss: 9.6918\n",
            "====> Epoch: 225 loss: 0.0061\n",
            "====> Test set loss: 9.7078\n",
            "====> Epoch: 226 loss: 0.0066\n",
            "====> Test set loss: 9.6823\n",
            "====> Epoch: 227 loss: 0.0079\n",
            "====> Test set loss: 9.6670\n",
            "====> Epoch: 228 loss: 0.0080\n",
            "====> Test set loss: 9.7482\n",
            "====> Epoch: 229 loss: 0.0073\n",
            "====> Test set loss: 9.6432\n",
            "====> Epoch: 230 loss: 0.0068\n",
            "====> Test set loss: 9.6774\n",
            "====> Epoch: 231 loss: 0.0065\n",
            "====> Test set loss: 9.6638\n",
            "====> Epoch: 232 loss: 0.0055\n",
            "====> Test set loss: 9.6851\n",
            "====> Epoch: 233 loss: 0.0060\n",
            "====> Test set loss: 9.7181\n",
            "====> Epoch: 234 loss: 0.0072\n",
            "====> Test set loss: 9.6952\n",
            "====> Epoch: 235 loss: 0.0083\n",
            "====> Test set loss: 9.6836\n",
            "====> Epoch: 236 loss: 0.0073\n",
            "====> Test set loss: 9.7133\n"
          ],
          "name": "stdout"
        },
        {
          "output_type": "error",
          "ename": "KeyboardInterrupt",
          "evalue": "ignored",
          "traceback": [
            "\u001b[0;31m---------------------------------------------------------------------------\u001b[0m",
            "\u001b[0;31mKeyboardInterrupt\u001b[0m                         Traceback (most recent call last)",
            "\u001b[0;32m<ipython-input-34-7152d1477002>\u001b[0m in \u001b[0;36m<module>\u001b[0;34m()\u001b[0m\n\u001b[1;32m      9\u001b[0m \u001b[0;34m\u001b[0m\u001b[0m\n\u001b[1;32m     10\u001b[0m \u001b[0;32mfor\u001b[0m \u001b[0me\u001b[0m \u001b[0;32min\u001b[0m \u001b[0mrange\u001b[0m\u001b[0;34m(\u001b[0m\u001b[0;36m1\u001b[0m\u001b[0;34m,\u001b[0m \u001b[0mepochs\u001b[0m\u001b[0;34m+\u001b[0m\u001b[0;36m1\u001b[0m\u001b[0;34m)\u001b[0m\u001b[0;34m:\u001b[0m\u001b[0;34m\u001b[0m\u001b[0;34m\u001b[0m\u001b[0m\n\u001b[0;32m---> 11\u001b[0;31m     \u001b[0mtrain\u001b[0m\u001b[0;34m(\u001b[0m\u001b[0mmodel\u001b[0m\u001b[0;34m,\u001b[0m \u001b[0mtloss\u001b[0m\u001b[0;34m,\u001b[0m \u001b[0me\u001b[0m\u001b[0;34m)\u001b[0m\u001b[0;34m\u001b[0m\u001b[0;34m\u001b[0m\u001b[0m\n\u001b[0m\u001b[1;32m     12\u001b[0m     \u001b[0mtest\u001b[0m\u001b[0;34m(\u001b[0m\u001b[0mmodel\u001b[0m\u001b[0;34m,\u001b[0m \u001b[0mvloss\u001b[0m\u001b[0;34m)\u001b[0m\u001b[0;34m\u001b[0m\u001b[0;34m\u001b[0m\u001b[0m\n\u001b[1;32m     13\u001b[0m \u001b[0;34m\u001b[0m\u001b[0m\n",
            "\u001b[0;32m<ipython-input-10-cea082b7058d>\u001b[0m in \u001b[0;36mtrain\u001b[0;34m(model, train_losses, epoch)\u001b[0m\n\u001b[1;32m      8\u001b[0m         \u001b[0mloss\u001b[0m \u001b[0;34m=\u001b[0m \u001b[0mloss_function\u001b[0m\u001b[0;34m(\u001b[0m\u001b[0mo\u001b[0m\u001b[0;34m.\u001b[0m\u001b[0msqueeze\u001b[0m\u001b[0;34m(\u001b[0m\u001b[0;34m)\u001b[0m\u001b[0;34m,\u001b[0m \u001b[0my\u001b[0m\u001b[0;34m)\u001b[0m\u001b[0;34m\u001b[0m\u001b[0;34m\u001b[0m\u001b[0m\n\u001b[1;32m      9\u001b[0m \u001b[0;34m\u001b[0m\u001b[0m\n\u001b[0;32m---> 10\u001b[0;31m         \u001b[0mloss\u001b[0m\u001b[0;34m.\u001b[0m\u001b[0mbackward\u001b[0m\u001b[0;34m(\u001b[0m\u001b[0;34m)\u001b[0m\u001b[0;34m\u001b[0m\u001b[0;34m\u001b[0m\u001b[0m\n\u001b[0m\u001b[1;32m     11\u001b[0m         \u001b[0moptimizer\u001b[0m\u001b[0;34m.\u001b[0m\u001b[0mstep\u001b[0m\u001b[0;34m(\u001b[0m\u001b[0;34m)\u001b[0m\u001b[0;34m\u001b[0m\u001b[0;34m\u001b[0m\u001b[0m\n\u001b[1;32m     12\u001b[0m \u001b[0;34m\u001b[0m\u001b[0m\n",
            "\u001b[0;32m/usr/local/lib/python3.7/dist-packages/torch/_tensor.py\u001b[0m in \u001b[0;36mbackward\u001b[0;34m(self, gradient, retain_graph, create_graph, inputs)\u001b[0m\n\u001b[1;32m    253\u001b[0m                 \u001b[0mcreate_graph\u001b[0m\u001b[0;34m=\u001b[0m\u001b[0mcreate_graph\u001b[0m\u001b[0;34m,\u001b[0m\u001b[0;34m\u001b[0m\u001b[0;34m\u001b[0m\u001b[0m\n\u001b[1;32m    254\u001b[0m                 inputs=inputs)\n\u001b[0;32m--> 255\u001b[0;31m         \u001b[0mtorch\u001b[0m\u001b[0;34m.\u001b[0m\u001b[0mautograd\u001b[0m\u001b[0;34m.\u001b[0m\u001b[0mbackward\u001b[0m\u001b[0;34m(\u001b[0m\u001b[0mself\u001b[0m\u001b[0;34m,\u001b[0m \u001b[0mgradient\u001b[0m\u001b[0;34m,\u001b[0m \u001b[0mretain_graph\u001b[0m\u001b[0;34m,\u001b[0m \u001b[0mcreate_graph\u001b[0m\u001b[0;34m,\u001b[0m \u001b[0minputs\u001b[0m\u001b[0;34m=\u001b[0m\u001b[0minputs\u001b[0m\u001b[0;34m)\u001b[0m\u001b[0;34m\u001b[0m\u001b[0;34m\u001b[0m\u001b[0m\n\u001b[0m\u001b[1;32m    256\u001b[0m \u001b[0;34m\u001b[0m\u001b[0m\n\u001b[1;32m    257\u001b[0m     \u001b[0;32mdef\u001b[0m \u001b[0mregister_hook\u001b[0m\u001b[0;34m(\u001b[0m\u001b[0mself\u001b[0m\u001b[0;34m,\u001b[0m \u001b[0mhook\u001b[0m\u001b[0;34m)\u001b[0m\u001b[0;34m:\u001b[0m\u001b[0;34m\u001b[0m\u001b[0;34m\u001b[0m\u001b[0m\n",
            "\u001b[0;32m/usr/local/lib/python3.7/dist-packages/torch/autograd/__init__.py\u001b[0m in \u001b[0;36mbackward\u001b[0;34m(tensors, grad_tensors, retain_graph, create_graph, grad_variables, inputs)\u001b[0m\n\u001b[1;32m    147\u001b[0m     Variable._execution_engine.run_backward(\n\u001b[1;32m    148\u001b[0m         \u001b[0mtensors\u001b[0m\u001b[0;34m,\u001b[0m \u001b[0mgrad_tensors_\u001b[0m\u001b[0;34m,\u001b[0m \u001b[0mretain_graph\u001b[0m\u001b[0;34m,\u001b[0m \u001b[0mcreate_graph\u001b[0m\u001b[0;34m,\u001b[0m \u001b[0minputs\u001b[0m\u001b[0;34m,\u001b[0m\u001b[0;34m\u001b[0m\u001b[0;34m\u001b[0m\u001b[0m\n\u001b[0;32m--> 149\u001b[0;31m         allow_unreachable=True, accumulate_grad=True)  # allow_unreachable flag\n\u001b[0m\u001b[1;32m    150\u001b[0m \u001b[0;34m\u001b[0m\u001b[0m\n\u001b[1;32m    151\u001b[0m \u001b[0;34m\u001b[0m\u001b[0m\n",
            "\u001b[0;31mKeyboardInterrupt\u001b[0m: "
          ]
        }
      ]
    },
    {
      "cell_type": "code",
      "metadata": {
        "id": "_iZjJWmRK3-w"
      },
      "source": [
        "y3 = y_pred"
      ],
      "execution_count": null,
      "outputs": []
    },
    {
      "cell_type": "code",
      "metadata": {
        "id": "rOW8COQXK6cc"
      },
      "source": [
        "import matplotlib.pyplot as plt\n",
        "\n",
        "plt.figure(figsize=(20,5))\n",
        "plt.title(\"Training and Validation Loss\")\n",
        "plt.plot(np.array(vloss), label=\"valid\")\n",
        "plt.plot(np.array(tloss), label=\"train\")\n",
        "plt.xlabel(\"Epochs\")\n",
        "plt.ylabel(\"Loss\")\n",
        "plt.legend()"
      ],
      "execution_count": null,
      "outputs": []
    },
    {
      "cell_type": "code",
      "metadata": {
        "colab": {
          "base_uri": "https://localhost:8080/"
        },
        "id": "4VxOL0-pK7DR",
        "outputId": "0728b547-3d90-4146-923e-0b455e4d7483"
      },
      "source": [
        "# RMSE\n",
        "\n",
        "model.eval()\n",
        "test_loss = 0\n",
        "with torch.no_grad():\n",
        "    for x, y in test_loader:\n",
        "        x, y = x.cuda().float(), y.cuda()       \n",
        "        o = model(x)\n",
        "        loss = torch.sqrt(loss_function(o.squeeze(), y))\n",
        "        \n",
        "        test_loss += loss.item()\n",
        "print('====> Test set loss: {:.4f}'.format(test_loss / len(test_loader)))"
      ],
      "execution_count": null,
      "outputs": [
        {
          "output_type": "stream",
          "text": [
            "====> Test set loss: 2.8025\n"
          ],
          "name": "stdout"
        }
      ]
    },
    {
      "cell_type": "code",
      "metadata": {
        "id": "AGNWtEUQQe-G"
      },
      "source": [
        "# R square\n",
        "o=model(x_val.cuda())\n",
        "r2(o.squeeze(), y_val.cuda())"
      ],
      "execution_count": null,
      "outputs": []
    },
    {
      "cell_type": "code",
      "metadata": {
        "id": "jjhue5WsK79J"
      },
      "source": [
        "#"
      ],
      "execution_count": null,
      "outputs": []
    },
    {
      "cell_type": "code",
      "metadata": {
        "colab": {
          "base_uri": "https://localhost:8080/"
        },
        "id": "1CqjBeSeK8Qx",
        "outputId": "d39d827d-01f5-42db-9b3d-1c3f59c408d5"
      },
      "source": [
        "import torch\n",
        "import torch.nn as nn\n",
        "import torch.nn.functional as F\n",
        "\n",
        "\n",
        "class DNN(nn.Module):\n",
        "\n",
        "    def __init__(self):\n",
        "        super(DNN, self).__init__()\n",
        "\n",
        "        self.fc1 = nn.Linear(729, 64)\n",
        "        self.fc2 = nn.Linear(64, 1)\n",
        "\n",
        "        #nn.init.xavier_uniform_(self.fc1.weight)\n",
        "        #nn.init.xavier_uniform_(self.fc2.weight)\n",
        "        #nn.init.xavier_uniform_(self.fc3.weight)\n",
        "        #nn.init.xavier_uniform_(self.fc4.weight)\n",
        "        #nn.init.xavier_uniform_(self.fc5.weight)\n",
        "        #nn.init.xavier_uniform_(self.fc6.weight)\n",
        "        #nn.init.xavier_uniform_(self.fc7.weight)\n",
        "\n",
        "    def forward(self, x):\n",
        "        x = self.fc1(x.view(-1, 729))\n",
        "        x = F.relu(x)\n",
        "        x = self.fc2(x)\n",
        "        # x = F.leaky_relu(x)\n",
        "        # x = self.fc5(x)\n",
        "        # x = F.leaky_relu(x)\n",
        "        # x = self.fc6(x)\n",
        "        # x = F.leaky_relu(x)\n",
        "        \n",
        "        return x\n",
        "\n",
        "\n",
        "def weights_init(m):\n",
        "    if isinstance(m, nn.Linear):\n",
        "        nn.init.xavier_normal_(m.weight.data, nn.init.calculate_gain('relu'))\n",
        "        #nn.init.xavier_uniform_(m.weight.data)\n",
        "        #nn.init.xavier_uniform_(m.bias.data)\n",
        "\n",
        "torch.manual_seed(42)\n",
        "model = DNN().cuda()\n",
        "model.apply(weights_init)\n",
        "print(model)"
      ],
      "execution_count": null,
      "outputs": [
        {
          "output_type": "stream",
          "text": [
            "DNN(\n",
            "  (fc1): Linear(in_features=729, out_features=364, bias=True)\n",
            "  (fc2): Linear(in_features=364, out_features=182, bias=True)\n",
            "  (fc3): Linear(in_features=182, out_features=91, bias=True)\n",
            "  (fc4): Linear(in_features=91, out_features=1, bias=True)\n",
            ")\n"
          ],
          "name": "stdout"
        }
      ]
    },
    {
      "cell_type": "code",
      "metadata": {
        "colab": {
          "base_uri": "https://localhost:8080/"
        },
        "id": "tL7Xw1e1eOse",
        "outputId": "52b91bd6-34a4-4fbe-81fb-6f533890e753"
      },
      "source": [
        "# the number of trainable parameter\n",
        "sum(p.numel() for p in model.parameters() if p.requires_grad)"
      ],
      "execution_count": null,
      "outputs": [
        {
          "output_type": "execute_result",
          "data": {
            "text/plain": [
              "348895"
            ]
          },
          "metadata": {},
          "execution_count": 74
        }
      ]
    },
    {
      "cell_type": "code",
      "metadata": {
        "colab": {
          "base_uri": "https://localhost:8080/"
        },
        "id": "ANYqgRBHLErV",
        "outputId": "df0fb796-2658-4263-ab52-428be512e788"
      },
      "source": [
        "import torch.optim as optim\n",
        "optimizer = optim.Adam(model.parameters(), lr=1e-4)\n",
        "loss_function = nn.MSELoss()\n",
        "epochs = epochs\n",
        "\n",
        "# for loss plot\n",
        "tloss = []\n",
        "vloss = []\n",
        "\n",
        "for e in range(1, epochs+1):\n",
        "    train(model, tloss, e)\n",
        "    test(model, vloss)\n",
        "\n",
        "y_pred = test_pred(model)"
      ],
      "execution_count": null,
      "outputs": [
        {
          "output_type": "stream",
          "text": [
            "====> Epoch: 1 loss: 38.6767\n",
            "====> Test set loss: 21.8808\n",
            "====> Epoch: 2 loss: 20.1779\n",
            "====> Test set loss: 18.3174\n",
            "====> Epoch: 3 loss: 12.9671\n",
            "====> Test set loss: 15.2371\n",
            "====> Epoch: 4 loss: 7.7493\n",
            "====> Test set loss: 14.0519\n",
            "====> Epoch: 5 loss: 4.4304\n",
            "====> Test set loss: 12.7256\n",
            "====> Epoch: 6 loss: 2.3621\n",
            "====> Test set loss: 11.8337\n",
            "====> Epoch: 7 loss: 1.2242\n",
            "====> Test set loss: 11.7461\n",
            "====> Epoch: 8 loss: 0.5531\n",
            "====> Test set loss: 11.6483\n",
            "====> Epoch: 9 loss: 0.2513\n",
            "====> Test set loss: 11.4328\n",
            "====> Epoch: 10 loss: 0.1152\n",
            "====> Test set loss: 11.4306\n",
            "====> Epoch: 11 loss: 0.0561\n",
            "====> Test set loss: 11.4027\n",
            "====> Epoch: 12 loss: 0.0414\n",
            "====> Test set loss: 11.3603\n",
            "====> Epoch: 13 loss: 0.0748\n",
            "====> Test set loss: 11.5374\n",
            "====> Epoch: 14 loss: 0.2372\n",
            "====> Test set loss: 11.6470\n",
            "====> Epoch: 15 loss: 0.5702\n",
            "====> Test set loss: 11.5077\n",
            "====> Epoch: 16 loss: 0.6402\n",
            "====> Test set loss: 11.8161\n",
            "====> Epoch: 17 loss: 0.4219\n",
            "====> Test set loss: 11.5147\n",
            "====> Epoch: 18 loss: 0.2480\n",
            "====> Test set loss: 11.4326\n",
            "====> Epoch: 19 loss: 0.1871\n",
            "====> Test set loss: 11.2592\n",
            "====> Epoch: 20 loss: 0.1755\n",
            "====> Test set loss: 11.5793\n",
            "====> Epoch: 21 loss: 0.2498\n",
            "====> Test set loss: 11.1034\n",
            "====> Epoch: 22 loss: 0.3520\n",
            "====> Test set loss: 11.2158\n",
            "====> Epoch: 23 loss: 0.4113\n",
            "====> Test set loss: 11.1247\n",
            "====> Epoch: 24 loss: 0.3373\n",
            "====> Test set loss: 11.0863\n",
            "====> Epoch: 25 loss: 0.2605\n",
            "====> Test set loss: 11.1729\n",
            "====> Epoch: 26 loss: 0.2317\n",
            "====> Test set loss: 11.0896\n",
            "====> Epoch: 27 loss: 0.2120\n",
            "====> Test set loss: 11.3068\n",
            "====> Epoch: 28 loss: 0.2055\n",
            "====> Test set loss: 11.0055\n",
            "====> Epoch: 29 loss: 0.2492\n",
            "====> Test set loss: 11.2732\n",
            "====> Epoch: 30 loss: 0.2743\n",
            "====> Test set loss: 11.0004\n",
            "====> Epoch: 31 loss: 0.2800\n",
            "====> Test set loss: 11.1914\n",
            "====> Epoch: 32 loss: 0.2418\n",
            "====> Test set loss: 10.9226\n",
            "====> Epoch: 33 loss: 0.2091\n",
            "====> Test set loss: 10.9823\n",
            "====> Epoch: 34 loss: 0.2173\n",
            "====> Test set loss: 11.2324\n",
            "====> Epoch: 35 loss: 0.2287\n",
            "====> Test set loss: 11.2263\n",
            "====> Epoch: 36 loss: 0.2307\n",
            "====> Test set loss: 10.8580\n",
            "====> Epoch: 37 loss: 0.2157\n",
            "====> Test set loss: 11.0564\n",
            "====> Epoch: 38 loss: 0.2284\n",
            "====> Test set loss: 10.8328\n",
            "====> Epoch: 39 loss: 0.2270\n",
            "====> Test set loss: 10.8255\n",
            "====> Epoch: 40 loss: 0.2184\n",
            "====> Test set loss: 11.1734\n",
            "====> Epoch: 41 loss: 0.2315\n",
            "====> Test set loss: 11.1583\n",
            "====> Epoch: 42 loss: 0.2248\n",
            "====> Test set loss: 10.7960\n",
            "====> Epoch: 43 loss: 0.1900\n",
            "====> Test set loss: 10.8799\n",
            "====> Epoch: 44 loss: 0.1702\n",
            "====> Test set loss: 10.8539\n",
            "====> Epoch: 45 loss: 0.1630\n",
            "====> Test set loss: 10.9441\n",
            "====> Epoch: 46 loss: 0.1872\n",
            "====> Test set loss: 10.7738\n",
            "====> Epoch: 47 loss: 0.1970\n",
            "====> Test set loss: 10.8716\n",
            "====> Epoch: 48 loss: 0.2181\n",
            "====> Test set loss: 10.7654\n",
            "====> Epoch: 49 loss: 0.2091\n",
            "====> Test set loss: 11.0367\n",
            "====> Epoch: 50 loss: 0.1960\n",
            "====> Test set loss: 10.7209\n",
            "====> Epoch: 51 loss: 0.1835\n",
            "====> Test set loss: 10.7786\n",
            "====> Epoch: 52 loss: 0.1753\n",
            "====> Test set loss: 10.9322\n",
            "====> Epoch: 53 loss: 0.1748\n",
            "====> Test set loss: 10.6785\n",
            "====> Epoch: 54 loss: 0.1626\n",
            "====> Test set loss: 10.8005\n",
            "====> Epoch: 55 loss: 0.1592\n",
            "====> Test set loss: 10.7084\n",
            "====> Epoch: 56 loss: 0.1646\n",
            "====> Test set loss: 10.8196\n",
            "====> Epoch: 57 loss: 0.1846\n",
            "====> Test set loss: 10.8598\n",
            "====> Epoch: 58 loss: 0.1827\n",
            "====> Test set loss: 10.5765\n",
            "====> Epoch: 59 loss: 0.1722\n",
            "====> Test set loss: 10.6987\n",
            "====> Epoch: 60 loss: 0.1536\n",
            "====> Test set loss: 10.6282\n",
            "====> Epoch: 61 loss: 0.1546\n",
            "====> Test set loss: 10.6242\n",
            "====> Epoch: 62 loss: 0.1574\n",
            "====> Test set loss: 10.7014\n",
            "====> Epoch: 63 loss: 0.1671\n",
            "====> Test set loss: 10.7506\n",
            "====> Epoch: 64 loss: 0.1638\n",
            "====> Test set loss: 10.9477\n",
            "====> Epoch: 65 loss: 0.1658\n",
            "====> Test set loss: 10.5315\n",
            "====> Epoch: 66 loss: 0.1557\n",
            "====> Test set loss: 10.6590\n",
            "====> Epoch: 67 loss: 0.1593\n",
            "====> Test set loss: 10.9586\n",
            "====> Epoch: 68 loss: 0.1488\n",
            "====> Test set loss: 10.6876\n",
            "====> Epoch: 69 loss: 0.1521\n",
            "====> Test set loss: 10.5170\n",
            "====> Epoch: 70 loss: 0.1583\n",
            "====> Test set loss: 10.7298\n",
            "====> Epoch: 71 loss: 0.1406\n",
            "====> Test set loss: 10.7030\n",
            "====> Epoch: 72 loss: 0.1237\n",
            "====> Test set loss: 10.8394\n",
            "====> Epoch: 73 loss: 0.1364\n",
            "====> Test set loss: 10.6466\n",
            "====> Epoch: 74 loss: 0.1485\n",
            "====> Test set loss: 10.5669\n",
            "====> Epoch: 75 loss: 0.1379\n",
            "====> Test set loss: 10.7682\n",
            "====> Epoch: 76 loss: 0.1356\n",
            "====> Test set loss: 10.4406\n",
            "====> Epoch: 77 loss: 0.1362\n",
            "====> Test set loss: 10.6009\n",
            "====> Epoch: 78 loss: 0.1541\n",
            "====> Test set loss: 10.5363\n",
            "====> Epoch: 79 loss: 0.1566\n",
            "====> Test set loss: 10.7553\n",
            "====> Epoch: 80 loss: 0.1275\n",
            "====> Test set loss: 10.8734\n",
            "====> Epoch: 81 loss: 0.1354\n",
            "====> Test set loss: 10.6878\n",
            "====> Epoch: 82 loss: 0.1393\n",
            "====> Test set loss: 10.4726\n",
            "====> Epoch: 83 loss: 0.1345\n",
            "====> Test set loss: 10.7191\n",
            "====> Epoch: 84 loss: 0.1320\n",
            "====> Test set loss: 10.6060\n",
            "====> Epoch: 85 loss: 0.1233\n",
            "====> Test set loss: 10.5999\n",
            "====> Epoch: 86 loss: 0.1406\n",
            "====> Test set loss: 10.5269\n",
            "====> Epoch: 87 loss: 0.1409\n",
            "====> Test set loss: 10.5519\n",
            "====> Epoch: 88 loss: 0.1322\n",
            "====> Test set loss: 10.6217\n",
            "====> Epoch: 89 loss: 0.1304\n",
            "====> Test set loss: 10.3528\n",
            "====> Epoch: 90 loss: 0.1106\n",
            "====> Test set loss: 10.5537\n",
            "====> Epoch: 91 loss: 0.1129\n",
            "====> Test set loss: 10.4525\n",
            "====> Epoch: 92 loss: 0.1242\n",
            "====> Test set loss: 10.3157\n",
            "====> Epoch: 93 loss: 0.1234\n",
            "====> Test set loss: 10.3684\n",
            "====> Epoch: 94 loss: 0.1425\n",
            "====> Test set loss: 10.7531\n",
            "====> Epoch: 95 loss: 0.1441\n",
            "====> Test set loss: 10.5953\n",
            "====> Epoch: 96 loss: 0.1169\n",
            "====> Test set loss: 10.4644\n",
            "====> Epoch: 97 loss: 0.0974\n",
            "====> Test set loss: 10.5337\n",
            "====> Epoch: 98 loss: 0.0979\n",
            "====> Test set loss: 10.5896\n",
            "====> Epoch: 99 loss: 0.1137\n",
            "====> Test set loss: 10.4580\n",
            "====> Epoch: 100 loss: 0.1370\n",
            "====> Test set loss: 10.4513\n",
            "====> Epoch: 101 loss: 0.1568\n",
            "====> Test set loss: 10.6219\n",
            "====> Epoch: 102 loss: 0.1216\n",
            "====> Test set loss: 10.5660\n",
            "====> Epoch: 103 loss: 0.0997\n",
            "====> Test set loss: 10.6319\n",
            "====> Epoch: 104 loss: 0.0883\n",
            "====> Test set loss: 10.5802\n",
            "====> Epoch: 105 loss: 0.0921\n",
            "====> Test set loss: 10.5512\n",
            "====> Epoch: 106 loss: 0.1021\n",
            "====> Test set loss: 10.6064\n",
            "====> Epoch: 107 loss: 0.1143\n",
            "====> Test set loss: 10.3495\n",
            "====> Epoch: 108 loss: 0.1248\n",
            "====> Test set loss: 10.3449\n",
            "====> Epoch: 109 loss: 0.1082\n",
            "====> Test set loss: 10.5750\n",
            "====> Epoch: 110 loss: 0.1062\n",
            "====> Test set loss: 10.4242\n",
            "====> Epoch: 111 loss: 0.1148\n",
            "====> Test set loss: 10.4922\n",
            "====> Epoch: 112 loss: 0.1151\n",
            "====> Test set loss: 10.4782\n",
            "====> Epoch: 113 loss: 0.1149\n",
            "====> Test set loss: 10.4759\n",
            "====> Epoch: 114 loss: 0.1070\n",
            "====> Test set loss: 10.4307\n",
            "====> Epoch: 115 loss: 0.1107\n",
            "====> Test set loss: 10.4027\n",
            "====> Epoch: 116 loss: 0.1017\n",
            "====> Test set loss: 10.3726\n",
            "====> Epoch: 117 loss: 0.0979\n",
            "====> Test set loss: 10.3606\n",
            "====> Epoch: 118 loss: 0.0996\n",
            "====> Test set loss: 10.3715\n",
            "====> Epoch: 119 loss: 0.0987\n",
            "====> Test set loss: 10.4163\n",
            "====> Epoch: 120 loss: 0.1163\n",
            "====> Test set loss: 10.2611\n",
            "====> Epoch: 121 loss: 0.1258\n",
            "====> Test set loss: 10.3037\n",
            "====> Epoch: 122 loss: 0.0965\n",
            "====> Test set loss: 10.2089\n",
            "====> Epoch: 123 loss: 0.0900\n",
            "====> Test set loss: 10.3410\n",
            "====> Epoch: 124 loss: 0.0996\n",
            "====> Test set loss: 10.3980\n",
            "====> Epoch: 125 loss: 0.1052\n",
            "====> Test set loss: 10.5216\n",
            "====> Epoch: 126 loss: 0.1028\n",
            "====> Test set loss: 10.3983\n",
            "====> Epoch: 127 loss: 0.1156\n",
            "====> Test set loss: 10.2687\n",
            "====> Epoch: 128 loss: 0.1004\n",
            "====> Test set loss: 10.5186\n",
            "====> Epoch: 129 loss: 0.0891\n",
            "====> Test set loss: 10.2930\n",
            "====> Epoch: 130 loss: 0.0816\n",
            "====> Test set loss: 10.4159\n",
            "====> Epoch: 131 loss: 0.0847\n",
            "====> Test set loss: 10.4755\n",
            "====> Epoch: 132 loss: 0.0934\n",
            "====> Test set loss: 10.3446\n",
            "====> Epoch: 133 loss: 0.1071\n",
            "====> Test set loss: 10.2661\n",
            "====> Epoch: 134 loss: 0.1001\n",
            "====> Test set loss: 10.2996\n",
            "====> Epoch: 135 loss: 0.0920\n",
            "====> Test set loss: 10.3368\n",
            "====> Epoch: 136 loss: 0.0970\n",
            "====> Test set loss: 10.2864\n",
            "====> Epoch: 137 loss: 0.0937\n",
            "====> Test set loss: 10.4680\n",
            "====> Epoch: 138 loss: 0.0931\n",
            "====> Test set loss: 10.3315\n",
            "====> Epoch: 139 loss: 0.0967\n",
            "====> Test set loss: 10.2181\n",
            "====> Epoch: 140 loss: 0.0907\n",
            "====> Test set loss: 10.3051\n",
            "====> Epoch: 141 loss: 0.0899\n",
            "====> Test set loss: 10.4218\n",
            "====> Epoch: 142 loss: 0.0876\n",
            "====> Test set loss: 10.4300\n",
            "====> Epoch: 143 loss: 0.0960\n",
            "====> Test set loss: 10.3750\n",
            "====> Epoch: 144 loss: 0.0966\n",
            "====> Test set loss: 10.3839\n",
            "====> Epoch: 145 loss: 0.1010\n",
            "====> Test set loss: 10.2773\n",
            "====> Epoch: 146 loss: 0.0870\n",
            "====> Test set loss: 10.1534\n",
            "====> Epoch: 147 loss: 0.0900\n",
            "====> Test set loss: 10.5012\n",
            "====> Epoch: 148 loss: 0.0829\n",
            "====> Test set loss: 10.2246\n",
            "====> Epoch: 149 loss: 0.0806\n",
            "====> Test set loss: 10.2033\n",
            "====> Epoch: 150 loss: 0.0900\n",
            "====> Test set loss: 10.2721\n",
            "====> Epoch: 151 loss: 0.0977\n",
            "====> Test set loss: 10.2581\n",
            "====> Epoch: 152 loss: 0.0933\n",
            "====> Test set loss: 10.1725\n",
            "====> Epoch: 153 loss: 0.0903\n",
            "====> Test set loss: 10.1854\n",
            "====> Epoch: 154 loss: 0.0844\n",
            "====> Test set loss: 10.1355\n",
            "====> Epoch: 155 loss: 0.0833\n",
            "====> Test set loss: 10.1191\n",
            "====> Epoch: 156 loss: 0.0819\n",
            "====> Test set loss: 10.1817\n",
            "====> Epoch: 157 loss: 0.0840\n",
            "====> Test set loss: 10.1285\n",
            "====> Epoch: 158 loss: 0.0817\n",
            "====> Test set loss: 10.2073\n",
            "====> Epoch: 159 loss: 0.0846\n",
            "====> Test set loss: 10.3411\n",
            "====> Epoch: 160 loss: 0.0844\n",
            "====> Test set loss: 10.3197\n",
            "====> Epoch: 161 loss: 0.0877\n",
            "====> Test set loss: 10.1417\n",
            "====> Epoch: 162 loss: 0.0791\n",
            "====> Test set loss: 10.2322\n",
            "====> Epoch: 163 loss: 0.0750\n",
            "====> Test set loss: 10.0322\n",
            "====> Epoch: 164 loss: 0.0873\n",
            "====> Test set loss: 10.4141\n",
            "====> Epoch: 165 loss: 0.0892\n",
            "====> Test set loss: 10.1966\n",
            "====> Epoch: 166 loss: 0.0899\n",
            "====> Test set loss: 10.0990\n",
            "====> Epoch: 167 loss: 0.0858\n",
            "====> Test set loss: 10.0971\n",
            "====> Epoch: 168 loss: 0.0811\n",
            "====> Test set loss: 10.2457\n",
            "====> Epoch: 169 loss: 0.0795\n",
            "====> Test set loss: 10.1592\n",
            "====> Epoch: 170 loss: 0.0713\n",
            "====> Test set loss: 10.1736\n",
            "====> Epoch: 171 loss: 0.0716\n",
            "====> Test set loss: 10.1965\n",
            "====> Epoch: 172 loss: 0.0732\n",
            "====> Test set loss: 10.2730\n",
            "====> Epoch: 173 loss: 0.0819\n",
            "====> Test set loss: 10.2555\n",
            "====> Epoch: 174 loss: 0.0896\n",
            "====> Test set loss: 10.1791\n",
            "====> Epoch: 175 loss: 0.0943\n",
            "====> Test set loss: 10.1036\n",
            "====> Epoch: 176 loss: 0.0822\n",
            "====> Test set loss: 10.0053\n",
            "====> Epoch: 177 loss: 0.0686\n",
            "====> Test set loss: 10.1433\n",
            "====> Epoch: 178 loss: 0.0696\n",
            "====> Test set loss: 10.0980\n",
            "====> Epoch: 179 loss: 0.0738\n",
            "====> Test set loss: 10.2259\n",
            "====> Epoch: 180 loss: 0.0757\n",
            "====> Test set loss: 10.0810\n",
            "====> Epoch: 181 loss: 0.0934\n",
            "====> Test set loss: 10.1835\n",
            "====> Epoch: 182 loss: 0.0913\n",
            "====> Test set loss: 10.1270\n",
            "====> Epoch: 183 loss: 0.0776\n",
            "====> Test set loss: 10.0901\n",
            "====> Epoch: 184 loss: 0.0648\n",
            "====> Test set loss: 10.1412\n",
            "====> Epoch: 185 loss: 0.0660\n",
            "====> Test set loss: 10.1379\n",
            "====> Epoch: 186 loss: 0.0668\n",
            "====> Test set loss: 10.3239\n",
            "====> Epoch: 187 loss: 0.0774\n",
            "====> Test set loss: 10.1717\n",
            "====> Epoch: 188 loss: 0.0788\n",
            "====> Test set loss: 9.9938\n",
            "====> Epoch: 189 loss: 0.0808\n",
            "====> Test set loss: 10.1465\n",
            "====> Epoch: 190 loss: 0.0715\n",
            "====> Test set loss: 10.0063\n",
            "====> Epoch: 191 loss: 0.0711\n",
            "====> Test set loss: 10.0572\n",
            "====> Epoch: 192 loss: 0.0724\n",
            "====> Test set loss: 10.1700\n",
            "====> Epoch: 193 loss: 0.0701\n",
            "====> Test set loss: 10.0723\n",
            "====> Epoch: 194 loss: 0.0718\n",
            "====> Test set loss: 10.1157\n",
            "====> Epoch: 195 loss: 0.0752\n",
            "====> Test set loss: 9.9380\n",
            "====> Epoch: 196 loss: 0.0733\n",
            "====> Test set loss: 10.1615\n",
            "====> Epoch: 197 loss: 0.0755\n",
            "====> Test set loss: 10.0453\n",
            "====> Epoch: 198 loss: 0.0792\n",
            "====> Test set loss: 10.2544\n",
            "====> Epoch: 199 loss: 0.0743\n",
            "====> Test set loss: 10.0745\n",
            "====> Epoch: 200 loss: 0.0686\n",
            "====> Test set loss: 10.1756\n",
            "====> Epoch: 201 loss: 0.0615\n",
            "====> Test set loss: 9.9450\n",
            "====> Epoch: 202 loss: 0.0682\n",
            "====> Test set loss: 9.9692\n",
            "====> Epoch: 203 loss: 0.0760\n",
            "====> Test set loss: 10.2720\n",
            "====> Epoch: 204 loss: 0.0721\n",
            "====> Test set loss: 10.0455\n",
            "====> Epoch: 205 loss: 0.0712\n",
            "====> Test set loss: 9.9935\n",
            "====> Epoch: 206 loss: 0.0740\n",
            "====> Test set loss: 10.0474\n",
            "====> Epoch: 207 loss: 0.0790\n",
            "====> Test set loss: 10.0524\n",
            "====> Epoch: 208 loss: 0.0715\n",
            "====> Test set loss: 10.0524\n",
            "====> Epoch: 209 loss: 0.0701\n",
            "====> Test set loss: 9.9625\n",
            "====> Epoch: 210 loss: 0.0658\n",
            "====> Test set loss: 10.1259\n",
            "====> Epoch: 211 loss: 0.0658\n",
            "====> Test set loss: 10.0543\n",
            "====> Epoch: 212 loss: 0.0584\n",
            "====> Test set loss: 10.1507\n",
            "====> Epoch: 213 loss: 0.0600\n",
            "====> Test set loss: 10.0281\n",
            "====> Epoch: 214 loss: 0.0635\n",
            "====> Test set loss: 10.1506\n",
            "====> Epoch: 215 loss: 0.0696\n",
            "====> Test set loss: 10.2346\n",
            "====> Epoch: 216 loss: 0.0779\n",
            "====> Test set loss: 10.1897\n",
            "====> Epoch: 217 loss: 0.0698\n",
            "====> Test set loss: 10.0531\n",
            "====> Epoch: 218 loss: 0.0649\n",
            "====> Test set loss: 9.9700\n",
            "====> Epoch: 219 loss: 0.0622\n",
            "====> Test set loss: 10.0636\n",
            "====> Epoch: 220 loss: 0.0642\n",
            "====> Test set loss: 10.0706\n",
            "====> Epoch: 221 loss: 0.0683\n",
            "====> Test set loss: 10.1234\n",
            "====> Epoch: 222 loss: 0.0697\n",
            "====> Test set loss: 9.9174\n",
            "====> Epoch: 223 loss: 0.0584\n",
            "====> Test set loss: 10.1703\n",
            "====> Epoch: 224 loss: 0.0746\n",
            "====> Test set loss: 9.9800\n",
            "====> Epoch: 225 loss: 0.0802\n",
            "====> Test set loss: 10.2318\n",
            "====> Epoch: 226 loss: 0.0653\n",
            "====> Test set loss: 10.0991\n",
            "====> Epoch: 227 loss: 0.0526\n",
            "====> Test set loss: 10.0000\n",
            "====> Epoch: 228 loss: 0.0555\n",
            "====> Test set loss: 10.0806\n",
            "====> Epoch: 229 loss: 0.0667\n",
            "====> Test set loss: 9.9105\n",
            "====> Epoch: 230 loss: 0.0648\n",
            "====> Test set loss: 10.2062\n",
            "====> Epoch: 231 loss: 0.0639\n",
            "====> Test set loss: 10.0261\n",
            "====> Epoch: 232 loss: 0.0609\n",
            "====> Test set loss: 10.0264\n",
            "====> Epoch: 233 loss: 0.0630\n",
            "====> Test set loss: 9.9483\n",
            "====> Epoch: 234 loss: 0.0564\n",
            "====> Test set loss: 9.9032\n",
            "====> Epoch: 235 loss: 0.0585\n",
            "====> Test set loss: 9.9528\n",
            "====> Epoch: 236 loss: 0.0596\n",
            "====> Test set loss: 10.1705\n",
            "====> Epoch: 237 loss: 0.0672\n",
            "====> Test set loss: 9.8366\n",
            "====> Epoch: 238 loss: 0.0690\n",
            "====> Test set loss: 9.8813\n",
            "====> Epoch: 239 loss: 0.0634\n",
            "====> Test set loss: 9.9274\n",
            "====> Epoch: 240 loss: 0.0579\n",
            "====> Test set loss: 10.0165\n",
            "====> Epoch: 241 loss: 0.0536\n",
            "====> Test set loss: 9.9671\n",
            "====> Epoch: 242 loss: 0.0550\n",
            "====> Test set loss: 10.2811\n",
            "====> Epoch: 243 loss: 0.0659\n",
            "====> Test set loss: 9.8491\n",
            "====> Epoch: 244 loss: 0.0676\n",
            "====> Test set loss: 10.2444\n",
            "====> Epoch: 245 loss: 0.0654\n",
            "====> Test set loss: 9.9999\n",
            "====> Epoch: 246 loss: 0.0666\n",
            "====> Test set loss: 10.0318\n",
            "====> Epoch: 247 loss: 0.0665\n",
            "====> Test set loss: 9.9627\n",
            "====> Epoch: 248 loss: 0.0651\n",
            "====> Test set loss: 9.8182\n",
            "====> Epoch: 249 loss: 0.0574\n",
            "====> Test set loss: 9.8785\n",
            "====> Epoch: 250 loss: 0.0557\n",
            "====> Test set loss: 10.0745\n",
            "====> Epoch: 251 loss: 0.0596\n",
            "====> Test set loss: 10.0202\n",
            "====> Epoch: 252 loss: 0.0640\n",
            "====> Test set loss: 10.0460\n",
            "====> Epoch: 253 loss: 0.0566\n",
            "====> Test set loss: 10.0733\n",
            "====> Epoch: 254 loss: 0.0537\n",
            "====> Test set loss: 9.9081\n",
            "====> Epoch: 255 loss: 0.0562\n",
            "====> Test set loss: 9.9939\n",
            "====> Epoch: 256 loss: 0.0567\n",
            "====> Test set loss: 9.9400\n",
            "====> Epoch: 257 loss: 0.0607\n",
            "====> Test set loss: 9.9495\n",
            "====> Epoch: 258 loss: 0.0582\n",
            "====> Test set loss: 9.9761\n",
            "====> Epoch: 259 loss: 0.0629\n",
            "====> Test set loss: 9.8870\n",
            "====> Epoch: 260 loss: 0.0609\n",
            "====> Test set loss: 10.0358\n",
            "====> Epoch: 261 loss: 0.0652\n",
            "====> Test set loss: 9.8525\n",
            "====> Epoch: 262 loss: 0.0541\n",
            "====> Test set loss: 9.9286\n",
            "====> Epoch: 263 loss: 0.0457\n",
            "====> Test set loss: 10.0635\n",
            "====> Epoch: 264 loss: 0.0451\n",
            "====> Test set loss: 9.8508\n",
            "====> Epoch: 265 loss: 0.0538\n",
            "====> Test set loss: 9.9678\n",
            "====> Epoch: 266 loss: 0.0646\n",
            "====> Test set loss: 10.0468\n",
            "====> Epoch: 267 loss: 0.0795\n",
            "====> Test set loss: 9.8658\n",
            "====> Epoch: 268 loss: 0.0736\n",
            "====> Test set loss: 9.9753\n",
            "====> Epoch: 269 loss: 0.0545\n",
            "====> Test set loss: 9.9707\n",
            "====> Epoch: 270 loss: 0.0455\n",
            "====> Test set loss: 9.8806\n",
            "====> Epoch: 271 loss: 0.0469\n",
            "====> Test set loss: 9.8964\n",
            "====> Epoch: 272 loss: 0.0526\n",
            "====> Test set loss: 10.0095\n",
            "====> Epoch: 273 loss: 0.0566\n",
            "====> Test set loss: 10.0266\n",
            "====> Epoch: 274 loss: 0.0511\n",
            "====> Test set loss: 9.9863\n",
            "====> Epoch: 275 loss: 0.0533\n",
            "====> Test set loss: 9.9079\n",
            "====> Epoch: 276 loss: 0.0536\n",
            "====> Test set loss: 10.0211\n",
            "====> Epoch: 277 loss: 0.0554\n",
            "====> Test set loss: 9.7621\n",
            "====> Epoch: 278 loss: 0.0570\n",
            "====> Test set loss: 10.1419\n",
            "====> Epoch: 279 loss: 0.0592\n",
            "====> Test set loss: 9.9240\n",
            "====> Epoch: 280 loss: 0.0672\n",
            "====> Test set loss: 9.9627\n",
            "====> Epoch: 281 loss: 0.0655\n",
            "====> Test set loss: 9.9416\n",
            "====> Epoch: 282 loss: 0.0586\n",
            "====> Test set loss: 10.0929\n",
            "====> Epoch: 283 loss: 0.0598\n",
            "====> Test set loss: 9.9220\n",
            "====> Epoch: 284 loss: 0.0471\n",
            "====> Test set loss: 9.9181\n",
            "====> Epoch: 285 loss: 0.0425\n",
            "====> Test set loss: 9.9104\n",
            "====> Epoch: 286 loss: 0.0498\n",
            "====> Test set loss: 9.9456\n",
            "====> Epoch: 287 loss: 0.0609\n",
            "====> Test set loss: 9.8728\n",
            "====> Epoch: 288 loss: 0.0625\n",
            "====> Test set loss: 10.0144\n",
            "====> Epoch: 289 loss: 0.0522\n",
            "====> Test set loss: 9.8290\n",
            "====> Epoch: 290 loss: 0.0492\n",
            "====> Test set loss: 10.0370\n",
            "====> Epoch: 291 loss: 0.0487\n",
            "====> Test set loss: 10.0247\n",
            "====> Epoch: 292 loss: 0.0523\n",
            "====> Test set loss: 9.8080\n",
            "====> Epoch: 293 loss: 0.0530\n",
            "====> Test set loss: 9.9806\n",
            "====> Epoch: 294 loss: 0.0538\n",
            "====> Test set loss: 9.7886\n",
            "====> Epoch: 295 loss: 0.0519\n",
            "====> Test set loss: 9.8588\n",
            "====> Epoch: 296 loss: 0.0650\n",
            "====> Test set loss: 9.8523\n",
            "====> Epoch: 297 loss: 0.0572\n",
            "====> Test set loss: 9.9685\n",
            "====> Epoch: 298 loss: 0.0476\n",
            "====> Test set loss: 9.9399\n",
            "====> Epoch: 299 loss: 0.0520\n",
            "====> Test set loss: 9.8806\n",
            "====> Epoch: 300 loss: 0.0449\n",
            "====> Test set loss: 9.9695\n",
            "====> Epoch: 301 loss: 0.0474\n",
            "====> Test set loss: 10.0346\n",
            "====> Epoch: 302 loss: 0.0555\n",
            "====> Test set loss: 9.8277\n",
            "====> Epoch: 303 loss: 0.0577\n",
            "====> Test set loss: 9.9408\n",
            "====> Epoch: 304 loss: 0.0594\n",
            "====> Test set loss: 9.9476\n",
            "====> Epoch: 305 loss: 0.0506\n",
            "====> Test set loss: 9.9208\n",
            "====> Epoch: 306 loss: 0.0466\n",
            "====> Test set loss: 10.0432\n",
            "====> Epoch: 307 loss: 0.0423\n",
            "====> Test set loss: 9.9612\n",
            "====> Epoch: 308 loss: 0.0435\n",
            "====> Test set loss: 9.8062\n",
            "====> Epoch: 309 loss: 0.0477\n",
            "====> Test set loss: 9.8843\n",
            "====> Epoch: 310 loss: 0.0569\n",
            "====> Test set loss: 10.0569\n",
            "====> Epoch: 311 loss: 0.0569\n",
            "====> Test set loss: 9.8679\n",
            "====> Epoch: 312 loss: 0.0546\n",
            "====> Test set loss: 9.8225\n",
            "====> Epoch: 313 loss: 0.0481\n",
            "====> Test set loss: 9.8431\n",
            "====> Epoch: 314 loss: 0.0441\n",
            "====> Test set loss: 9.9542\n",
            "====> Epoch: 315 loss: 0.0425\n",
            "====> Test set loss: 9.8752\n",
            "====> Epoch: 316 loss: 0.0490\n",
            "====> Test set loss: 9.9407\n",
            "====> Epoch: 317 loss: 0.0499\n",
            "====> Test set loss: 9.8831\n",
            "====> Epoch: 318 loss: 0.0539\n",
            "====> Test set loss: 9.8976\n",
            "====> Epoch: 319 loss: 0.0545\n",
            "====> Test set loss: 9.8098\n",
            "====> Epoch: 320 loss: 0.0492\n",
            "====> Test set loss: 9.8807\n",
            "====> Epoch: 321 loss: 0.0475\n",
            "====> Test set loss: 9.8985\n",
            "====> Epoch: 322 loss: 0.0489\n",
            "====> Test set loss: 9.9537\n",
            "====> Epoch: 323 loss: 0.0454\n",
            "====> Test set loss: 9.8748\n",
            "====> Epoch: 324 loss: 0.0439\n",
            "====> Test set loss: 9.9286\n",
            "====> Epoch: 325 loss: 0.0460\n",
            "====> Test set loss: 9.8891\n",
            "====> Epoch: 326 loss: 0.0502\n",
            "====> Test set loss: 9.9010\n",
            "====> Epoch: 327 loss: 0.0505\n",
            "====> Test set loss: 9.8800\n",
            "====> Epoch: 328 loss: 0.0560\n",
            "====> Test set loss: 10.0542\n",
            "====> Epoch: 329 loss: 0.0569\n",
            "====> Test set loss: 9.9302\n",
            "====> Epoch: 330 loss: 0.0473\n",
            "====> Test set loss: 9.9446\n",
            "====> Epoch: 331 loss: 0.0414\n",
            "====> Test set loss: 9.9102\n",
            "====> Epoch: 332 loss: 0.0387\n",
            "====> Test set loss: 9.9268\n",
            "====> Epoch: 333 loss: 0.0439\n",
            "====> Test set loss: 9.9236\n",
            "====> Epoch: 334 loss: 0.0486\n",
            "====> Test set loss: 9.9440\n",
            "====> Epoch: 335 loss: 0.0577\n",
            "====> Test set loss: 9.8493\n",
            "====> Epoch: 336 loss: 0.0517\n",
            "====> Test set loss: 9.8465\n",
            "====> Epoch: 337 loss: 0.0422\n",
            "====> Test set loss: 9.8023\n",
            "====> Epoch: 338 loss: 0.0386\n",
            "====> Test set loss: 9.8169\n",
            "====> Epoch: 339 loss: 0.0404\n",
            "====> Test set loss: 9.8942\n",
            "====> Epoch: 340 loss: 0.0503\n",
            "====> Test set loss: 9.8574\n",
            "====> Epoch: 341 loss: 0.0502\n",
            "====> Test set loss: 9.9290\n",
            "====> Epoch: 342 loss: 0.0524\n",
            "====> Test set loss: 9.8651\n",
            "====> Epoch: 343 loss: 0.0479\n",
            "====> Test set loss: 9.8028\n",
            "====> Epoch: 344 loss: 0.0455\n",
            "====> Test set loss: 9.9564\n",
            "====> Epoch: 345 loss: 0.0430\n",
            "====> Test set loss: 9.8765\n",
            "====> Epoch: 346 loss: 0.0414\n",
            "====> Test set loss: 9.7903\n",
            "====> Epoch: 347 loss: 0.0390\n",
            "====> Test set loss: 9.8838\n",
            "====> Epoch: 348 loss: 0.0524\n",
            "====> Test set loss: 9.7415\n",
            "====> Epoch: 349 loss: 0.0578\n",
            "====> Test set loss: 9.9370\n",
            "====> Epoch: 350 loss: 0.0476\n",
            "====> Test set loss: 10.0513\n",
            "====> Epoch: 351 loss: 0.0432\n",
            "====> Test set loss: 9.9729\n",
            "====> Epoch: 352 loss: 0.0441\n",
            "====> Test set loss: 9.9675\n",
            "====> Epoch: 353 loss: 0.0436\n",
            "====> Test set loss: 9.9023\n",
            "====> Epoch: 354 loss: 0.0456\n",
            "====> Test set loss: 9.8610\n",
            "====> Epoch: 355 loss: 0.0449\n",
            "====> Test set loss: 9.8440\n",
            "====> Epoch: 356 loss: 0.0410\n",
            "====> Test set loss: 9.8504\n",
            "====> Epoch: 357 loss: 0.0399\n",
            "====> Test set loss: 9.9016\n",
            "====> Epoch: 358 loss: 0.0393\n",
            "====> Test set loss: 9.8821\n",
            "====> Epoch: 359 loss: 0.0429\n",
            "====> Test set loss: 9.9176\n",
            "====> Epoch: 360 loss: 0.0480\n",
            "====> Test set loss: 9.8517\n",
            "====> Epoch: 361 loss: 0.0461\n",
            "====> Test set loss: 9.8945\n",
            "====> Epoch: 362 loss: 0.0428\n",
            "====> Test set loss: 10.1138\n",
            "====> Epoch: 363 loss: 0.0443\n",
            "====> Test set loss: 9.7619\n",
            "====> Epoch: 364 loss: 0.0481\n",
            "====> Test set loss: 9.8429\n",
            "====> Epoch: 365 loss: 0.0454\n",
            "====> Test set loss: 9.8416\n",
            "====> Epoch: 366 loss: 0.0495\n",
            "====> Test set loss: 10.1168\n",
            "====> Epoch: 367 loss: 0.0486\n",
            "====> Test set loss: 9.7938\n",
            "====> Epoch: 368 loss: 0.0381\n",
            "====> Test set loss: 9.8420\n",
            "====> Epoch: 369 loss: 0.0352\n",
            "====> Test set loss: 9.8537\n",
            "====> Epoch: 370 loss: 0.0389\n",
            "====> Test set loss: 9.9189\n",
            "====> Epoch: 371 loss: 0.0463\n",
            "====> Test set loss: 9.8553\n",
            "====> Epoch: 372 loss: 0.0509\n",
            "====> Test set loss: 9.9501\n",
            "====> Epoch: 373 loss: 0.0407\n",
            "====> Test set loss: 9.9450\n",
            "====> Epoch: 374 loss: 0.0361\n",
            "====> Test set loss: 9.9423\n",
            "====> Epoch: 375 loss: 0.0471\n",
            "====> Test set loss: 9.9863\n",
            "====> Epoch: 376 loss: 0.0473\n",
            "====> Test set loss: 9.8557\n",
            "====> Epoch: 377 loss: 0.0454\n",
            "====> Test set loss: 10.0240\n",
            "====> Epoch: 378 loss: 0.0386\n",
            "====> Test set loss: 9.8122\n",
            "====> Epoch: 379 loss: 0.0399\n",
            "====> Test set loss: 9.8802\n",
            "====> Epoch: 380 loss: 0.0414\n",
            "====> Test set loss: 9.8646\n",
            "====> Epoch: 381 loss: 0.0476\n",
            "====> Test set loss: 10.0310\n",
            "====> Epoch: 382 loss: 0.0453\n",
            "====> Test set loss: 9.9315\n",
            "====> Epoch: 383 loss: 0.0479\n",
            "====> Test set loss: 9.9272\n",
            "====> Epoch: 384 loss: 0.0455\n",
            "====> Test set loss: 10.0080\n",
            "====> Epoch: 385 loss: 0.0424\n",
            "====> Test set loss: 9.8792\n",
            "====> Epoch: 386 loss: 0.0420\n",
            "====> Test set loss: 9.8158\n",
            "====> Epoch: 387 loss: 0.0377\n",
            "====> Test set loss: 9.9407\n",
            "====> Epoch: 388 loss: 0.0389\n",
            "====> Test set loss: 9.9481\n",
            "====> Epoch: 389 loss: 0.0437\n",
            "====> Test set loss: 9.8343\n",
            "====> Epoch: 390 loss: 0.0469\n",
            "====> Test set loss: 10.0347\n",
            "====> Epoch: 391 loss: 0.0416\n",
            "====> Test set loss: 9.8465\n",
            "====> Epoch: 392 loss: 0.0429\n",
            "====> Test set loss: 9.8530\n",
            "====> Epoch: 393 loss: 0.0388\n",
            "====> Test set loss: 9.8391\n",
            "====> Epoch: 394 loss: 0.0385\n",
            "====> Test set loss: 9.8780\n",
            "====> Epoch: 395 loss: 0.0443\n",
            "====> Test set loss: 9.7254\n",
            "====> Epoch: 396 loss: 0.0445\n",
            "====> Test set loss: 10.0320\n",
            "====> Epoch: 397 loss: 0.0397\n",
            "====> Test set loss: 9.8020\n",
            "====> Epoch: 398 loss: 0.0338\n",
            "====> Test set loss: 9.9552\n",
            "====> Epoch: 399 loss: 0.0377\n",
            "====> Test set loss: 9.9904\n",
            "====> Epoch: 400 loss: 0.0520\n",
            "====> Test set loss: 9.8151\n",
            "====> Epoch: 401 loss: 0.0460\n",
            "====> Test set loss: 9.7295\n",
            "====> Epoch: 402 loss: 0.0379\n",
            "====> Test set loss: 9.9203\n",
            "====> Epoch: 403 loss: 0.0367\n",
            "====> Test set loss: 9.8717\n",
            "====> Epoch: 404 loss: 0.0374\n",
            "====> Test set loss: 9.8640\n",
            "====> Epoch: 405 loss: 0.0383\n",
            "====> Test set loss: 9.9531\n",
            "====> Epoch: 406 loss: 0.0394\n",
            "====> Test set loss: 9.8503\n",
            "====> Epoch: 407 loss: 0.0440\n",
            "====> Test set loss: 9.7982\n",
            "====> Epoch: 408 loss: 0.0426\n",
            "====> Test set loss: 9.8158\n",
            "====> Epoch: 409 loss: 0.0382\n",
            "====> Test set loss: 9.7895\n",
            "====> Epoch: 410 loss: 0.0393\n",
            "====> Test set loss: 9.8983\n",
            "====> Epoch: 411 loss: 0.0411\n",
            "====> Test set loss: 9.7606\n",
            "====> Epoch: 412 loss: 0.0410\n",
            "====> Test set loss: 9.7421\n",
            "====> Epoch: 413 loss: 0.0397\n",
            "====> Test set loss: 9.8166\n",
            "====> Epoch: 414 loss: 0.0373\n",
            "====> Test set loss: 9.8115\n",
            "====> Epoch: 415 loss: 0.0336\n",
            "====> Test set loss: 9.7899\n",
            "====> Epoch: 416 loss: 0.0412\n",
            "====> Test set loss: 9.9967\n",
            "====> Epoch: 417 loss: 0.0476\n",
            "====> Test set loss: 9.8679\n",
            "====> Epoch: 418 loss: 0.0479\n",
            "====> Test set loss: 9.8238\n",
            "====> Epoch: 419 loss: 0.0481\n",
            "====> Test set loss: 9.9623\n",
            "====> Epoch: 420 loss: 0.0408\n",
            "====> Test set loss: 9.8778\n",
            "====> Epoch: 421 loss: 0.0336\n",
            "====> Test set loss: 9.8371\n",
            "====> Epoch: 422 loss: 0.0318\n",
            "====> Test set loss: 9.8821\n",
            "====> Epoch: 423 loss: 0.0321\n",
            "====> Test set loss: 9.8033\n",
            "====> Epoch: 424 loss: 0.0401\n",
            "====> Test set loss: 9.8884\n",
            "====> Epoch: 425 loss: 0.0433\n",
            "====> Test set loss: 9.7391\n",
            "====> Epoch: 426 loss: 0.0399\n",
            "====> Test set loss: 9.8279\n",
            "====> Epoch: 427 loss: 0.0385\n",
            "====> Test set loss: 9.7304\n",
            "====> Epoch: 428 loss: 0.0390\n",
            "====> Test set loss: 10.0025\n",
            "====> Epoch: 429 loss: 0.0376\n",
            "====> Test set loss: 9.9388\n",
            "====> Epoch: 430 loss: 0.0366\n",
            "====> Test set loss: 9.7136\n",
            "====> Epoch: 431 loss: 0.0339\n",
            "====> Test set loss: 9.8730\n",
            "====> Epoch: 432 loss: 0.0408\n",
            "====> Test set loss: 9.7805\n",
            "====> Epoch: 433 loss: 0.0440\n",
            "====> Test set loss: 9.7367\n",
            "====> Epoch: 434 loss: 0.0400\n",
            "====> Test set loss: 9.8007\n",
            "====> Epoch: 435 loss: 0.0451\n",
            "====> Test set loss: 9.9267\n",
            "====> Epoch: 436 loss: 0.0391\n",
            "====> Test set loss: 9.8689\n",
            "====> Epoch: 437 loss: 0.0309\n",
            "====> Test set loss: 9.8153\n",
            "====> Epoch: 438 loss: 0.0364\n",
            "====> Test set loss: 9.8864\n",
            "====> Epoch: 439 loss: 0.0448\n",
            "====> Test set loss: 9.8352\n",
            "====> Epoch: 440 loss: 0.0397\n",
            "====> Test set loss: 9.8406\n",
            "====> Epoch: 441 loss: 0.0320\n",
            "====> Test set loss: 9.8318\n",
            "====> Epoch: 442 loss: 0.0335\n",
            "====> Test set loss: 9.8180\n",
            "====> Epoch: 443 loss: 0.0383\n",
            "====> Test set loss: 9.8789\n",
            "====> Epoch: 444 loss: 0.0394\n",
            "====> Test set loss: 9.8753\n",
            "====> Epoch: 445 loss: 0.0369\n",
            "====> Test set loss: 9.7966\n",
            "====> Epoch: 446 loss: 0.0379\n",
            "====> Test set loss: 9.7827\n",
            "====> Epoch: 447 loss: 0.0382\n",
            "====> Test set loss: 9.8679\n",
            "====> Epoch: 448 loss: 0.0352\n",
            "====> Test set loss: 9.7430\n",
            "====> Epoch: 449 loss: 0.0363\n",
            "====> Test set loss: 9.9292\n",
            "====> Epoch: 450 loss: 0.0452\n",
            "====> Test set loss: 9.7145\n",
            "====> Epoch: 451 loss: 0.0461\n",
            "====> Test set loss: 9.9453\n",
            "====> Epoch: 452 loss: 0.0388\n",
            "====> Test set loss: 9.7993\n",
            "====> Epoch: 453 loss: 0.0337\n",
            "====> Test set loss: 9.9823\n",
            "====> Epoch: 454 loss: 0.0286\n",
            "====> Test set loss: 9.7689\n",
            "====> Epoch: 455 loss: 0.0272\n",
            "====> Test set loss: 9.8104\n",
            "====> Epoch: 456 loss: 0.0347\n",
            "====> Test set loss: 9.8564\n",
            "====> Epoch: 457 loss: 0.0404\n",
            "====> Test set loss: 9.8251\n",
            "====> Epoch: 458 loss: 0.0443\n",
            "====> Test set loss: 9.9379\n",
            "====> Epoch: 459 loss: 0.0426\n",
            "====> Test set loss: 9.7710\n",
            "====> Epoch: 460 loss: 0.0337\n",
            "====> Test set loss: 9.8657\n",
            "====> Epoch: 461 loss: 0.0304\n",
            "====> Test set loss: 9.9342\n",
            "====> Epoch: 462 loss: 0.0333\n",
            "====> Test set loss: 9.7767\n",
            "====> Epoch: 463 loss: 0.0345\n",
            "====> Test set loss: 9.9367\n",
            "====> Epoch: 464 loss: 0.0394\n",
            "====> Test set loss: 9.8866\n",
            "====> Epoch: 465 loss: 0.0436\n",
            "====> Test set loss: 9.9135\n",
            "====> Epoch: 466 loss: 0.0436\n",
            "====> Test set loss: 9.7393\n",
            "====> Epoch: 467 loss: 0.0374\n",
            "====> Test set loss: 9.8077\n",
            "====> Epoch: 468 loss: 0.0330\n",
            "====> Test set loss: 9.6786\n",
            "====> Epoch: 469 loss: 0.0297\n",
            "====> Test set loss: 9.9710\n",
            "====> Epoch: 470 loss: 0.0339\n",
            "====> Test set loss: 9.7005\n",
            "====> Epoch: 471 loss: 0.0359\n",
            "====> Test set loss: 9.8833\n",
            "====> Epoch: 472 loss: 0.0386\n",
            "====> Test set loss: 9.8250\n",
            "====> Epoch: 473 loss: 0.0357\n",
            "====> Test set loss: 9.7568\n",
            "====> Epoch: 474 loss: 0.0368\n",
            "====> Test set loss: 9.7497\n",
            "====> Epoch: 475 loss: 0.0358\n",
            "====> Test set loss: 9.8127\n",
            "====> Epoch: 476 loss: 0.0312\n",
            "====> Test set loss: 9.7713\n",
            "====> Epoch: 477 loss: 0.0304\n",
            "====> Test set loss: 9.8213\n",
            "====> Epoch: 478 loss: 0.0313\n",
            "====> Test set loss: 9.8159\n",
            "====> Epoch: 479 loss: 0.0329\n",
            "====> Test set loss: 9.8262\n",
            "====> Epoch: 480 loss: 0.0358\n",
            "====> Test set loss: 9.7968\n",
            "====> Epoch: 481 loss: 0.0379\n",
            "====> Test set loss: 9.7638\n",
            "====> Epoch: 482 loss: 0.0409\n",
            "====> Test set loss: 9.7774\n",
            "====> Epoch: 483 loss: 0.0365\n",
            "====> Test set loss: 9.9117\n",
            "====> Epoch: 484 loss: 0.0344\n",
            "====> Test set loss: 9.7602\n",
            "====> Epoch: 485 loss: 0.0326\n",
            "====> Test set loss: 9.9168\n",
            "====> Epoch: 486 loss: 0.0376\n",
            "====> Test set loss: 9.7770\n",
            "====> Epoch: 487 loss: 0.0395\n",
            "====> Test set loss: 9.8796\n",
            "====> Epoch: 488 loss: 0.0318\n",
            "====> Test set loss: 9.8673\n",
            "====> Epoch: 489 loss: 0.0265\n",
            "====> Test set loss: 9.8008\n",
            "====> Epoch: 490 loss: 0.0296\n",
            "====> Test set loss: 9.7902\n",
            "====> Epoch: 491 loss: 0.0376\n",
            "====> Test set loss: 9.8572\n",
            "====> Epoch: 492 loss: 0.0402\n",
            "====> Test set loss: 9.8515\n",
            "====> Epoch: 493 loss: 0.0393\n",
            "====> Test set loss: 9.7400\n",
            "====> Epoch: 494 loss: 0.0358\n",
            "====> Test set loss: 9.9370\n",
            "====> Epoch: 495 loss: 0.0295\n",
            "====> Test set loss: 9.8928\n",
            "====> Epoch: 496 loss: 0.0248\n",
            "====> Test set loss: 9.8250\n",
            "====> Epoch: 497 loss: 0.0284\n",
            "====> Test set loss: 9.7563\n",
            "====> Epoch: 498 loss: 0.0352\n",
            "====> Test set loss: 9.7889\n",
            "====> Epoch: 499 loss: 0.0419\n",
            "====> Test set loss: 9.9347\n",
            "====> Epoch: 500 loss: 0.0470\n",
            "====> Test set loss: 9.7036\n",
            "====> Test set loss: 9.7036\n"
          ],
          "name": "stdout"
        }
      ]
    },
    {
      "cell_type": "code",
      "metadata": {
        "id": "qCHhgcQWLHj4"
      },
      "source": [
        "y4 = y_pred"
      ],
      "execution_count": null,
      "outputs": []
    },
    {
      "cell_type": "code",
      "metadata": {
        "colab": {
          "base_uri": "https://localhost:8080/",
          "height": 366
        },
        "id": "0bmv6o9SLJyT",
        "outputId": "65395380-d47a-437e-e59b-4b080f6cff4f"
      },
      "source": [
        "import matplotlib.pyplot as plt\n",
        "\n",
        "plt.figure(figsize=(20,5))\n",
        "plt.title(\"Training and Validation Loss\")\n",
        "plt.plot(np.array(vloss), label=\"valid\")\n",
        "plt.plot(np.array(tloss), label=\"train\")\n",
        "plt.xlabel(\"Epochs\")\n",
        "plt.ylabel(\"Loss\")\n",
        "plt.legend()"
      ],
      "execution_count": null,
      "outputs": [
        {
          "output_type": "execute_result",
          "data": {
            "text/plain": [
              "<matplotlib.legend.Legend at 0x7f521763e650>"
            ]
          },
          "metadata": {},
          "execution_count": 77
        },
        {
          "output_type": "display_data",
          "data": {
            "image/png": "[encoded data removed]",
            "text/plain": [
              "<Figure size 1440x360 with 1 Axes>"
            ]
          },
          "metadata": {
            "needs_background": "light"
          }
        }
      ]
    },
    {
      "cell_type": "code",
      "metadata": {
        "colab": {
          "base_uri": "https://localhost:8080/"
        },
        "id": "rWhNPgubLKhg",
        "outputId": "a7a33e7a-4486-4a63-f3b7-03a3048164ea"
      },
      "source": [
        "# RMSE\n",
        "\n",
        "model.eval()\n",
        "test_loss = 0\n",
        "with torch.no_grad():\n",
        "    for x, y in test_loader:\n",
        "        x, y = x.cuda().float(), y.cuda()       \n",
        "        o = model(x)\n",
        "        loss = torch.sqrt(loss_function(o.squeeze(), y))\n",
        "        \n",
        "        test_loss += loss.item()\n",
        "print('====> Test set loss: {:.4f}'.format(test_loss / len(test_loader)))"
      ],
      "execution_count": null,
      "outputs": [
        {
          "output_type": "stream",
          "text": [
            "====> Test set loss: 3.1349\n"
          ],
          "name": "stdout"
        }
      ]
    },
    {
      "cell_type": "code",
      "metadata": {
        "id": "k9sN8aiPQnEJ"
      },
      "source": [
        "# R square\n",
        "o=model(x_val.cuda())\n",
        "r2(o.squeeze(), y_val.cuda())"
      ],
      "execution_count": null,
      "outputs": []
    },
    {
      "cell_type": "code",
      "metadata": {
        "id": "EKDQxV7ePjAC"
      },
      "source": [
        "#"
      ],
      "execution_count": null,
      "outputs": []
    },
    {
      "cell_type": "code",
      "metadata": {
        "colab": {
          "base_uri": "https://localhost:8080/"
        },
        "id": "VYR3QtqVLLUy",
        "outputId": "d068f433-074c-4434-c532-78774f5b4097"
      },
      "source": [
        "import torch\n",
        "import torch.nn as nn\n",
        "import torch.nn.functional as F\n",
        "\n",
        "\n",
        "class DNN(nn.Module):\n",
        "\n",
        "    def __init__(self):\n",
        "        super(DNN, self).__init__()\n",
        "\n",
        "        self.fc1 = nn.Linear(729, 128)\n",
        "        self.fc2 = nn.Linear(128, 1)\n",
        "        #nn.init.xavier_uniform_(self.fc1.weight)\n",
        "        #nn.init.xavier_uniform_(self.fc2.weight)\n",
        "        #nn.init.xavier_uniform_(self.fc3.weight)\n",
        "        #nn.init.xavier_uniform_(self.fc4.weight)\n",
        "        #nn.init.xavier_uniform_(self.fc5.weight)\n",
        "        #nn.init.xavier_uniform_(self.fc6.weight)\n",
        "        #nn.init.xavier_uniform_(self.fc7.weight)\n",
        "\n",
        "    def forward(self, x):\n",
        "        x = self.fc1(x.view(-1, 729))\n",
        "        x = F.relu(x)\n",
        "        x = self.fc2(x)\n",
        "        # x = F.leaky_relu(x)\n",
        "        # x = self.fc6(x)\n",
        "        # x = F.leaky_relu(x)\n",
        "        \n",
        "        return x\n",
        "\n",
        "\n",
        "def weights_init(m):\n",
        "    if isinstance(m, nn.Linear):\n",
        "        nn.init.xavier_normal_(m.weight.data, nn.init.calculate_gain('relu'))\n",
        "        #nn.init.xavier_uniform_(m.weight.data)\n",
        "        #nn.init.xavier_uniform_(m.bias.data)\n",
        "\n",
        "torch.manual_seed(42)\n",
        "model = DNN().cuda()\n",
        "model.apply(weights_init)\n",
        "print(model)"
      ],
      "execution_count": null,
      "outputs": [
        {
          "output_type": "stream",
          "text": [
            "DNN(\n",
            "  (fc1): Linear(in_features=729, out_features=128, bias=True)\n",
            "  (fc2): Linear(in_features=128, out_features=1, bias=True)\n",
            ")\n"
          ],
          "name": "stdout"
        }
      ]
    },
    {
      "cell_type": "code",
      "metadata": {
        "colab": {
          "base_uri": "https://localhost:8080/"
        },
        "id": "_zd4YGXLeR5o",
        "outputId": "6e7d16ba-ce1c-4a2d-b418-72a39e3754b7"
      },
      "source": [
        "# the number of trainable parameter\n",
        "sum(p.numel() for p in model.parameters() if p.requires_grad)"
      ],
      "execution_count": null,
      "outputs": [
        {
          "output_type": "execute_result",
          "data": {
            "text/plain": [
              "93569"
            ]
          },
          "metadata": {},
          "execution_count": 42
        }
      ]
    },
    {
      "cell_type": "code",
      "metadata": {
        "colab": {
          "base_uri": "https://localhost:8080/",
          "height": 377
        },
        "id": "raD3iaJPPn1K",
        "outputId": "0a71ede1-5d8b-4cab-88a3-e5fb7df69fe1"
      },
      "source": [
        "import torch.optim as optim\n",
        "optimizer = optim.Adam(model.parameters(), lr=1e-4)\n",
        "loss_function = nn.MSELoss()\n",
        "epochs = 500\n",
        "\n",
        "# for loss plot\n",
        "tloss = []\n",
        "vloss = []\n",
        "\n",
        "for e in range(1, epochs+1):\n",
        "    train(model, tloss, e)\n",
        "    test(model, vloss)\n",
        "\n",
        "y_pred = test_pred(model)"
      ],
      "execution_count": null,
      "outputs": [
        {
          "output_type": "error",
          "ename": "RuntimeError",
          "evalue": "ignored",
          "traceback": [
            "\u001b[0;31m---------------------------------------------------------------------------\u001b[0m",
            "\u001b[0;31mRuntimeError\u001b[0m                              Traceback (most recent call last)",
            "\u001b[0;32m<ipython-input-43-7152d1477002>\u001b[0m in \u001b[0;36m<module>\u001b[0;34m()\u001b[0m\n\u001b[1;32m      9\u001b[0m \u001b[0;34m\u001b[0m\u001b[0m\n\u001b[1;32m     10\u001b[0m \u001b[0;32mfor\u001b[0m \u001b[0me\u001b[0m \u001b[0;32min\u001b[0m \u001b[0mrange\u001b[0m\u001b[0;34m(\u001b[0m\u001b[0;36m1\u001b[0m\u001b[0;34m,\u001b[0m \u001b[0mepochs\u001b[0m\u001b[0;34m+\u001b[0m\u001b[0;36m1\u001b[0m\u001b[0;34m)\u001b[0m\u001b[0;34m:\u001b[0m\u001b[0;34m\u001b[0m\u001b[0;34m\u001b[0m\u001b[0m\n\u001b[0;32m---> 11\u001b[0;31m     \u001b[0mtrain\u001b[0m\u001b[0;34m(\u001b[0m\u001b[0mmodel\u001b[0m\u001b[0;34m,\u001b[0m \u001b[0mtloss\u001b[0m\u001b[0;34m,\u001b[0m \u001b[0me\u001b[0m\u001b[0;34m)\u001b[0m\u001b[0;34m\u001b[0m\u001b[0;34m\u001b[0m\u001b[0m\n\u001b[0m\u001b[1;32m     12\u001b[0m     \u001b[0mtest\u001b[0m\u001b[0;34m(\u001b[0m\u001b[0mmodel\u001b[0m\u001b[0;34m,\u001b[0m \u001b[0mvloss\u001b[0m\u001b[0;34m)\u001b[0m\u001b[0;34m\u001b[0m\u001b[0;34m\u001b[0m\u001b[0m\n\u001b[1;32m     13\u001b[0m \u001b[0;34m\u001b[0m\u001b[0m\n",
            "\u001b[0;32m<ipython-input-10-cea082b7058d>\u001b[0m in \u001b[0;36mtrain\u001b[0;34m(model, train_losses, epoch)\u001b[0m\n\u001b[1;32m      8\u001b[0m         \u001b[0mloss\u001b[0m \u001b[0;34m=\u001b[0m \u001b[0mloss_function\u001b[0m\u001b[0;34m(\u001b[0m\u001b[0mo\u001b[0m\u001b[0;34m.\u001b[0m\u001b[0msqueeze\u001b[0m\u001b[0;34m(\u001b[0m\u001b[0;34m)\u001b[0m\u001b[0;34m,\u001b[0m \u001b[0my\u001b[0m\u001b[0;34m)\u001b[0m\u001b[0;34m\u001b[0m\u001b[0;34m\u001b[0m\u001b[0m\n\u001b[1;32m      9\u001b[0m \u001b[0;34m\u001b[0m\u001b[0m\n\u001b[0;32m---> 10\u001b[0;31m         \u001b[0mloss\u001b[0m\u001b[0;34m.\u001b[0m\u001b[0mbackward\u001b[0m\u001b[0;34m(\u001b[0m\u001b[0;34m)\u001b[0m\u001b[0;34m\u001b[0m\u001b[0;34m\u001b[0m\u001b[0m\n\u001b[0m\u001b[1;32m     11\u001b[0m         \u001b[0moptimizer\u001b[0m\u001b[0;34m.\u001b[0m\u001b[0mstep\u001b[0m\u001b[0;34m(\u001b[0m\u001b[0;34m)\u001b[0m\u001b[0;34m\u001b[0m\u001b[0;34m\u001b[0m\u001b[0m\n\u001b[1;32m     12\u001b[0m \u001b[0;34m\u001b[0m\u001b[0m\n",
            "\u001b[0;32m/usr/local/lib/python3.7/dist-packages/torch/_tensor.py\u001b[0m in \u001b[0;36mbackward\u001b[0;34m(self, gradient, retain_graph, create_graph, inputs)\u001b[0m\n\u001b[1;32m    253\u001b[0m                 \u001b[0mcreate_graph\u001b[0m\u001b[0;34m=\u001b[0m\u001b[0mcreate_graph\u001b[0m\u001b[0;34m,\u001b[0m\u001b[0;34m\u001b[0m\u001b[0;34m\u001b[0m\u001b[0m\n\u001b[1;32m    254\u001b[0m                 inputs=inputs)\n\u001b[0;32m--> 255\u001b[0;31m         \u001b[0mtorch\u001b[0m\u001b[0;34m.\u001b[0m\u001b[0mautograd\u001b[0m\u001b[0;34m.\u001b[0m\u001b[0mbackward\u001b[0m\u001b[0;34m(\u001b[0m\u001b[0mself\u001b[0m\u001b[0;34m,\u001b[0m \u001b[0mgradient\u001b[0m\u001b[0;34m,\u001b[0m \u001b[0mretain_graph\u001b[0m\u001b[0;34m,\u001b[0m \u001b[0mcreate_graph\u001b[0m\u001b[0;34m,\u001b[0m \u001b[0minputs\u001b[0m\u001b[0;34m=\u001b[0m\u001b[0minputs\u001b[0m\u001b[0;34m)\u001b[0m\u001b[0;34m\u001b[0m\u001b[0;34m\u001b[0m\u001b[0m\n\u001b[0m\u001b[1;32m    256\u001b[0m \u001b[0;34m\u001b[0m\u001b[0m\n\u001b[1;32m    257\u001b[0m     \u001b[0;32mdef\u001b[0m \u001b[0mregister_hook\u001b[0m\u001b[0;34m(\u001b[0m\u001b[0mself\u001b[0m\u001b[0;34m,\u001b[0m \u001b[0mhook\u001b[0m\u001b[0;34m)\u001b[0m\u001b[0;34m:\u001b[0m\u001b[0;34m\u001b[0m\u001b[0;34m\u001b[0m\u001b[0m\n",
            "\u001b[0;32m/usr/local/lib/python3.7/dist-packages/torch/autograd/__init__.py\u001b[0m in \u001b[0;36mbackward\u001b[0;34m(tensors, grad_tensors, retain_graph, create_graph, grad_variables, inputs)\u001b[0m\n\u001b[1;32m    147\u001b[0m     Variable._execution_engine.run_backward(\n\u001b[1;32m    148\u001b[0m         \u001b[0mtensors\u001b[0m\u001b[0;34m,\u001b[0m \u001b[0mgrad_tensors_\u001b[0m\u001b[0;34m,\u001b[0m \u001b[0mretain_graph\u001b[0m\u001b[0;34m,\u001b[0m \u001b[0mcreate_graph\u001b[0m\u001b[0;34m,\u001b[0m \u001b[0minputs\u001b[0m\u001b[0;34m,\u001b[0m\u001b[0;34m\u001b[0m\u001b[0;34m\u001b[0m\u001b[0m\n\u001b[0;32m--> 149\u001b[0;31m         allow_unreachable=True, accumulate_grad=True)  # allow_unreachable flag\n\u001b[0m\u001b[1;32m    150\u001b[0m \u001b[0;34m\u001b[0m\u001b[0m\n\u001b[1;32m    151\u001b[0m \u001b[0;34m\u001b[0m\u001b[0m\n",
            "\u001b[0;31mRuntimeError\u001b[0m: element 0 of tensors does not require grad and does not have a grad_fn"
          ]
        }
      ]
    },
    {
      "cell_type": "code",
      "metadata": {
        "colab": {
          "base_uri": "https://localhost:8080/",
          "height": 158
        },
        "id": "n2_80ow2Pp-r",
        "outputId": "20d0ab70-bcf4-4859-b2a2-92953786396b"
      },
      "source": [
        "y5 = y_pred"
      ],
      "execution_count": null,
      "outputs": [
        {
          "output_type": "error",
          "ename": "NameError",
          "evalue": "ignored",
          "traceback": [
            "\u001b[0;31m---------------------------------------------------------------------------\u001b[0m",
            "\u001b[0;31mNameError\u001b[0m                                 Traceback (most recent call last)",
            "\u001b[0;32m<ipython-input-23-1df15f889851>\u001b[0m in \u001b[0;36m<module>\u001b[0;34m()\u001b[0m\n\u001b[0;32m----> 1\u001b[0;31m \u001b[0my5\u001b[0m \u001b[0;34m=\u001b[0m \u001b[0my_pred\u001b[0m\u001b[0;34m\u001b[0m\u001b[0;34m\u001b[0m\u001b[0m\n\u001b[0m",
            "\u001b[0;31mNameError\u001b[0m: name 'y_pred' is not defined"
          ]
        }
      ]
    },
    {
      "cell_type": "code",
      "metadata": {
        "colab": {
          "base_uri": "https://localhost:8080/",
          "height": 256
        },
        "id": "8mYAg-EQPrc_",
        "outputId": "0dd3492f-a483-434b-eabe-8e5b2cf656dc"
      },
      "source": [
        "import matplotlib.pyplot as plt\n",
        "\n",
        "plt.figure(figsize=(20,5))\n",
        "plt.title(\"Training and Validation Loss\")\n",
        "plt.plot(np.array(vloss), label=\"valid\")\n",
        "plt.plot(np.array(tloss), label=\"train\")\n",
        "plt.xlabel(\"Epochs\")\n",
        "plt.ylabel(\"Loss\")\n",
        "plt.legend()"
      ],
      "execution_count": null,
      "outputs": [
        {
          "output_type": "execute_result",
          "data": {
            "text/plain": [
              "<matplotlib.legend.Legend at 0x7fa4b13e5e90>"
            ]
          },
          "metadata": {},
          "execution_count": 24
        },
        {
          "output_type": "display_data",
          "data": {
            "image/png": "[encoded data removed]",
            "text/plain": [
              "<Figure size 1440x360 with 1 Axes>"
            ]
          },
          "metadata": {
            "needs_background": "light"
          }
        }
      ]
    },
    {
      "cell_type": "code",
      "metadata": {
        "colab": {
          "base_uri": "https://localhost:8080/"
        },
        "id": "xE3aIczLPsqC",
        "outputId": "da8d3785-cf01-4cb3-a653-60a707864a03"
      },
      "source": [
        "# RMSE\n",
        "\n",
        "model.eval()\n",
        "test_loss = 0\n",
        "with torch.no_grad():\n",
        "    for x, y in test_loader:\n",
        "        x, y = x.cuda().float(), y.cuda()       \n",
        "        o = model(x)\n",
        "        loss = torch.sqrt(loss_function(o.squeeze(), y))\n",
        "        \n",
        "        test_loss += loss.item()\n",
        "print('====> Test set loss: {:.4f}'.format(test_loss / len(test_loader)))"
      ],
      "execution_count": null,
      "outputs": [
        {
          "output_type": "stream",
          "text": [
            "====> Test set loss: 3.2243\n"
          ],
          "name": "stdout"
        }
      ]
    },
    {
      "cell_type": "code",
      "metadata": {
        "id": "lmmle83YPtXu"
      },
      "source": [
        "# R square\n",
        "o=model(x_val.cuda())\n",
        "r2(o.squeeze(), y_val.cuda())"
      ],
      "execution_count": null,
      "outputs": []
    },
    {
      "cell_type": "code",
      "metadata": {
        "id": "b8Cy98Z0Q0FL"
      },
      "source": [
        "import torch\n",
        "import torch.nn as nn\n",
        "import torch.nn.functional as F\n",
        "\n",
        "\n",
        "class DNN(nn.Module):\n",
        "\n",
        "    def __init__(self):\n",
        "        super(DNN, self).__init__()\n",
        "\n",
        "        self.fc1 = nn.Linear(729, 256)\n",
        "        self.fc2 = nn.Linear(256, 1)\n",
        "        #nn.init.xavier_uniform_(self.fc1.weight)\n",
        "        #nn.init.xavier_uniform_(self.fc2.weight)\n",
        "        #nn.init.xavier_uniform_(self.fc3.weight)\n",
        "        #nn.init.xavier_uniform_(self.fc4.weight)\n",
        "        #nn.init.xavier_uniform_(self.fc5.weight)\n",
        "        #nn.init.xavier_uniform_(self.fc6.weight)\n",
        "        #nn.init.xavier_uniform_(self.fc7.weight)\n",
        "\n",
        "    def forward(self, x):\n",
        "        x = self.fc1(x.view(-1, 729))\n",
        "        x = F.relu(x)\n",
        "        x = self.fc2(x)\n",
        "        # x = F.leaky_relu(x)\n",
        "        # x = self.fc6(x)\n",
        "        # x = F.leaky_relu(x)\n",
        "        \n",
        "        return x\n",
        "\n",
        "\n",
        "def weights_init(m):\n",
        "    if isinstance(m, nn.Linear):\n",
        "        nn.init.xavier_normal_(m.weight.data, nn.init.calculate_gain('relu'))\n",
        "        #nn.init.xavier_uniform_(m.weight.data)\n",
        "        #nn.init.xavier_uniform_(m.bias.data)\n",
        "\n",
        "torch.manual_seed(42)\n",
        "model = DNN().cuda()\n",
        "model.apply(weights_init)\n",
        "print(model)"
      ],
      "execution_count": null,
      "outputs": []
    },
    {
      "cell_type": "code",
      "metadata": {
        "id": "1JI9nSfvQ3At"
      },
      "source": [
        "# the number of trainable parameter\n",
        "sum(p.numel() for p in model.parameters() if p.requires_grad)"
      ],
      "execution_count": null,
      "outputs": []
    },
    {
      "cell_type": "code",
      "metadata": {
        "id": "waOtjVGCQ4Pm"
      },
      "source": [
        "import torch.optim as optim\n",
        "optimizer = optim.Adam(model.parameters(), lr=1e-4)\n",
        "loss_function = nn.MSELoss()\n",
        "epochs = 500\n",
        "\n",
        "# for loss plot\n",
        "tloss = []\n",
        "vloss = []\n",
        "\n",
        "for e in range(1, epochs+1):\n",
        "    train(model, tloss, e)\n",
        "    test(model, vloss)\n",
        "\n",
        "y_pred = test_pred(model)"
      ],
      "execution_count": null,
      "outputs": []
    },
    {
      "cell_type": "code",
      "metadata": {
        "id": "OYoqclW8Q5i0"
      },
      "source": [
        "y6 = y_pred"
      ],
      "execution_count": null,
      "outputs": []
    },
    {
      "cell_type": "code",
      "metadata": {
        "id": "W7p5xxLYQ7Uv"
      },
      "source": [
        "import matplotlib.pyplot as plt\n",
        "\n",
        "plt.figure(figsize=(20,5))\n",
        "plt.title(\"Training and Validation Loss\")\n",
        "plt.plot(np.array(vloss), label=\"valid\")\n",
        "plt.plot(np.array(tloss), label=\"train\")\n",
        "plt.xlabel(\"Epochs\")\n",
        "plt.ylabel(\"Loss\")\n",
        "plt.legend()"
      ],
      "execution_count": null,
      "outputs": []
    },
    {
      "cell_type": "code",
      "metadata": {
        "id": "m4Fk0AcwQ8dq"
      },
      "source": [
        "# RMSE\n",
        "\n",
        "model.eval()\n",
        "test_loss = 0\n",
        "with torch.no_grad():\n",
        "    for x, y in test_loader:\n",
        "        x, y = x.cuda().float(), y.cuda()       \n",
        "        o = model(x)\n",
        "        loss = torch.sqrt(loss_function(o.squeeze(), y))\n",
        "        \n",
        "        test_loss += loss.item()\n",
        "print('====> Test set loss: {:.4f}'.format(test_loss / len(test_loader)))"
      ],
      "execution_count": null,
      "outputs": []
    },
    {
      "cell_type": "code",
      "metadata": {
        "id": "z5wizxreQwJZ"
      },
      "source": [
        "# R square\n",
        "o=model(x_val.cuda())\n",
        "r2(o.squeeze(), y_val.cuda())"
      ],
      "execution_count": null,
      "outputs": []
    },
    {
      "cell_type": "code",
      "metadata": {
        "id": "qKe6PkjOQ9DM"
      },
      "source": [
        ""
      ],
      "execution_count": null,
      "outputs": []
    }
  ]
}