{
  "nbformat": 4,
  "nbformat_minor": 0,
  "metadata": {
    "colab": {
      "name": "brainnet-adj.ipynb",
      "provenance": [],
      "authorship_tag": "ABX9TyN6vpTxCeJhSLQQiQoYe1he",
      "include_colab_link": true
    },
    "kernelspec": {
      "name": "python3",
      "display_name": "Python 3"
    },
    "language_info": {
      "name": "python"
    },
    "accelerator": "GPU"
  },
  "cells": [
    {
      "cell_type": "markdown",
      "metadata": {
        "id": "view-in-github",
        "colab_type": "text"
      },
      "source": [
        "<a href=\"https://colab.research.google.com/github/taechanha/inverseDesignMetaMatl/blob/main/brainnet_adj.ipynb\" target=\"_parent\"><img src=\"https://colab.research.google.com/assets/colab-badge.svg\" alt=\"Open In Colab\"/></a>"
      ]
    },
    {
      "cell_type": "code",
      "metadata": {
        "colab": {
          "base_uri": "https://localhost:8080/"
        },
        "id": "reL3tbAh5_tv",
        "outputId": "18b27aac-fc03-4394-c31a-b19260cb0cd6"
      },
      "source": [
        "###################### FROM HERE ######################\n",
        "###################### FROM HERE ######################\n",
        "###################### FROM HERE ######################\n",
        "###################### FROM HERE ######################\n",
        "###################### FROM HERE ######################\n",
        "###################### FROM HERE ######################\n",
        "###################### FROM HERE ######################\n",
        "###################### FROM HERE ######################\n",
        "\n",
        "import numpy as np\n",
        "import matplotlib.pyplot as plt\n",
        "\n",
        "f = open(\"/content/dataset_2.txt\", 'r')\n",
        "data = []\n",
        "length = 0\n",
        "for i in f:\n",
        "  new = []\n",
        "  new.append(i)\n",
        "  data.append(new)\n",
        "\n",
        "  # length of dataset\n",
        "  length += 1\n",
        "\n",
        "f.close()\n",
        "\n",
        "# create dataset from data\n",
        "dataset = []\n",
        "for i in range(length):\n",
        "  new = []\n",
        "  for j in data[i][0].split(','):\n",
        "    new.append(float(j))\n",
        "  dataset.append(new)\n",
        "\n",
        "\n",
        "# trim out label from dataset\n",
        "# Ex Ey Ez\n",
        "label = []\n",
        "new = []\n",
        "for line in dataset:\n",
        "  tmp = []\n",
        "  tmp.append(line.pop(-1))\n",
        "  tmp.append(line.pop(-1))\n",
        "  tmp.append(line.pop(-1))\n",
        "  tmp.reverse()\n",
        "  label.append(tmp)\n",
        "\n",
        "print(\"label.shape: \", np.array(label).shape)\n",
        "\n",
        "\n",
        "# create edge_index\n",
        "edge_mat = np.zeros(shape=(27,27))\n",
        "edge_index = []\n",
        "\n",
        "for e in range(len(dataset)):\n",
        "  for i in range(0, 27):\n",
        "    for j in range(i+1, 27):\n",
        "      edge_mat[i][j] = dataset[e].pop(0)\n",
        "  edge_index.append(edge_mat + edge_mat.T)\n",
        "\n",
        "\n",
        "# whole dataset to Tensor & train/test split\n",
        "import os\n",
        "import torch\n",
        "from torch.utils.data import Dataset\n",
        "from torchvision import datasets\n",
        "from torchvision.transforms import ToTensor\n",
        "import matplotlib.pyplot as plt\n",
        "\n",
        "edge_index = torch.FloatTensor(edge_index)\n",
        "label = torch.FloatTensor(label)\n",
        "\n",
        "split = int(length * 0.8)\n",
        "\n",
        "x_train = edge_index[:split]\n",
        "y_train = label[:split]\n",
        "x_val = edge_index[split:]\n",
        "y_val = label[split:]\n",
        "\n",
        "print(\"x_train, y_train, x_val shape: \", x_train.shape, y_train.shape, x_val.shape)\n",
        "\n",
        "# create torch dataset\n",
        "\n",
        "class CustomDataset(Dataset):\n",
        "    def __init__(self, label, dataset, transform=None, target_transform=None):\n",
        "        self.labels = label\n",
        "        self.dataset = dataset\n",
        "        self.transform = transform\n",
        "        self.target_transform = target_transform\n",
        "\n",
        "    def __len__(self):\n",
        "        return len(self.labels)\n",
        "\n",
        "    def __getitem__(self, idx):\n",
        "        data = self.dataset[idx]\n",
        "        label = self.labels[idx]\n",
        "        if self.transform:\n",
        "            data = self.transform(data)\n",
        "        if self.target_transform:\n",
        "            label = self.target_transform(label)\n",
        "        return data, label\n",
        "\n",
        "# create DataLoader\n",
        "from torch.utils.data import DataLoader\n",
        "\n",
        "training_data   = CustomDataset(label=y_train, dataset=x_train)\n",
        "test_data       = CustomDataset(label=y_val, dataset=x_val)\n",
        "train_loader    = DataLoader(training_data, batch_size=4, shuffle=True)\n",
        "test_loader     = DataLoader(test_data, batch_size=4, shuffle=False)"
      ],
      "execution_count": 1,
      "outputs": [
        {
          "output_type": "stream",
          "text": [
            "label.shape:  (2000, 3)\n",
            "x_train, y_train, x_val shape:  torch.Size([1600, 27, 27]) torch.Size([1600, 3]) torch.Size([400, 27, 27])\n"
          ],
          "name": "stdout"
        }
      ]
    },
    {
      "cell_type": "code",
      "metadata": {
        "colab": {
          "base_uri": "https://localhost:8080/"
        },
        "id": "yoZ3VUQU9D0e",
        "outputId": "73ae2cc8-2a21-477e-c43d-46e121716e13"
      },
      "source": [
        "x_train = edge_index[:split]\n",
        "y_train = label[:split][:, 0]\n",
        "x_val = edge_index[split:]\n",
        "y_val = label[split:][:, 0]\n",
        "\n",
        "print(\"x_train, y_train, x_val shape: \", x_train.shape, y_train.shape, x_val.shape)\n",
        "\n",
        "# create torch dataset\n",
        "import os\n",
        "import torch\n",
        "from torch.utils.data import Dataset\n",
        "from torchvision import datasets\n",
        "from torchvision.transforms import ToTensor\n",
        "import matplotlib.pyplot as plt\n",
        "\n",
        "class CustomDataset(Dataset):\n",
        "    def __init__(self, label, dataset, transform=None, target_transform=None):\n",
        "        self.labels = label\n",
        "        self.dataset = dataset\n",
        "        self.transform = transform\n",
        "        self.target_transform = target_transform\n",
        "\n",
        "    def __len__(self):\n",
        "        return len(self.labels)\n",
        "\n",
        "    def __getitem__(self, idx):\n",
        "        data = self.dataset[idx]\n",
        "        label = self.labels[idx]\n",
        "        if self.transform:\n",
        "            data = self.transform(data)\n",
        "        if self.target_transform:\n",
        "            label = self.target_transform(label)\n",
        "        return data, label\n",
        "\n",
        "# create DataLoader\n",
        "from torch.utils.data import DataLoader\n",
        "\n",
        "training_data   = CustomDataset(label=y_train, dataset=x_train)\n",
        "test_data       = CustomDataset(label=y_val, dataset=x_val)\n",
        "train_loader    = DataLoader(training_data, batch_size=4, shuffle=True)\n",
        "test_loader     = DataLoader(test_data, batch_size=4, shuffle=False)"
      ],
      "execution_count": 2,
      "outputs": [
        {
          "output_type": "stream",
          "text": [
            "x_train, y_train, x_val shape:  torch.Size([1600, 27, 27]) torch.Size([1600]) torch.Size([400, 27, 27])\n"
          ],
          "name": "stdout"
        }
      ]
    },
    {
      "cell_type": "code",
      "metadata": {
        "id": "VZZKtXRX9JNA"
      },
      "source": [
        "def r2(output, target):\n",
        "    target_mean = torch.mean(target)\n",
        "    ss_tot = torch.sum((target - target_mean) ** 2)\n",
        "    ss_res = torch.sum((target - output) ** 2)\n",
        "    r2 = 1 - ss_res / ss_tot\n",
        "    return r2"
      ],
      "execution_count": 3,
      "outputs": []
    },
    {
      "cell_type": "code",
      "metadata": {
        "id": "aN_HFkKg7lFD"
      },
      "source": [
        "import torch.nn.functional as F\n",
        "import torch.nn as nn\n",
        "from torch.autograd import Variable\n",
        "import torch.backends.cudnn as cudnn"
      ],
      "execution_count": 4,
      "outputs": []
    },
    {
      "cell_type": "code",
      "metadata": {
        "colab": {
          "base_uri": "https://localhost:8080/",
          "height": 175
        },
        "id": "_cJsDYd97e1Z",
        "outputId": "e2e5b94d-8fd5-4a3c-bb88-091247114978"
      },
      "source": [
        "# the number of trainable parameter\n",
        "sum(p.numel() for p in model.parameters() if p.requires_grad)"
      ],
      "execution_count": 5,
      "outputs": [
        {
          "output_type": "error",
          "ename": "NameError",
          "evalue": "ignored",
          "traceback": [
            "\u001b[0;31m---------------------------------------------------------------------------\u001b[0m",
            "\u001b[0;31mNameError\u001b[0m                                 Traceback (most recent call last)",
            "\u001b[0;32m<ipython-input-5-f86e4ac19a7c>\u001b[0m in \u001b[0;36m<module>\u001b[0;34m()\u001b[0m\n\u001b[1;32m      1\u001b[0m \u001b[0;31m# the number of trainable parameter\u001b[0m\u001b[0;34m\u001b[0m\u001b[0;34m\u001b[0m\u001b[0;34m\u001b[0m\u001b[0m\n\u001b[0;32m----> 2\u001b[0;31m \u001b[0msum\u001b[0m\u001b[0;34m(\u001b[0m\u001b[0mp\u001b[0m\u001b[0;34m.\u001b[0m\u001b[0mnumel\u001b[0m\u001b[0;34m(\u001b[0m\u001b[0;34m)\u001b[0m \u001b[0;32mfor\u001b[0m \u001b[0mp\u001b[0m \u001b[0;32min\u001b[0m \u001b[0mmodel\u001b[0m\u001b[0;34m.\u001b[0m\u001b[0mparameters\u001b[0m\u001b[0;34m(\u001b[0m\u001b[0;34m)\u001b[0m \u001b[0;32mif\u001b[0m \u001b[0mp\u001b[0m\u001b[0;34m.\u001b[0m\u001b[0mrequires_grad\u001b[0m\u001b[0;34m)\u001b[0m\u001b[0;34m\u001b[0m\u001b[0;34m\u001b[0m\u001b[0m\n\u001b[0m",
            "\u001b[0;31mNameError\u001b[0m: name 'model' is not defined"
          ]
        }
      ]
    },
    {
      "cell_type": "code",
      "metadata": {
        "id": "Jj8IgfNz9AZs"
      },
      "source": [
        "def train(model, train_losses, epoch):\n",
        "    model.train()\n",
        "    train_loss = 0\n",
        "    for x, y in train_loader:\n",
        "        x, y = x.cuda().float(), y.cuda()\n",
        "        optimizer.zero_grad()\n",
        "        o = model(x)\n",
        "        \n",
        "        loss = loss_function(o.squeeze(), y)\n",
        "        \n",
        "        loss.backward()\n",
        "        optimizer.step()\n",
        "\n",
        "        train_loss += loss.item()\n",
        "    print('====> Epoch: {} loss: {:.4f}'.format(e, train_loss / len(train_loader)))\n",
        "    train_losses.append(train_loss / len(train_loader))\n",
        "\n",
        "def test(model, val_losses):\n",
        "    model.eval()\n",
        "    test_loss = 0\n",
        "    with torch.no_grad():\n",
        "        for x, y in test_loader:\n",
        "            x, y = x.cuda().float(), y.cuda()       \n",
        "            o = model(x)\n",
        "            loss = loss_function(o.squeeze(), y)\n",
        "            \n",
        "            test_loss += loss.item()\n",
        "    print('====> Test set loss: {:.4f}'.format(test_loss / len(test_loader)))\n",
        "    val_losses.append(test_loss / len(test_loader))\n",
        "\n",
        "def test_pred(model):\n",
        "    y_pred = []\n",
        "    model.eval()\n",
        "    test_loss = 0\n",
        "    with torch.no_grad():\n",
        "        for x, y in test_loader:\n",
        "            x, y = x.cuda().float(), y.cuda()       \n",
        "            o = model(x)\n",
        "            y_pred.append(o)\n",
        "\n",
        "            loss = loss_function(o.squeeze(), y)\n",
        "            test_loss += loss.item()\n",
        "    print('====> Test set loss: {:.4f}'.format(test_loss / len(test_loader)))\n",
        "\n",
        "    return y_pred"
      ],
      "execution_count": 6,
      "outputs": []
    },
    {
      "cell_type": "code",
      "metadata": {
        "colab": {
          "base_uri": "https://localhost:8080/"
        },
        "id": "Wt128s485-OM",
        "outputId": "2e2df596-9c93-4acf-c010-68a933108b6c"
      },
      "source": [
        "class E2EBlock(torch.nn.Module):\n",
        "    def __init__(self, in_dim, out_dim, bias=False):\n",
        "        super(E2EBlock, self).__init__()\n",
        "        self.cnn1 = torch.nn.Conv2d(in_dim, out_dim, (1, 27), bias=bias)\n",
        "        self.cnn2 = torch.nn.Conv2d(in_dim, out_dim, (27, 1), bias=bias)\n",
        "\n",
        "        #nn.init.xavier_uniform_(self.cnn2.weight)\n",
        "\n",
        "    def forward(self, x):\n",
        "        a = self.cnn1(x)\n",
        "        b = self.cnn2(x)\n",
        "\n",
        "        return torch.cat([a]*27, 3) + torch.cat([b]*27, 2)\n",
        "\n",
        "class BrainNetCNN(torch.nn.Module):\n",
        "    def __init__(self):\n",
        "        super(BrainNetCNN, self).__init__()\n",
        "        \n",
        "        self.e2econv1 = E2EBlock(1, 8, bias=True)\n",
        "        #self.conv5_bn = nn.BatchNorm2d(256)\n",
        "\n",
        "        self.E2N = torch.nn.Conv2d(8, 1, (1, 27))\n",
        "        self.N2G = torch.nn.Conv2d(1, 32, (27, 1))\n",
        "\n",
        "        self.fc1 = torch.nn.Linear(32, 16)\n",
        "        self.fc2 = torch.nn.Linear(16, 1)\n",
        "        #self.dense5 = torch.nn.Linear(16, 3)\n",
        "\n",
        "    def forward(self, x):\n",
        "        x = x.unsqueeze(1)\n",
        "        x = F.relu(self.e2econv1(x))\n",
        "        #out = self.conv5_bn(out)\n",
        "        #out = F.max_pool2d(out, 2)  # 적용한 마지막 output kernel size, kernel 영향 + 풀링 영향으로 줄어든 사이즈\n",
        "\n",
        "        x = F.relu(self.E2N(x))\n",
        "        x = F.relu(self.N2G(x))\n",
        "\n",
        "        x = x.view(x.size(0), -1)\n",
        "        x = F.relu(self.fc1(x))\n",
        "        x = self.fc2(x)\n",
        "        \n",
        "        #x = self.dense4_bn(x)\n",
        "\n",
        "        return x\n",
        "\n",
        "def weights_init(m):\n",
        "    #if isinstance(m, nn.Conv2d):\n",
        "    #    nn.init.xavier_normal_(m.weight.data, nn.init.calculate_gain('relu'))\n",
        "    if isinstance(m, nn.Linear):\n",
        "        nn.init.xavier_normal_(m.weight.data, nn.init.calculate_gain('relu'))\n",
        "        #m.bias.data[0] = 9.0844\n",
        "        \n",
        "        #if m.bias is not None:\n",
        "        #  nn.init.constant_(m.bias.data, 10)\n",
        "        #nn.init.xavier_normal_(m.bias.data)\n",
        "\n",
        "torch.manual_seed(42)\n",
        "model = BrainNetCNN().cuda()\n",
        "model.apply(weights_init)\n",
        "print(model)"
      ],
      "execution_count": 7,
      "outputs": [
        {
          "output_type": "stream",
          "text": [
            "BrainNetCNN(\n",
            "  (e2econv1): E2EBlock(\n",
            "    (cnn1): Conv2d(1, 8, kernel_size=(1, 27), stride=(1, 1))\n",
            "    (cnn2): Conv2d(1, 8, kernel_size=(27, 1), stride=(1, 1))\n",
            "  )\n",
            "  (E2N): Conv2d(8, 1, kernel_size=(1, 27), stride=(1, 1))\n",
            "  (N2G): Conv2d(1, 32, kernel_size=(27, 1), stride=(1, 1))\n",
            "  (fc1): Linear(in_features=32, out_features=16, bias=True)\n",
            "  (fc2): Linear(in_features=16, out_features=1, bias=True)\n",
            ")\n"
          ],
          "name": "stdout"
        }
      ]
    },
    {
      "cell_type": "code",
      "metadata": {
        "colab": {
          "base_uri": "https://localhost:8080/",
          "height": 1000
        },
        "id": "L5G0gDTg7u6q",
        "outputId": "3263db32-d922-45dd-8e2f-a44f8a3965a1"
      },
      "source": [
        "import torch.optim as optim\n",
        "optimizer = optim.Adam(model.parameters(), lr=1e-4)#5e-6\n",
        "loss_function = nn.MSELoss()\n",
        "epochs = 100\n",
        "\n",
        "# for loss plot\n",
        "tloss = []\n",
        "vloss = []\n",
        "\n",
        "for e in range(1, epochs+1):\n",
        "    train(model, tloss, e)\n",
        "    test(model, vloss)\n",
        "\n",
        "y_pred = test_pred(model)"
      ],
      "execution_count": 8,
      "outputs": [
        {
          "output_type": "stream",
          "text": [
            "====> Epoch: 1 loss: 95.5758\n",
            "====> Test set loss: 34.7213\n",
            "====> Epoch: 2 loss: 33.3929\n",
            "====> Test set loss: 29.9060\n",
            "====> Epoch: 3 loss: 31.7342\n",
            "====> Test set loss: 28.8221\n",
            "====> Epoch: 4 loss: 30.4074\n",
            "====> Test set loss: 27.9616\n",
            "====> Epoch: 5 loss: 29.2771\n",
            "====> Test set loss: 26.8976\n",
            "====> Epoch: 6 loss: 27.9491\n",
            "====> Test set loss: 26.0045\n",
            "====> Epoch: 7 loss: 26.5714\n",
            "====> Test set loss: 24.8799\n",
            "====> Epoch: 8 loss: 25.2139\n",
            "====> Test set loss: 23.7241\n",
            "====> Epoch: 9 loss: 23.9510\n",
            "====> Test set loss: 22.5517\n",
            "====> Epoch: 10 loss: 22.5146\n",
            "====> Test set loss: 21.6697\n",
            "====> Epoch: 11 loss: 21.2679\n",
            "====> Test set loss: 20.3339\n",
            "====> Epoch: 12 loss: 19.9937\n",
            "====> Test set loss: 19.2776\n",
            "====> Epoch: 13 loss: 18.6997\n",
            "====> Test set loss: 18.5564\n",
            "====> Epoch: 14 loss: 17.5193\n",
            "====> Test set loss: 17.3858\n",
            "====> Epoch: 15 loss: 16.4518\n",
            "====> Test set loss: 16.5060\n",
            "====> Epoch: 16 loss: 15.4190\n",
            "====> Test set loss: 15.6349\n",
            "====> Epoch: 17 loss: 14.4451\n",
            "====> Test set loss: 14.8079\n",
            "====> Epoch: 18 loss: 13.5122\n",
            "====> Test set loss: 13.9463\n",
            "====> Epoch: 19 loss: 12.5314\n",
            "====> Test set loss: 13.0701\n",
            "====> Epoch: 20 loss: 11.5805\n",
            "====> Test set loss: 12.3324\n",
            "====> Epoch: 21 loss: 10.6807\n",
            "====> Test set loss: 11.3610\n",
            "====> Epoch: 22 loss: 9.8155\n",
            "====> Test set loss: 10.5289\n",
            "====> Epoch: 23 loss: 9.0440\n",
            "====> Test set loss: 9.8885\n",
            "====> Epoch: 24 loss: 8.3643\n",
            "====> Test set loss: 9.3066\n",
            "====> Epoch: 25 loss: 7.7895\n",
            "====> Test set loss: 8.7810\n",
            "====> Epoch: 26 loss: 7.3849\n",
            "====> Test set loss: 8.4510\n",
            "====> Epoch: 27 loss: 7.0671\n",
            "====> Test set loss: 8.2155\n",
            "====> Epoch: 28 loss: 6.8133\n",
            "====> Test set loss: 8.0905\n",
            "====> Epoch: 29 loss: 6.5569\n",
            "====> Test set loss: 7.8960\n",
            "====> Epoch: 30 loss: 6.4430\n",
            "====> Test set loss: 7.9081\n",
            "====> Epoch: 31 loss: 6.2749\n",
            "====> Test set loss: 7.7489\n",
            "====> Epoch: 32 loss: 6.2003\n",
            "====> Test set loss: 7.6470\n",
            "====> Epoch: 33 loss: 6.0588\n",
            "====> Test set loss: 7.5967\n",
            "====> Epoch: 34 loss: 5.9553\n",
            "====> Test set loss: 7.6430\n",
            "====> Epoch: 35 loss: 5.9431\n",
            "====> Test set loss: 7.5619\n",
            "====> Epoch: 36 loss: 5.8545\n",
            "====> Test set loss: 7.7719\n",
            "====> Epoch: 37 loss: 5.8110\n",
            "====> Test set loss: 7.6237\n",
            "====> Epoch: 38 loss: 5.7351\n",
            "====> Test set loss: 7.5111\n",
            "====> Epoch: 39 loss: 5.6839\n",
            "====> Test set loss: 7.4531\n",
            "====> Epoch: 40 loss: 5.6274\n",
            "====> Test set loss: 7.4256\n",
            "====> Epoch: 41 loss: 5.5506\n",
            "====> Test set loss: 7.4480\n",
            "====> Epoch: 42 loss: 5.5081\n",
            "====> Test set loss: 7.7867\n",
            "====> Epoch: 43 loss: 5.4512\n",
            "====> Test set loss: 7.4088\n",
            "====> Epoch: 44 loss: 5.4161\n",
            "====> Test set loss: 7.5667\n",
            "====> Epoch: 45 loss: 5.3914\n",
            "====> Test set loss: 7.4981\n",
            "====> Epoch: 46 loss: 5.3221\n",
            "====> Test set loss: 7.4367\n",
            "====> Epoch: 47 loss: 5.2797\n",
            "====> Test set loss: 7.4903\n",
            "====> Epoch: 48 loss: 5.2786\n",
            "====> Test set loss: 7.3948\n",
            "====> Epoch: 49 loss: 5.1428\n",
            "====> Test set loss: 7.4414\n",
            "====> Epoch: 50 loss: 5.1460\n",
            "====> Test set loss: 7.4855\n",
            "====> Epoch: 51 loss: 5.1211\n",
            "====> Test set loss: 7.3859\n",
            "====> Epoch: 52 loss: 5.1016\n",
            "====> Test set loss: 7.5442\n",
            "====> Epoch: 53 loss: 5.0565\n",
            "====> Test set loss: 7.4065\n",
            "====> Epoch: 54 loss: 4.9757\n",
            "====> Test set loss: 7.3446\n",
            "====> Epoch: 55 loss: 4.9765\n",
            "====> Test set loss: 7.5030\n",
            "====> Epoch: 56 loss: 4.9080\n",
            "====> Test set loss: 7.4030\n",
            "====> Epoch: 57 loss: 4.9165\n",
            "====> Test set loss: 7.5656\n",
            "====> Epoch: 58 loss: 4.8253\n",
            "====> Test set loss: 7.5163\n",
            "====> Epoch: 59 loss: 4.8259\n",
            "====> Test set loss: 7.4362\n"
          ],
          "name": "stdout"
        },
        {
          "output_type": "error",
          "ename": "KeyboardInterrupt",
          "evalue": "ignored",
          "traceback": [
            "\u001b[0;31m---------------------------------------------------------------------------\u001b[0m",
            "\u001b[0;31mKeyboardInterrupt\u001b[0m                         Traceback (most recent call last)",
            "\u001b[0;32m<ipython-input-8-37de250ed01e>\u001b[0m in \u001b[0;36m<module>\u001b[0;34m()\u001b[0m\n\u001b[1;32m      9\u001b[0m \u001b[0;34m\u001b[0m\u001b[0m\n\u001b[1;32m     10\u001b[0m \u001b[0;32mfor\u001b[0m \u001b[0me\u001b[0m \u001b[0;32min\u001b[0m \u001b[0mrange\u001b[0m\u001b[0;34m(\u001b[0m\u001b[0;36m1\u001b[0m\u001b[0;34m,\u001b[0m \u001b[0mepochs\u001b[0m\u001b[0;34m+\u001b[0m\u001b[0;36m1\u001b[0m\u001b[0;34m)\u001b[0m\u001b[0;34m:\u001b[0m\u001b[0;34m\u001b[0m\u001b[0;34m\u001b[0m\u001b[0m\n\u001b[0;32m---> 11\u001b[0;31m     \u001b[0mtrain\u001b[0m\u001b[0;34m(\u001b[0m\u001b[0mmodel\u001b[0m\u001b[0;34m,\u001b[0m \u001b[0mtloss\u001b[0m\u001b[0;34m,\u001b[0m \u001b[0me\u001b[0m\u001b[0;34m)\u001b[0m\u001b[0;34m\u001b[0m\u001b[0;34m\u001b[0m\u001b[0m\n\u001b[0m\u001b[1;32m     12\u001b[0m     \u001b[0mtest\u001b[0m\u001b[0;34m(\u001b[0m\u001b[0mmodel\u001b[0m\u001b[0;34m,\u001b[0m \u001b[0mvloss\u001b[0m\u001b[0;34m)\u001b[0m\u001b[0;34m\u001b[0m\u001b[0;34m\u001b[0m\u001b[0m\n\u001b[1;32m     13\u001b[0m \u001b[0;34m\u001b[0m\u001b[0m\n",
            "\u001b[0;32m<ipython-input-6-4d8fc122b580>\u001b[0m in \u001b[0;36mtrain\u001b[0;34m(model, train_losses, epoch)\u001b[0m\n\u001b[1;32m      5\u001b[0m         \u001b[0mx\u001b[0m\u001b[0;34m,\u001b[0m \u001b[0my\u001b[0m \u001b[0;34m=\u001b[0m \u001b[0mx\u001b[0m\u001b[0;34m.\u001b[0m\u001b[0mcuda\u001b[0m\u001b[0;34m(\u001b[0m\u001b[0;34m)\u001b[0m\u001b[0;34m.\u001b[0m\u001b[0mfloat\u001b[0m\u001b[0;34m(\u001b[0m\u001b[0;34m)\u001b[0m\u001b[0;34m,\u001b[0m \u001b[0my\u001b[0m\u001b[0;34m.\u001b[0m\u001b[0mcuda\u001b[0m\u001b[0;34m(\u001b[0m\u001b[0;34m)\u001b[0m\u001b[0;34m\u001b[0m\u001b[0;34m\u001b[0m\u001b[0m\n\u001b[1;32m      6\u001b[0m         \u001b[0moptimizer\u001b[0m\u001b[0;34m.\u001b[0m\u001b[0mzero_grad\u001b[0m\u001b[0;34m(\u001b[0m\u001b[0;34m)\u001b[0m\u001b[0;34m\u001b[0m\u001b[0;34m\u001b[0m\u001b[0m\n\u001b[0;32m----> 7\u001b[0;31m         \u001b[0mo\u001b[0m \u001b[0;34m=\u001b[0m \u001b[0mmodel\u001b[0m\u001b[0;34m(\u001b[0m\u001b[0mx\u001b[0m\u001b[0;34m)\u001b[0m\u001b[0;34m\u001b[0m\u001b[0;34m\u001b[0m\u001b[0m\n\u001b[0m\u001b[1;32m      8\u001b[0m \u001b[0;34m\u001b[0m\u001b[0m\n\u001b[1;32m      9\u001b[0m         \u001b[0mloss\u001b[0m \u001b[0;34m=\u001b[0m \u001b[0mloss_function\u001b[0m\u001b[0;34m(\u001b[0m\u001b[0mo\u001b[0m\u001b[0;34m.\u001b[0m\u001b[0msqueeze\u001b[0m\u001b[0;34m(\u001b[0m\u001b[0;34m)\u001b[0m\u001b[0;34m,\u001b[0m \u001b[0my\u001b[0m\u001b[0;34m)\u001b[0m\u001b[0;34m\u001b[0m\u001b[0;34m\u001b[0m\u001b[0m\n",
            "\u001b[0;32m/usr/local/lib/python3.7/dist-packages/torch/nn/modules/module.py\u001b[0m in \u001b[0;36m_call_impl\u001b[0;34m(self, *input, **kwargs)\u001b[0m\n\u001b[1;32m   1049\u001b[0m         if not (self._backward_hooks or self._forward_hooks or self._forward_pre_hooks or _global_backward_hooks\n\u001b[1;32m   1050\u001b[0m                 or _global_forward_hooks or _global_forward_pre_hooks):\n\u001b[0;32m-> 1051\u001b[0;31m             \u001b[0;32mreturn\u001b[0m \u001b[0mforward_call\u001b[0m\u001b[0;34m(\u001b[0m\u001b[0;34m*\u001b[0m\u001b[0minput\u001b[0m\u001b[0;34m,\u001b[0m \u001b[0;34m**\u001b[0m\u001b[0mkwargs\u001b[0m\u001b[0;34m)\u001b[0m\u001b[0;34m\u001b[0m\u001b[0;34m\u001b[0m\u001b[0m\n\u001b[0m\u001b[1;32m   1052\u001b[0m         \u001b[0;31m# Do not call functions when jit is used\u001b[0m\u001b[0;34m\u001b[0m\u001b[0;34m\u001b[0m\u001b[0;34m\u001b[0m\u001b[0m\n\u001b[1;32m   1053\u001b[0m         \u001b[0mfull_backward_hooks\u001b[0m\u001b[0;34m,\u001b[0m \u001b[0mnon_full_backward_hooks\u001b[0m \u001b[0;34m=\u001b[0m \u001b[0;34m[\u001b[0m\u001b[0;34m]\u001b[0m\u001b[0;34m,\u001b[0m \u001b[0;34m[\u001b[0m\u001b[0;34m]\u001b[0m\u001b[0;34m\u001b[0m\u001b[0;34m\u001b[0m\u001b[0m\n",
            "\u001b[0;32m<ipython-input-7-35c06ac5cef2>\u001b[0m in \u001b[0;36mforward\u001b[0;34m(self, x)\u001b[0m\n\u001b[1;32m     29\u001b[0m     \u001b[0;32mdef\u001b[0m \u001b[0mforward\u001b[0m\u001b[0;34m(\u001b[0m\u001b[0mself\u001b[0m\u001b[0;34m,\u001b[0m \u001b[0mx\u001b[0m\u001b[0;34m)\u001b[0m\u001b[0;34m:\u001b[0m\u001b[0;34m\u001b[0m\u001b[0;34m\u001b[0m\u001b[0m\n\u001b[1;32m     30\u001b[0m         \u001b[0mx\u001b[0m \u001b[0;34m=\u001b[0m \u001b[0mx\u001b[0m\u001b[0;34m.\u001b[0m\u001b[0munsqueeze\u001b[0m\u001b[0;34m(\u001b[0m\u001b[0;36m1\u001b[0m\u001b[0;34m)\u001b[0m\u001b[0;34m\u001b[0m\u001b[0;34m\u001b[0m\u001b[0m\n\u001b[0;32m---> 31\u001b[0;31m         \u001b[0mx\u001b[0m \u001b[0;34m=\u001b[0m \u001b[0mF\u001b[0m\u001b[0;34m.\u001b[0m\u001b[0mrelu\u001b[0m\u001b[0;34m(\u001b[0m\u001b[0mself\u001b[0m\u001b[0;34m.\u001b[0m\u001b[0me2econv1\u001b[0m\u001b[0;34m(\u001b[0m\u001b[0mx\u001b[0m\u001b[0;34m)\u001b[0m\u001b[0;34m)\u001b[0m\u001b[0;34m\u001b[0m\u001b[0;34m\u001b[0m\u001b[0m\n\u001b[0m\u001b[1;32m     32\u001b[0m         \u001b[0;31m#out = self.conv5_bn(out)\u001b[0m\u001b[0;34m\u001b[0m\u001b[0;34m\u001b[0m\u001b[0;34m\u001b[0m\u001b[0m\n\u001b[1;32m     33\u001b[0m         \u001b[0;31m#out = F.max_pool2d(out, 2)  # 적용한 마지막 output kernel size, kernel 영향 + 풀링 영향으로 줄어든 사이즈\u001b[0m\u001b[0;34m\u001b[0m\u001b[0;34m\u001b[0m\u001b[0;34m\u001b[0m\u001b[0m\n",
            "\u001b[0;32m/usr/local/lib/python3.7/dist-packages/torch/nn/modules/module.py\u001b[0m in \u001b[0;36m_call_impl\u001b[0;34m(self, *input, **kwargs)\u001b[0m\n\u001b[1;32m   1049\u001b[0m         if not (self._backward_hooks or self._forward_hooks or self._forward_pre_hooks or _global_backward_hooks\n\u001b[1;32m   1050\u001b[0m                 or _global_forward_hooks or _global_forward_pre_hooks):\n\u001b[0;32m-> 1051\u001b[0;31m             \u001b[0;32mreturn\u001b[0m \u001b[0mforward_call\u001b[0m\u001b[0;34m(\u001b[0m\u001b[0;34m*\u001b[0m\u001b[0minput\u001b[0m\u001b[0;34m,\u001b[0m \u001b[0;34m**\u001b[0m\u001b[0mkwargs\u001b[0m\u001b[0;34m)\u001b[0m\u001b[0;34m\u001b[0m\u001b[0;34m\u001b[0m\u001b[0m\n\u001b[0m\u001b[1;32m   1052\u001b[0m         \u001b[0;31m# Do not call functions when jit is used\u001b[0m\u001b[0;34m\u001b[0m\u001b[0;34m\u001b[0m\u001b[0;34m\u001b[0m\u001b[0m\n\u001b[1;32m   1053\u001b[0m         \u001b[0mfull_backward_hooks\u001b[0m\u001b[0;34m,\u001b[0m \u001b[0mnon_full_backward_hooks\u001b[0m \u001b[0;34m=\u001b[0m \u001b[0;34m[\u001b[0m\u001b[0;34m]\u001b[0m\u001b[0;34m,\u001b[0m \u001b[0;34m[\u001b[0m\u001b[0;34m]\u001b[0m\u001b[0;34m\u001b[0m\u001b[0;34m\u001b[0m\u001b[0m\n",
            "\u001b[0;32m<ipython-input-7-35c06ac5cef2>\u001b[0m in \u001b[0;36mforward\u001b[0;34m(self, x)\u001b[0m\n\u001b[1;32m      8\u001b[0m \u001b[0;34m\u001b[0m\u001b[0m\n\u001b[1;32m      9\u001b[0m     \u001b[0;32mdef\u001b[0m \u001b[0mforward\u001b[0m\u001b[0;34m(\u001b[0m\u001b[0mself\u001b[0m\u001b[0;34m,\u001b[0m \u001b[0mx\u001b[0m\u001b[0;34m)\u001b[0m\u001b[0;34m:\u001b[0m\u001b[0;34m\u001b[0m\u001b[0;34m\u001b[0m\u001b[0m\n\u001b[0;32m---> 10\u001b[0;31m         \u001b[0ma\u001b[0m \u001b[0;34m=\u001b[0m \u001b[0mself\u001b[0m\u001b[0;34m.\u001b[0m\u001b[0mcnn1\u001b[0m\u001b[0;34m(\u001b[0m\u001b[0mx\u001b[0m\u001b[0;34m)\u001b[0m\u001b[0;34m\u001b[0m\u001b[0;34m\u001b[0m\u001b[0m\n\u001b[0m\u001b[1;32m     11\u001b[0m         \u001b[0mb\u001b[0m \u001b[0;34m=\u001b[0m \u001b[0mself\u001b[0m\u001b[0;34m.\u001b[0m\u001b[0mcnn2\u001b[0m\u001b[0;34m(\u001b[0m\u001b[0mx\u001b[0m\u001b[0;34m)\u001b[0m\u001b[0;34m\u001b[0m\u001b[0;34m\u001b[0m\u001b[0m\n\u001b[1;32m     12\u001b[0m \u001b[0;34m\u001b[0m\u001b[0m\n",
            "\u001b[0;32m/usr/local/lib/python3.7/dist-packages/torch/nn/modules/module.py\u001b[0m in \u001b[0;36m_call_impl\u001b[0;34m(self, *input, **kwargs)\u001b[0m\n\u001b[1;32m   1049\u001b[0m         if not (self._backward_hooks or self._forward_hooks or self._forward_pre_hooks or _global_backward_hooks\n\u001b[1;32m   1050\u001b[0m                 or _global_forward_hooks or _global_forward_pre_hooks):\n\u001b[0;32m-> 1051\u001b[0;31m             \u001b[0;32mreturn\u001b[0m \u001b[0mforward_call\u001b[0m\u001b[0;34m(\u001b[0m\u001b[0;34m*\u001b[0m\u001b[0minput\u001b[0m\u001b[0;34m,\u001b[0m \u001b[0;34m**\u001b[0m\u001b[0mkwargs\u001b[0m\u001b[0;34m)\u001b[0m\u001b[0;34m\u001b[0m\u001b[0;34m\u001b[0m\u001b[0m\n\u001b[0m\u001b[1;32m   1052\u001b[0m         \u001b[0;31m# Do not call functions when jit is used\u001b[0m\u001b[0;34m\u001b[0m\u001b[0;34m\u001b[0m\u001b[0;34m\u001b[0m\u001b[0m\n\u001b[1;32m   1053\u001b[0m         \u001b[0mfull_backward_hooks\u001b[0m\u001b[0;34m,\u001b[0m \u001b[0mnon_full_backward_hooks\u001b[0m \u001b[0;34m=\u001b[0m \u001b[0;34m[\u001b[0m\u001b[0;34m]\u001b[0m\u001b[0;34m,\u001b[0m \u001b[0;34m[\u001b[0m\u001b[0;34m]\u001b[0m\u001b[0;34m\u001b[0m\u001b[0;34m\u001b[0m\u001b[0m\n",
            "\u001b[0;32m/usr/local/lib/python3.7/dist-packages/torch/nn/modules/conv.py\u001b[0m in \u001b[0;36mforward\u001b[0;34m(self, input)\u001b[0m\n\u001b[1;32m    441\u001b[0m \u001b[0;34m\u001b[0m\u001b[0m\n\u001b[1;32m    442\u001b[0m     \u001b[0;32mdef\u001b[0m \u001b[0mforward\u001b[0m\u001b[0;34m(\u001b[0m\u001b[0mself\u001b[0m\u001b[0;34m,\u001b[0m \u001b[0minput\u001b[0m\u001b[0;34m:\u001b[0m \u001b[0mTensor\u001b[0m\u001b[0;34m)\u001b[0m \u001b[0;34m->\u001b[0m \u001b[0mTensor\u001b[0m\u001b[0;34m:\u001b[0m\u001b[0;34m\u001b[0m\u001b[0;34m\u001b[0m\u001b[0m\n\u001b[0;32m--> 443\u001b[0;31m         \u001b[0;32mreturn\u001b[0m \u001b[0mself\u001b[0m\u001b[0;34m.\u001b[0m\u001b[0m_conv_forward\u001b[0m\u001b[0;34m(\u001b[0m\u001b[0minput\u001b[0m\u001b[0;34m,\u001b[0m \u001b[0mself\u001b[0m\u001b[0;34m.\u001b[0m\u001b[0mweight\u001b[0m\u001b[0;34m,\u001b[0m \u001b[0mself\u001b[0m\u001b[0;34m.\u001b[0m\u001b[0mbias\u001b[0m\u001b[0;34m)\u001b[0m\u001b[0;34m\u001b[0m\u001b[0;34m\u001b[0m\u001b[0m\n\u001b[0m\u001b[1;32m    444\u001b[0m \u001b[0;34m\u001b[0m\u001b[0m\n\u001b[1;32m    445\u001b[0m \u001b[0;32mclass\u001b[0m \u001b[0mConv3d\u001b[0m\u001b[0;34m(\u001b[0m\u001b[0m_ConvNd\u001b[0m\u001b[0;34m)\u001b[0m\u001b[0;34m:\u001b[0m\u001b[0;34m\u001b[0m\u001b[0;34m\u001b[0m\u001b[0m\n",
            "\u001b[0;32m/usr/local/lib/python3.7/dist-packages/torch/nn/modules/conv.py\u001b[0m in \u001b[0;36m_conv_forward\u001b[0;34m(self, input, weight, bias)\u001b[0m\n\u001b[1;32m    438\u001b[0m                             _pair(0), self.dilation, self.groups)\n\u001b[1;32m    439\u001b[0m         return F.conv2d(input, weight, bias, self.stride,\n\u001b[0;32m--> 440\u001b[0;31m                         self.padding, self.dilation, self.groups)\n\u001b[0m\u001b[1;32m    441\u001b[0m \u001b[0;34m\u001b[0m\u001b[0m\n\u001b[1;32m    442\u001b[0m     \u001b[0;32mdef\u001b[0m \u001b[0mforward\u001b[0m\u001b[0;34m(\u001b[0m\u001b[0mself\u001b[0m\u001b[0;34m,\u001b[0m \u001b[0minput\u001b[0m\u001b[0;34m:\u001b[0m \u001b[0mTensor\u001b[0m\u001b[0;34m)\u001b[0m \u001b[0;34m->\u001b[0m \u001b[0mTensor\u001b[0m\u001b[0;34m:\u001b[0m\u001b[0;34m\u001b[0m\u001b[0;34m\u001b[0m\u001b[0m\n",
            "\u001b[0;31mKeyboardInterrupt\u001b[0m: "
          ]
        }
      ]
    },
    {
      "cell_type": "code",
      "metadata": {
        "colab": {
          "base_uri": "https://localhost:8080/",
          "height": 366
        },
        "id": "Hmc1UoWF8_gP",
        "outputId": "05a5a50c-14b1-4620-b920-a68aab141059"
      },
      "source": [
        "import matplotlib.pyplot as plt\n",
        "\n",
        "plt.figure(figsize=(20,5))\n",
        "plt.title(\"Training and Validation Loss\")\n",
        "plt.plot(np.array(vloss), label=\"valid\")\n",
        "plt.plot(np.array(tloss), label=\"train\")\n",
        "plt.xlabel(\"Epochs\")\n",
        "plt.ylabel(\"Loss\")\n",
        "plt.legend()"
      ],
      "execution_count": 132,
      "outputs": [
        {
          "output_type": "execute_result",
          "data": {
            "text/plain": [
              "<matplotlib.legend.Legend at 0x7fbdb8f49350>"
            ]
          },
          "metadata": {},
          "execution_count": 132
        },
        {
          "output_type": "display_data",
          "data": {
            "image/png": "[encoded data removed]",
            "text/plain": [
              "<Figure size 1440x360 with 1 Axes>"
            ]
          },
          "metadata": {
            "needs_background": "light"
          }
        }
      ]
    },
    {
      "cell_type": "code",
      "metadata": {
        "colab": {
          "base_uri": "https://localhost:8080/"
        },
        "id": "Ql7wbGf5-LiJ",
        "outputId": "95d4134c-dae0-471f-fa56-c4875f5d9832"
      },
      "source": [
        "# RMSE\n",
        "\n",
        "model.eval()\n",
        "test_loss = 0\n",
        "with torch.no_grad():\n",
        "    for x, y in test_loader:\n",
        "        x, y = x.cuda().float(), y.cuda()       \n",
        "        o = model(x)\n",
        "        loss = torch.sqrt(loss_function(o.squeeze(), y))\n",
        "        \n",
        "        test_loss += loss.item()\n",
        "print('====> Test set loss: {:.4f}'.format(test_loss / len(test_loader)))"
      ],
      "execution_count": 133,
      "outputs": [
        {
          "output_type": "stream",
          "text": [
            "====> Test set loss: 2.4765\n"
          ],
          "name": "stdout"
        }
      ]
    },
    {
      "cell_type": "code",
      "metadata": {
        "colab": {
          "base_uri": "https://localhost:8080/"
        },
        "id": "dz3tCr5EASYn",
        "outputId": "e95af10f-2cf9-492b-ec30-0d9b5680eddf"
      },
      "source": [
        "# R square\n",
        "o=model(x_val.cuda())\n",
        "r2(o.squeeze(), y_val.cuda())"
      ],
      "execution_count": 134,
      "outputs": [
        {
          "output_type": "execute_result",
          "data": {
            "text/plain": [
              "tensor(0.7974, device='cuda:0', grad_fn=<RsubBackward1>)"
            ]
          },
          "metadata": {},
          "execution_count": 134
        }
      ]
    },
    {
      "cell_type": "code",
      "metadata": {
        "id": "kON6hc8zAUnf"
      },
      "source": [
        "#"
      ],
      "execution_count": 65,
      "outputs": []
    },
    {
      "cell_type": "code",
      "metadata": {
        "colab": {
          "base_uri": "https://localhost:8080/"
        },
        "id": "gakV_sJNAVBD",
        "outputId": "23590157-11c1-4264-ccb5-64edaeaa0b20"
      },
      "source": [
        "class E2EBlock(torch.nn.Module):\n",
        "    def __init__(self, in_dim, out_dim, bias=False):\n",
        "        super(E2EBlock, self).__init__()\n",
        "        self.cnn1 = torch.nn.Conv2d(in_dim, out_dim, (1, 27), bias=bias)\n",
        "        self.cnn2 = torch.nn.Conv2d(in_dim, out_dim, (27, 1), bias=bias)\n",
        "\n",
        "        #nn.init.xavier_uniform_(self.cnn2.weight)\n",
        "\n",
        "    def forward(self, x):\n",
        "        a = self.cnn1(x)\n",
        "        b = self.cnn2(x)\n",
        "\n",
        "        return torch.cat([a]*27, 3) + torch.cat([b]*27, 2)\n",
        "\n",
        "class BrainNetCNN(torch.nn.Module):\n",
        "    def __init__(self):\n",
        "        super(BrainNetCNN, self).__init__()\n",
        "        \n",
        "        self.e2econv1 = E2EBlock(1, 8, bias=True)\n",
        "        #self.conv5_bn = nn.BatchNorm2d(256)\n",
        "\n",
        "        self.E2N = torch.nn.Conv2d(8, 1, (1, 27))\n",
        "        self.N2G = torch.nn.Conv2d(1, 128, (27, 1))\n",
        "\n",
        "        self.fc1 = torch.nn.Linear(128, 64)\n",
        "        self.fc2 = torch.nn.Linear(64, 1)\n",
        "        #self.dense5 = torch.nn.Linear(16, 3)\n",
        "\n",
        "    def forward(self, x):\n",
        "        x = x.unsqueeze(1)\n",
        "        x = F.relu(self.e2econv1(x))\n",
        "        #out = self.conv5_bn(out)\n",
        "        #out = F.max_pool2d(out, 2)  # 적용한 마지막 output kernel size, kernel 영향 + 풀링 영향으로 줄어든 사이즈\n",
        "\n",
        "        x = F.relu(self.E2N(x))\n",
        "        x = F.relu(self.N2G(x))\n",
        "\n",
        "        x = x.view(x.size(0), -1)\n",
        "        x = F.relu(self.fc1(x))\n",
        "        x = self.fc2(x)\n",
        "        \n",
        "        #x = self.dense4_bn(x)\n",
        "\n",
        "        return x\n",
        "\n",
        "def weights_init(m):\n",
        "    #if isinstance(m, nn.Conv2d):\n",
        "    #    nn.init.xavier_normal_(m.weight.data, nn.init.calculate_gain('relu'))\n",
        "    if isinstance(m, nn.Linear):\n",
        "        nn.init.xavier_normal_(m.weight.data, nn.init.calculate_gain('relu'))\n",
        "        #m.bias.data[0] = 9.0844\n",
        "        \n",
        "        #if m.bias is not None:\n",
        "        #  nn.init.constant_(m.bias.data, 10)\n",
        "        #nn.init.xavier_normal_(m.bias.data)\n",
        "\n",
        "torch.manual_seed(42)\n",
        "model = BrainNetCNN().cuda()\n",
        "model.apply(weights_init)\n",
        "print(model)"
      ],
      "execution_count": 141,
      "outputs": [
        {
          "output_type": "stream",
          "text": [
            "BrainNetCNN(\n",
            "  (e2econv1): E2EBlock(\n",
            "    (cnn1): Conv2d(1, 8, kernel_size=(1, 27), stride=(1, 1))\n",
            "    (cnn2): Conv2d(1, 8, kernel_size=(27, 1), stride=(1, 1))\n",
            "  )\n",
            "  (E2N): Conv2d(8, 1, kernel_size=(1, 27), stride=(1, 1))\n",
            "  (N2G): Conv2d(1, 128, kernel_size=(27, 1), stride=(1, 1))\n",
            "  (fc1): Linear(in_features=128, out_features=64, bias=True)\n",
            "  (fc2): Linear(in_features=64, out_features=1, bias=True)\n",
            ")\n"
          ],
          "name": "stdout"
        }
      ]
    },
    {
      "cell_type": "code",
      "metadata": {
        "colab": {
          "base_uri": "https://localhost:8080/"
        },
        "id": "GWWAyIOgGx6r",
        "outputId": "8b8018e9-3666-4aa4-9673-91c2b86aaed4"
      },
      "source": [
        "# the number of trainable parameter\n",
        "sum(p.numel() for p in model.parameters() if p.requires_grad)"
      ],
      "execution_count": 142,
      "outputs": [
        {
          "output_type": "execute_result",
          "data": {
            "text/plain": [
              "12570"
            ]
          },
          "metadata": {},
          "execution_count": 142
        }
      ]
    },
    {
      "cell_type": "code",
      "metadata": {
        "colab": {
          "base_uri": "https://localhost:8080/"
        },
        "id": "kzmfl8BcG0IR",
        "outputId": "f544bcc8-6856-4b74-d553-2971100f5d0a"
      },
      "source": [
        "import torch.optim as optim\n",
        "optimizer = optim.Adam(model.parameters(), lr=1e-4)#5e-6\n",
        "loss_function = nn.MSELoss()\n",
        "epochs = 1\n",
        "\n",
        "# for loss plot\n",
        "tloss = []\n",
        "vloss = []\n",
        "\n",
        "for e in range(1, epochs+1):\n",
        "    train(model, tloss, e)\n",
        "    test(model, vloss)\n",
        "\n",
        "y_pred = test_pred(model)"
      ],
      "execution_count": 161,
      "outputs": [
        {
          "output_type": "stream",
          "text": [
            "====> Epoch: 1 loss: 3.8156\n",
            "====> Test set loss: 7.1315\n",
            "====> Test set loss: 7.1315\n"
          ],
          "name": "stdout"
        }
      ]
    },
    {
      "cell_type": "code",
      "metadata": {
        "colab": {
          "base_uri": "https://localhost:8080/"
        },
        "id": "Q7qVbYHaG2fX",
        "outputId": "2b84fd39-7252-484c-bf2b-94a7c9bb62e8"
      },
      "source": [
        "# RMSE\n",
        "\n",
        "model.eval()\n",
        "test_loss = 0\n",
        "with torch.no_grad():\n",
        "    for x, y in test_loader:\n",
        "        x, y = x.cuda().float(), y.cuda()       \n",
        "        o = model(x)\n",
        "        loss = torch.sqrt(loss_function(o.squeeze(), y))\n",
        "        \n",
        "        test_loss += loss.item()\n",
        "print('====> Test set loss: {:.4f}'.format(test_loss / len(test_loader)))"
      ],
      "execution_count": 162,
      "outputs": [
        {
          "output_type": "stream",
          "text": [
            "====> Test set loss: 2.4952\n"
          ],
          "name": "stdout"
        }
      ]
    },
    {
      "cell_type": "code",
      "metadata": {
        "colab": {
          "base_uri": "https://localhost:8080/"
        },
        "id": "ARXnp58XG4nV",
        "outputId": "5f5744aa-cfb9-45c7-f029-e2b7bf375308"
      },
      "source": [
        "# R square\n",
        "o = model(x_val.cuda())\n",
        "r2(o.squeeze(), y_val.cuda())"
      ],
      "execution_count": 163,
      "outputs": [
        {
          "output_type": "execute_result",
          "data": {
            "text/plain": [
              "tensor(0.7950, device='cuda:0', grad_fn=<RsubBackward1>)"
            ]
          },
          "metadata": {},
          "execution_count": 163
        }
      ]
    },
    {
      "cell_type": "code",
      "metadata": {
        "id": "KyLM19RYHYQy"
      },
      "source": [
        "#"
      ],
      "execution_count": 164,
      "outputs": []
    },
    {
      "cell_type": "code",
      "metadata": {
        "colab": {
          "base_uri": "https://localhost:8080/"
        },
        "id": "CyDQ-X_nH9iH",
        "outputId": "aeddeaa0-bb3f-4e7d-bb21-a14d06bee833"
      },
      "source": [
        "class E2EBlock(torch.nn.Module):\n",
        "    def __init__(self, in_dim, out_dim, bias=False):\n",
        "        super(E2EBlock, self).__init__()\n",
        "        self.cnn1 = torch.nn.Conv2d(in_dim, out_dim, (1, 27), bias=bias)\n",
        "        self.cnn2 = torch.nn.Conv2d(in_dim, out_dim, (27, 1), bias=bias)\n",
        "\n",
        "        #nn.init.xavier_uniform_(self.cnn2.weight)\n",
        "\n",
        "    def forward(self, x):\n",
        "        a = self.cnn1(x)\n",
        "        b = self.cnn2(x)\n",
        "\n",
        "        return torch.cat([a]*27, 3) + torch.cat([b]*27, 2)\n",
        "\n",
        "class BrainNetCNN(torch.nn.Module):\n",
        "    def __init__(self):\n",
        "        super(BrainNetCNN, self).__init__()\n",
        "        \n",
        "        self.e2econv1 = E2EBlock(1, 8, bias=True)\n",
        "        #self.conv5_bn = nn.BatchNorm2d(256)\n",
        "\n",
        "        self.E2N = torch.nn.Conv2d(8, 1, (1, 27))\n",
        "        self.N2G = torch.nn.Conv2d(1, 16, (27, 1))\n",
        "\n",
        "        self.fc1 = torch.nn.Linear(16, 8)\n",
        "        self.fc2 = torch.nn.Linear(8, 4)\n",
        "        self.fc3 = torch.nn.Linear(4, 2)\n",
        "        self.fc4 = torch.nn.Linear(2, 2)\n",
        "        self.fc5 = torch.nn.Linear(2, 1)\n",
        "\n",
        "    def forward(self, x):\n",
        "        x = x.unsqueeze(1)\n",
        "        x = F.relu(self.e2econv1(x))\n",
        "        #out = self.conv5_bn(out)\n",
        "        #out = F.max_pool2d(out, 2)  # 적용한 마지막 output kernel size, kernel 영향 + 풀링 영향으로 줄어든 사이즈\n",
        "\n",
        "        x = F.relu(self.E2N(x))\n",
        "        x = F.relu(self.N2G(x))\n",
        "\n",
        "        x = x.view(x.size(0), -1)\n",
        "        x = F.relu(self.fc1(x))\n",
        "        x = F.relu(self.fc2(x))\n",
        "        x = F.relu(self.fc3(x))\n",
        "        x = F.relu(self.fc4(x))\n",
        "        x = self.fc5(x)\n",
        "        \n",
        "        #x = self.dense4_bn(x)\n",
        "\n",
        "        return x\n",
        "\n",
        "def weights_init(m):\n",
        "    #if isinstance(m, nn.Conv2d):\n",
        "    #    nn.init.xavier_normal_(m.weight.data, nn.init.calculate_gain('relu'))\n",
        "    if isinstance(m, nn.Linear):\n",
        "        nn.init.xavier_normal_(m.weight.data, nn.init.calculate_gain('relu'))\n",
        "        #m.bias.data[0] = 9.0844\n",
        "        \n",
        "        #if m.bias is not None:\n",
        "        #  nn.init.constant_(m.bias.data, 10)\n",
        "        #nn.init.xavier_normal_(m.bias.data)\n",
        "\n",
        "torch.manual_seed(42)\n",
        "model = BrainNetCNN().cuda()\n",
        "model.apply(weights_init)\n",
        "print(model)"
      ],
      "execution_count": 131,
      "outputs": [
        {
          "output_type": "stream",
          "text": [
            "BrainNetCNN(\n",
            "  (e2econv1): E2EBlock(\n",
            "    (cnn1): Conv2d(1, 8, kernel_size=(1, 27), stride=(1, 1))\n",
            "    (cnn2): Conv2d(1, 8, kernel_size=(27, 1), stride=(1, 1))\n",
            "  )\n",
            "  (E2N): Conv2d(8, 1, kernel_size=(1, 27), stride=(1, 1))\n",
            "  (N2G): Conv2d(1, 16, kernel_size=(27, 1), stride=(1, 1))\n",
            "  (fc1): Linear(in_features=16, out_features=8, bias=True)\n",
            "  (fc2): Linear(in_features=8, out_features=4, bias=True)\n",
            "  (fc3): Linear(in_features=4, out_features=2, bias=True)\n",
            "  (fc4): Linear(in_features=2, out_features=2, bias=True)\n",
            "  (fc5): Linear(in_features=2, out_features=1, bias=True)\n",
            ")\n"
          ],
          "name": "stdout"
        }
      ]
    },
    {
      "cell_type": "code",
      "metadata": {
        "colab": {
          "base_uri": "https://localhost:8080/"
        },
        "id": "lklO9PWyH_KY",
        "outputId": "e916f132-5e5f-424b-e266-bba6decf7b38"
      },
      "source": [
        "# the number of trainable parameter\n",
        "sum(p.numel() for p in model.parameters() if p.requires_grad)"
      ],
      "execution_count": 132,
      "outputs": [
        {
          "output_type": "execute_result",
          "data": {
            "text/plain": [
              "1304"
            ]
          },
          "metadata": {},
          "execution_count": 132
        }
      ]
    },
    {
      "cell_type": "code",
      "metadata": {
        "colab": {
          "base_uri": "https://localhost:8080/"
        },
        "id": "IvK-uVphICKR",
        "outputId": "d9ff99f9-fec4-437d-a870-57d35a231f3e"
      },
      "source": [
        "import torch.optim as optim\n",
        "optimizer = optim.Adam(model.parameters(), lr=1e-3)#5e-6\n",
        "loss_function = nn.MSELoss()\n",
        "epochs = 100 #33 #37 #33 #28 #37 #51  \n",
        "\n",
        "# for loss plot\n",
        "tloss = []\n",
        "vloss = []\n",
        "\n",
        "for e in range(1, epochs+1):\n",
        "    train(model, tloss, e)\n",
        "    test(model, vloss)\n",
        "\n",
        "y_pred = test_pred(model)"
      ],
      "execution_count": 133,
      "outputs": [
        {
          "output_type": "stream",
          "text": [
            "====> Epoch: 1 loss: 114.2715\n",
            "====> Test set loss: 110.4504\n",
            "====> Epoch: 2 loss: 107.9020\n",
            "====> Test set loss: 104.1856\n",
            "====> Epoch: 3 loss: 101.9924\n",
            "====> Test set loss: 98.3522\n",
            "====> Epoch: 4 loss: 96.4345\n",
            "====> Test set loss: 92.8169\n",
            "====> Epoch: 5 loss: 91.2231\n",
            "====> Test set loss: 87.6600\n",
            "====> Epoch: 6 loss: 86.3654\n",
            "====> Test set loss: 82.8486\n",
            "====> Epoch: 7 loss: 81.8202\n",
            "====> Test set loss: 78.3557\n",
            "====> Epoch: 8 loss: 77.5770\n",
            "====> Test set loss: 74.1175\n",
            "====> Epoch: 9 loss: 73.6050\n",
            "====> Test set loss: 70.1863\n",
            "====> Epoch: 10 loss: 69.9087\n",
            "====> Test set loss: 66.5144\n",
            "====> Epoch: 11 loss: 66.4872\n",
            "====> Test set loss: 63.0936\n",
            "====> Epoch: 12 loss: 63.3223\n",
            "====> Test set loss: 59.9670\n",
            "====> Epoch: 13 loss: 60.4224\n",
            "====> Test set loss: 57.0837\n",
            "====> Epoch: 14 loss: 57.7447\n",
            "====> Test set loss: 54.4244\n",
            "====> Epoch: 15 loss: 55.2878\n",
            "====> Test set loss: 51.9822\n",
            "====> Epoch: 16 loss: 53.0515\n",
            "====> Test set loss: 49.7479\n",
            "====> Epoch: 17 loss: 51.0250\n",
            "====> Test set loss: 47.7276\n",
            "====> Epoch: 18 loss: 49.2174\n",
            "====> Test set loss: 45.9408\n",
            "====> Epoch: 19 loss: 47.6069\n",
            "====> Test set loss: 44.3203\n",
            "====> Epoch: 20 loss: 46.1866\n",
            "====> Test set loss: 42.9142\n",
            "====> Epoch: 21 loss: 44.9424\n",
            "====> Test set loss: 41.6730\n",
            "====> Epoch: 22 loss: 43.8532\n",
            "====> Test set loss: 40.5783\n",
            "====> Epoch: 23 loss: 42.9079\n",
            "====> Test set loss: 39.6366\n",
            "====> Epoch: 24 loss: 42.0943\n",
            "====> Test set loss: 38.8155\n",
            "====> Epoch: 25 loss: 41.4060\n",
            "====> Test set loss: 38.1177\n",
            "====> Epoch: 26 loss: 40.8356\n",
            "====> Test set loss: 37.5427\n",
            "====> Epoch: 27 loss: 40.3597\n",
            "====> Test set loss: 37.0507\n",
            "====> Epoch: 28 loss: 39.9691\n",
            "====> Test set loss: 36.6600\n",
            "====> Epoch: 29 loss: 39.6498\n",
            "====> Test set loss: 36.3239\n",
            "====> Epoch: 30 loss: 39.3869\n",
            "====> Test set loss: 36.0455\n",
            "====> Epoch: 31 loss: 39.1731\n",
            "====> Test set loss: 35.8144\n",
            "====> Epoch: 32 loss: 39.0041\n",
            "====> Test set loss: 35.6222\n",
            "====> Epoch: 33 loss: 38.8671\n",
            "====> Test set loss: 35.4784\n",
            "====> Epoch: 34 loss: 38.7579\n",
            "====> Test set loss: 35.3537\n",
            "====> Epoch: 35 loss: 38.6738\n",
            "====> Test set loss: 35.2546\n",
            "====> Epoch: 36 loss: 38.6087\n",
            "====> Test set loss: 35.1723\n",
            "====> Epoch: 37 loss: 38.5565\n",
            "====> Test set loss: 35.1080\n",
            "====> Epoch: 38 loss: 38.5152\n",
            "====> Test set loss: 35.0597\n",
            "====> Epoch: 39 loss: 38.4859\n",
            "====> Test set loss: 35.0158\n",
            "====> Epoch: 40 loss: 38.4608\n",
            "====> Test set loss: 34.9807\n",
            "====> Epoch: 41 loss: 38.4424\n",
            "====> Test set loss: 34.9542\n",
            "====> Epoch: 42 loss: 38.4285\n",
            "====> Test set loss: 34.9307\n",
            "====> Epoch: 43 loss: 38.4167\n",
            "====> Test set loss: 34.9090\n",
            "====> Epoch: 44 loss: 38.4080\n",
            "====> Test set loss: 34.8945\n",
            "====> Epoch: 45 loss: 38.4012\n",
            "====> Test set loss: 34.8831\n",
            "====> Epoch: 46 loss: 38.3959\n",
            "====> Test set loss: 34.8724\n",
            "====> Epoch: 47 loss: 38.3918\n",
            "====> Test set loss: 34.8657\n",
            "====> Epoch: 48 loss: 38.3892\n",
            "====> Test set loss: 34.8554\n",
            "====> Epoch: 49 loss: 38.3863\n",
            "====> Test set loss: 34.8516\n",
            "====> Epoch: 50 loss: 38.3845\n",
            "====> Test set loss: 34.8467\n",
            "====> Epoch: 51 loss: 38.3823\n",
            "====> Test set loss: 34.8406\n",
            "====> Epoch: 52 loss: 38.3820\n",
            "====> Test set loss: 34.8358\n",
            "====> Epoch: 53 loss: 38.3811\n",
            "====> Test set loss: 34.8345\n",
            "====> Epoch: 54 loss: 38.3809\n",
            "====> Test set loss: 34.8315\n",
            "====> Epoch: 55 loss: 38.3790\n",
            "====> Test set loss: 34.8285\n",
            "====> Epoch: 56 loss: 38.3785\n",
            "====> Test set loss: 34.8262\n",
            "====> Epoch: 57 loss: 38.3778\n",
            "====> Test set loss: 34.8244\n",
            "====> Epoch: 58 loss: 38.3779\n",
            "====> Test set loss: 34.8239\n",
            "====> Epoch: 59 loss: 38.3785\n",
            "====> Test set loss: 34.8220\n",
            "====> Epoch: 60 loss: 38.3781\n",
            "====> Test set loss: 34.8211\n",
            "====> Epoch: 61 loss: 38.3779\n",
            "====> Test set loss: 34.8196\n",
            "====> Epoch: 62 loss: 38.3782\n",
            "====> Test set loss: 34.8193\n",
            "====> Epoch: 63 loss: 38.3770\n",
            "====> Test set loss: 34.8176\n",
            "====> Epoch: 64 loss: 38.3784\n",
            "====> Test set loss: 34.8180\n",
            "====> Epoch: 65 loss: 38.3776\n",
            "====> Test set loss: 34.8173\n",
            "====> Epoch: 66 loss: 38.3779\n",
            "====> Test set loss: 34.8169\n",
            "====> Epoch: 67 loss: 38.3778\n",
            "====> Test set loss: 34.8169\n",
            "====> Epoch: 68 loss: 38.3778\n",
            "====> Test set loss: 34.8165\n",
            "====> Epoch: 69 loss: 38.3771\n",
            "====> Test set loss: 34.8160\n",
            "====> Epoch: 70 loss: 38.3768\n",
            "====> Test set loss: 34.8149\n",
            "====> Epoch: 71 loss: 38.3764\n",
            "====> Test set loss: 34.8151\n",
            "====> Epoch: 72 loss: 38.3775\n",
            "====> Test set loss: 34.8153\n",
            "====> Epoch: 73 loss: 38.3777\n",
            "====> Test set loss: 34.8134\n",
            "====> Epoch: 74 loss: 38.3772\n",
            "====> Test set loss: 34.8131\n",
            "====> Epoch: 75 loss: 38.3781\n",
            "====> Test set loss: 34.8151\n",
            "====> Epoch: 76 loss: 38.3775\n",
            "====> Test set loss: 34.8132\n",
            "====> Epoch: 77 loss: 38.3773\n",
            "====> Test set loss: 34.8126\n",
            "====> Epoch: 78 loss: 38.3772\n",
            "====> Test set loss: 34.8133\n",
            "====> Epoch: 79 loss: 38.3776\n",
            "====> Test set loss: 34.8128\n",
            "====> Epoch: 80 loss: 38.3773\n",
            "====> Test set loss: 34.8129\n",
            "====> Epoch: 81 loss: 38.3771\n",
            "====> Test set loss: 34.8127\n",
            "====> Epoch: 82 loss: 38.3784\n",
            "====> Test set loss: 34.8117\n",
            "====> Epoch: 83 loss: 38.3769\n",
            "====> Test set loss: 34.8117\n",
            "====> Epoch: 84 loss: 38.3772\n",
            "====> Test set loss: 34.8115\n",
            "====> Epoch: 85 loss: 38.3775\n",
            "====> Test set loss: 34.8118\n",
            "====> Epoch: 86 loss: 38.3773\n",
            "====> Test set loss: 34.8114\n",
            "====> Epoch: 87 loss: 38.3769\n",
            "====> Test set loss: 34.8116\n",
            "====> Epoch: 88 loss: 38.3774\n",
            "====> Test set loss: 34.8132\n",
            "====> Epoch: 89 loss: 38.3771\n",
            "====> Test set loss: 34.8123\n",
            "====> Epoch: 90 loss: 38.3787\n",
            "====> Test set loss: 34.8132\n",
            "====> Epoch: 91 loss: 38.3765\n",
            "====> Test set loss: 34.8126\n",
            "====> Epoch: 92 loss: 38.3760\n",
            "====> Test set loss: 34.8131\n",
            "====> Epoch: 93 loss: 38.3778\n",
            "====> Test set loss: 34.8112\n",
            "====> Epoch: 94 loss: 38.3774\n",
            "====> Test set loss: 34.8130\n",
            "====> Epoch: 95 loss: 38.3786\n",
            "====> Test set loss: 34.8123\n",
            "====> Epoch: 96 loss: 38.3781\n",
            "====> Test set loss: 34.8124\n",
            "====> Epoch: 97 loss: 38.3774\n",
            "====> Test set loss: 34.8113\n",
            "====> Epoch: 98 loss: 38.3773\n",
            "====> Test set loss: 34.8118\n",
            "====> Epoch: 99 loss: 38.3772\n",
            "====> Test set loss: 34.8117\n",
            "====> Epoch: 100 loss: 38.3787\n",
            "====> Test set loss: 34.8114\n",
            "====> Test set loss: 34.8114\n"
          ],
          "name": "stdout"
        }
      ]
    },
    {
      "cell_type": "code",
      "metadata": {
        "colab": {
          "base_uri": "https://localhost:8080/"
        },
        "id": "XclfCfxVjP88",
        "outputId": "8f79a664-9f6e-4ab4-ea18-1e51efe5b86c"
      },
      "source": [
        "np.argmin(vloss) + 1"
      ],
      "execution_count": 122,
      "outputs": [
        {
          "output_type": "execute_result",
          "data": {
            "text/plain": [
              "64"
            ]
          },
          "metadata": {},
          "execution_count": 122
        }
      ]
    },
    {
      "cell_type": "code",
      "metadata": {
        "colab": {
          "base_uri": "https://localhost:8080/"
        },
        "id": "TUL6-dCWIEFF",
        "outputId": "92e9fc4c-b895-4a76-f80d-966ddc569be4"
      },
      "source": [
        "# RMSE\n",
        "\n",
        "model.eval()\n",
        "test_loss = 0\n",
        "with torch.no_grad():\n",
        "    for x, y in test_loader:\n",
        "        x, y = x.cuda().float(), y.cuda()       \n",
        "        o = model(x)\n",
        "        loss = torch.sqrt(loss_function(o.squeeze(), y))\n",
        "        \n",
        "        test_loss += loss.item()\n",
        "print('====> Test set loss: {:.4f}'.format(test_loss / len(test_loader)))"
      ],
      "execution_count": 134,
      "outputs": [
        {
          "output_type": "stream",
          "text": [
            "====> Test set loss: 5.5550\n"
          ],
          "name": "stdout"
        }
      ]
    },
    {
      "cell_type": "code",
      "metadata": {
        "colab": {
          "base_uri": "https://localhost:8080/"
        },
        "id": "wi2IZnodIFNK",
        "outputId": "4abc883c-d3c5-4cbd-9a6e-21436a5f864d"
      },
      "source": [
        "# R square\n",
        "o = model(x_val.cuda())\n",
        "r2(o.squeeze(), y_val.cuda())"
      ],
      "execution_count": 135,
      "outputs": [
        {
          "output_type": "execute_result",
          "data": {
            "text/plain": [
              "tensor(-0.0009, device='cuda:0', grad_fn=<RsubBackward1>)"
            ]
          },
          "metadata": {},
          "execution_count": 135
        }
      ]
    },
    {
      "cell_type": "code",
      "metadata": {
        "colab": {
          "base_uri": "https://localhost:8080/",
          "height": 366
        },
        "id": "xQER9pAUIGhK",
        "outputId": "7e6daeb7-ef60-4e7a-b482-1b1b3632461f"
      },
      "source": [
        "import matplotlib.pyplot as plt\n",
        "\n",
        "plt.figure(figsize=(20,5))\n",
        "plt.title(\"Training and Validation Loss\")\n",
        "plt.plot(np.array(vloss), label=\"valid\")\n",
        "plt.plot(np.array(tloss), label=\"train\")\n",
        "plt.xlabel(\"Epochs\")\n",
        "plt.ylabel(\"Loss\")\n",
        "plt.legend()"
      ],
      "execution_count": 130,
      "outputs": [
        {
          "output_type": "execute_result",
          "data": {
            "text/plain": [
              "<matplotlib.legend.Legend at 0x7f7fa4c2ca10>"
            ]
          },
          "metadata": {},
          "execution_count": 130
        },
        {
          "output_type": "display_data",
          "data": {
            "image/png": "[encoded data removed]",
            "text/plain": [
              "<Figure size 1440x360 with 1 Axes>"
            ]
          },
          "metadata": {
            "needs_background": "light"
          }
        }
      ]
    },
    {
      "cell_type": "code",
      "metadata": {
        "id": "A1uqwvC4KROm"
      },
      "source": [
        ""
      ],
      "execution_count": null,
      "outputs": []
    }
  ]
}