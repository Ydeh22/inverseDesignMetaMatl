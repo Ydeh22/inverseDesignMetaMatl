{
  "nbformat": 4,
  "nbformat_minor": 0,
  "metadata": {
    "colab": {
      "name": "[r] target distribution.ipynb",
      "provenance": [],
      "authorship_tag": "ABX9TyMiolGX6jB1xykH2FSPFlIJ",
      "include_colab_link": true
    },
    "kernelspec": {
      "name": "python3",
      "display_name": "Python 3"
    },
    "language_info": {
      "name": "python"
    }
  },
  "cells": [
    {
      "cell_type": "markdown",
      "metadata": {
        "id": "view-in-github",
        "colab_type": "text"
      },
      "source": [
        "<a href=\"https://colab.research.google.com/github/taechanha/inverseDesignMetaMatl/blob/main/%5Br%5D_target_distribution.ipynb\" target=\"_parent\"><img src=\"https://colab.research.google.com/assets/colab-badge.svg\" alt=\"Open In Colab\"/></a>"
      ]
    },
    {
      "cell_type": "code",
      "metadata": {
        "colab": {
          "base_uri": "https://localhost:8080/"
        },
        "id": "zk88IedHuAOp",
        "outputId": "fa6985ab-c56d-45bc-ebca-2129f7a70d88"
      },
      "source": [
        "###################### FROM HERE ######################\n",
        "###################### FROM HERE ######################\n",
        "###################### FROM HERE ######################\n",
        "###################### FROM HERE ######################\n",
        "###################### FROM HERE ######################\n",
        "###################### FROM HERE ######################\n",
        "###################### FROM HERE ######################\n",
        "###################### FROM HERE ######################\n",
        "\n",
        "import numpy as np\n",
        "import matplotlib.pyplot as plt\n",
        "\n",
        "f = open(\"/content/dataset_2.txt\", 'r')\n",
        "data = []\n",
        "length = 0\n",
        "for i in f:\n",
        "  new = []\n",
        "  new.append(i)\n",
        "  data.append(new)\n",
        "  # length of dataset\n",
        "  length += 1\n",
        "\n",
        "f.close()\n",
        "\n",
        "# create dataset from data\n",
        "dataset = []\n",
        "for i in range(length):\n",
        "  new = []\n",
        "  for j in data[i][0].split(','):\n",
        "    new.append(float(j))\n",
        "  dataset.append(new)\n",
        "\n",
        "print(\"shape of dataset: \", np.array(dataset).shape)\n",
        "edge_index = dataset\n",
        "\n",
        "# trim out label from dataset\n",
        "# Ex Ey Ez\n",
        "label = []\n",
        "new = []\n",
        "for line in dataset:\n",
        "  tmp = []\n",
        "  tmp.append(line.pop(-1))\n",
        "  tmp.append(line.pop(-1))\n",
        "  tmp.append(line.pop(-1))\n",
        "  tmp.reverse()\n",
        "  label.append(tmp)\n",
        "\n",
        "print(\"label.shape: \", np.array(label).shape)\n",
        "\n",
        "# figure out max length of index list\n",
        "max = 0\n",
        "for i in dataset:\n",
        "    if max < np.sum(i):\n",
        "        max = np.sum(i)\n",
        "max = int(max)\n",
        "print(\"max: \", max)\n",
        "\n",
        "# create index list dataset\n",
        "d_tmp = []\n",
        "for i in dataset:\n",
        "    tmp = []\n",
        "    for e, j in enumerate(i):\n",
        "        if j == 1:\n",
        "            tmp.append(e+1)\n",
        "    if len(tmp) < max:\n",
        "        tmp += [0] * (max - len(tmp))\n",
        "    d_tmp.append(tmp)\n",
        "print(\"shape of idx_list: \", np.array(d_tmp).shape)\n",
        "idx_list = d_tmp\n",
        "\n",
        "\n",
        "# whole dataset to Tensor & train/test split\n",
        "import os\n",
        "import torch\n",
        "from torch.utils.data import Dataset\n",
        "from torchvision import datasets\n",
        "from torchvision.transforms import ToTensor\n",
        "import matplotlib.pyplot as plt\n",
        "\n",
        "idx_list = torch.FloatTensor(idx_list)\n",
        "label = torch.FloatTensor(label)\n",
        "\n",
        "split = int(length * 0.8)\n",
        "\n",
        "x_train = idx_list[:split]\n",
        "y_train = label[:split]\n",
        "x_val = idx_list[split:]\n",
        "y_val = label[split:]\n",
        "\n",
        "print(\"x_train, y_train, x_val shape: \", x_train.shape, y_train.shape, x_val.shape)\n",
        "\n",
        "# create torch dataset\n",
        "import os\n",
        "import torch\n",
        "from torch.utils.data import Dataset\n",
        "from torchvision import datasets\n",
        "from torchvision.transforms import ToTensor\n",
        "import matplotlib.pyplot as plt\n",
        "\n",
        "class CustomDataset(Dataset):\n",
        "    def __init__(self, label, dataset, transform=None, target_transform=None):\n",
        "        self.labels = label\n",
        "        self.dataset = dataset\n",
        "        self.transform = transform\n",
        "        self.target_transform = target_transform\n",
        "\n",
        "    def __len__(self):\n",
        "        return len(self.labels)\n",
        "\n",
        "    def __getitem__(self, idx):\n",
        "        data = self.dataset[idx]\n",
        "        label = self.labels[idx]\n",
        "        if self.transform:\n",
        "            data = self.transform(data)\n",
        "        if self.target_transform:\n",
        "            label = self.target_transform(label)\n",
        "        return data, label\n",
        "\n",
        "# create DataLoader\n",
        "from torch.utils.data import DataLoader\n",
        "\n",
        "training_data   = CustomDataset(label=y_train, dataset=x_train)\n",
        "test_data       = CustomDataset(label=y_val, dataset=x_val)\n",
        "train_loader    = DataLoader(training_data, batch_size=4, shuffle=True)\n",
        "test_loader     = DataLoader(test_data, batch_size=4, shuffle=False)"
      ],
      "execution_count": 1,
      "outputs": [
        {
          "output_type": "stream",
          "text": [
            "shape of dataset:  (2000, 354)\n",
            "label.shape:  (2000, 3)\n",
            "max:  32\n",
            "shape of idx_list:  (2000, 32)\n",
            "x_train, y_train, x_val shape:  torch.Size([1600, 32]) torch.Size([1600, 3]) torch.Size([400, 32])\n"
          ],
          "name": "stdout"
        }
      ]
    },
    {
      "cell_type": "code",
      "metadata": {
        "colab": {
          "base_uri": "https://localhost:8080/"
        },
        "id": "JQcLfwGQuCMx",
        "outputId": "d99f3215-51cc-4b46-9327-c0b5e0dc3cc4"
      },
      "source": [
        "y_train.shape"
      ],
      "execution_count": 2,
      "outputs": [
        {
          "output_type": "execute_result",
          "data": {
            "text/plain": [
              "torch.Size([1600, 3])"
            ]
          },
          "metadata": {},
          "execution_count": 2
        }
      ]
    },
    {
      "cell_type": "code",
      "metadata": {
        "colab": {
          "base_uri": "https://localhost:8080/",
          "height": 337
        },
        "id": "3gRMuhhHt3eQ",
        "outputId": "149a70ed-5112-4eb1-eb6b-0521682f4959"
      },
      "source": [
        "from sklearn.datasets import load_diabetes\n",
        "import matplotlib.pyplot as plt\n",
        "import seaborn as sns; sns.set()\n",
        "import pandas as pd\n",
        "\n",
        "#Organize Data\n",
        "SR_y = pd.Series(y_train[:, 0], name=\"Target value Distribution\")\n",
        "\n",
        "#Plot Data\n",
        "fig, ax = plt.subplots()\n",
        "sns.distplot(SR_y, color=\"g\", ax=ax)\n",
        "plt.show()"
      ],
      "execution_count": 34,
      "outputs": [
        {
          "output_type": "stream",
          "text": [
            "/usr/local/lib/python3.7/dist-packages/seaborn/distributions.py:2557: FutureWarning: `distplot` is a deprecated function and will be removed in a future version. Please adapt your code to use either `displot` (a figure-level function with similar flexibility) or `histplot` (an axes-level function for histograms).\n",
            "  warnings.warn(msg, FutureWarning)\n"
          ],
          "name": "stderr"
        },
        {
          "output_type": "display_data",
          "data": {
            "image/png": "[encoded data removed]",
            "text/plain": [
              "<Figure size 432x288 with 1 Axes>"
            ]
          },
          "metadata": {}
        }
      ]
    },
    {
      "cell_type": "code",
      "metadata": {
        "colab": {
          "base_uri": "https://localhost:8080/",
          "height": 337
        },
        "id": "lwdSLBgmxAIm",
        "outputId": "2574c98b-fae6-4476-e1e1-e889660c509d"
      },
      "source": [
        "from sklearn.datasets import load_diabetes\n",
        "import matplotlib.pyplot as plt\n",
        "import seaborn as sns; sns.set()\n",
        "import pandas as pd\n",
        "\n",
        "#Organize Data\n",
        "SR_y = pd.Series(y_train[:, 1], name=\"Target value Distribution\")\n",
        "\n",
        "#Plot Data\n",
        "fig, ax = plt.subplots()\n",
        "sns.distplot(SR_y, color=\"g\", ax=ax)\n",
        "plt.show()"
      ],
      "execution_count": 37,
      "outputs": [
        {
          "output_type": "stream",
          "text": [
            "/usr/local/lib/python3.7/dist-packages/seaborn/distributions.py:2557: FutureWarning: `distplot` is a deprecated function and will be removed in a future version. Please adapt your code to use either `displot` (a figure-level function with similar flexibility) or `histplot` (an axes-level function for histograms).\n",
            "  warnings.warn(msg, FutureWarning)\n"
          ],
          "name": "stderr"
        },
        {
          "output_type": "display_data",
          "data": {
            "image/png": "[encoded data removed]",
            "text/plain": [
              "<Figure size 432x288 with 1 Axes>"
            ]
          },
          "metadata": {}
        }
      ]
    },
    {
      "cell_type": "code",
      "metadata": {
        "colab": {
          "base_uri": "https://localhost:8080/",
          "height": 337
        },
        "id": "AN3t8nOSxAut",
        "outputId": "f49dbccf-8e96-415d-f6f4-b04bd5ac5c6d"
      },
      "source": [
        "from sklearn.datasets import load_diabetes\n",
        "import matplotlib.pyplot as plt\n",
        "import seaborn as sns; sns.set()\n",
        "import pandas as pd\n",
        "\n",
        "#Organize Data\n",
        "SR_y = pd.Series(y_train[:, 2], name=\"Target value Distribution\")\n",
        "\n",
        "#Plot Data\n",
        "fig, ax = plt.subplots()\n",
        "sns.distplot(SR_y, color=\"g\", ax=ax)\n",
        "plt.show()"
      ],
      "execution_count": 38,
      "outputs": [
        {
          "output_type": "stream",
          "text": [
            "/usr/local/lib/python3.7/dist-packages/seaborn/distributions.py:2557: FutureWarning: `distplot` is a deprecated function and will be removed in a future version. Please adapt your code to use either `displot` (a figure-level function with similar flexibility) or `histplot` (an axes-level function for histograms).\n",
            "  warnings.warn(msg, FutureWarning)\n"
          ],
          "name": "stderr"
        },
        {
          "output_type": "display_data",
          "data": {
            "image/png": "[encoded data removed]",
            "text/plain": [
              "<Figure size 432x288 with 1 Axes>"
            ]
          },
          "metadata": {}
        }
      ]
    },
    {
      "cell_type": "code",
      "metadata": {
        "id": "pdjjRnAsv2Xp"
      },
      "source": [
        "# ℎ=2×IQR×𝑛−1/3 . So the number of bins is (max−min)/ℎ"
      ],
      "execution_count": 25,
      "outputs": []
    },
    {
      "cell_type": "code",
      "metadata": {
        "colab": {
          "base_uri": "https://localhost:8080/"
        },
        "id": "gwh6kivquLSj",
        "outputId": "7b565e7c-500d-4e7b-ad0d-6877d0486924"
      },
      "source": [
        "q75, q25 = np.percentile(y_train[:, 0], [75 ,25])\n",
        "iqr = q75 - q25\n",
        "iqr"
      ],
      "execution_count": 24,
      "outputs": [
        {
          "output_type": "execute_result",
          "data": {
            "text/plain": [
              "8.135164141654968"
            ]
          },
          "metadata": {},
          "execution_count": 24
        }
      ]
    },
    {
      "cell_type": "code",
      "metadata": {
        "colab": {
          "base_uri": "https://localhost:8080/"
        },
        "id": "tYcmvMYhv-GV",
        "outputId": "58988d18-35cc-451f-ba13-16b8983719f0"
      },
      "source": [
        "h = 2 * iqr * len(y_train) ** (-1/3)\n",
        "max = torch.max(y_train[:, 0])\n",
        "min = torch.min(y_train[:, 0])\n",
        "nbin = int((max - min) / h)\n",
        "nbin"
      ],
      "execution_count": 32,
      "outputs": [
        {
          "output_type": "execute_result",
          "data": {
            "text/plain": [
              "24"
            ]
          },
          "metadata": {},
          "execution_count": 32
        }
      ]
    },
    {
      "cell_type": "code",
      "metadata": {
        "id": "i1FMEuxewT33"
      },
      "source": [
        ""
      ],
      "execution_count": null,
      "outputs": []
    }
  ]
}